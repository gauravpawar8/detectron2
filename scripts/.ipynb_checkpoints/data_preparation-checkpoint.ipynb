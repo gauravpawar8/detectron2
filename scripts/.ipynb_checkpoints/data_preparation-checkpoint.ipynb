{
 "cells": [
  {
   "cell_type": "markdown",
   "metadata": {},
   "source": [
    "### create the trainval and test list for idler dataset"
   ]
  },
  {
   "cell_type": "code",
   "execution_count": 1,
   "metadata": {},
   "outputs": [],
   "source": [
    "import os\n",
    "from random import shuffle"
   ]
  },
  {
   "cell_type": "code",
   "execution_count": 2,
   "metadata": {},
   "outputs": [],
   "source": [
    "# list_files = os.listdir('/home/ubuntu/gfav/repos/detectron2/datasets/VOC2007/JPEGImages/')\n",
    "# shuffle(list_files)\n",
    "# trainval_list = list_files[:300]\n",
    "# test_list = list_files[300:]\n",
    "# print(len(list_files), len(trainval_list), len(test_list))\n",
    "# # print('trainval_list:', trainval_list)\n",
    "# # print('test list:', test_list)"
   ]
  },
  {
   "cell_type": "code",
   "execution_count": 12,
   "metadata": {},
   "outputs": [
    {
     "name": "stdout",
     "output_type": "stream",
     "text": [
      "727 703 24\n"
     ]
    }
   ],
   "source": [
    "list_files = os.listdir('/home/ubuntu/gfav/repos/detectron2/datasets/VOC2007/JPEGImages/')\n",
    "trainval_list = []\n",
    "test_list = []\n",
    "for item in list_files:\n",
    "    if item[:4] == '3011':\n",
    "        test_list.append(item)\n",
    "    else:\n",
    "        try:\n",
    "            int(item[:-4])\n",
    "            trainval_list.append(item)\n",
    "        except:\n",
    "            continue\n",
    "print(len(list_files), len(trainval_list), len(test_list))\n"
   ]
  },
  {
   "cell_type": "code",
   "execution_count": 4,
   "metadata": {},
   "outputs": [],
   "source": [
    "# trainval_list = os.listdir('/home/ubuntu/gfav/data/phase2/rgb_frames_int/DJI_0002_0/')\n",
    "# # train_list = [element[:-4] for element in train_list_with_suffix]\n",
    "# test_list = os.listdir('/home/ubuntu/gfav/data/phase2/rgb_frames_int/DJI_0001_0/')\n",
    "# # test_list = [element[:-4] for element in test_list_with_suffix]\n",
    "# # print(train_list, test_list)"
   ]
  },
  {
   "cell_type": "code",
   "execution_count": 8,
   "metadata": {},
   "outputs": [],
   "source": [
    "# list_all = os.listdir('/home/ubuntu/gfav/repos/detectron2/datasets/VOC2007/JPEGImages/')\n",
    "# list_all_xml = os.listdir('/home/ubuntu/gfav/repos/detectron2/datasets/VOC2007/Annotations/')\n",
    "# list_3 = os.listdir('/home/ubuntu/gfav/repos/detectron2/datasets/VOC2007/JPEGImages_3/')\n",
    "# shuffle(list_3)\n",
    "# list_0 = os.listdir('/home/ubuntu/gfav/repos/detectron2/datasets/VOC2007/JPEGImages_0/')\n",
    "# shuffle(list_0)"
   ]
  },
  {
   "cell_type": "code",
   "execution_count": 13,
   "metadata": {},
   "outputs": [],
   "source": [
    "with open('/home/ubuntu/gfav/repos/detectron2/datasets/VOC2007/ImageSets/Main/trainval_exp15.txt', 'w') as f:\n",
    "    for item in trainval_list:\n",
    "        try:\n",
    "            int(item[:-4])\n",
    "        except:\n",
    "            continue\n",
    "        f.write(\"%s\\n\" % item[:-4])\n",
    "with open('/home/ubuntu/gfav/repos/detectron2/datasets/VOC2007/ImageSets/Main/test_exp15.txt', 'w') as f:\n",
    "    for item in test_list:\n",
    "        try:\n",
    "            int(item[:-4])\n",
    "        except:\n",
    "            continue\n",
    "        f.write(\"%s\\n\" % item[:-4])"
   ]
  },
  {
   "cell_type": "markdown",
   "metadata": {},
   "source": [
    "### visualize labels"
   ]
  },
  {
   "cell_type": "code",
   "execution_count": 1,
   "metadata": {},
   "outputs": [],
   "source": [
    "import os\n",
    "import xml.etree.ElementTree as ET\n",
    "import cv2\n",
    "import numpy as np\n",
    "from matplotlib import pyplot as plt\n",
    "from matplotlib.pyplot import figure"
   ]
  },
  {
   "cell_type": "code",
   "execution_count": 2,
   "metadata": {},
   "outputs": [],
   "source": [
    "list_files = os.listdir('/home/ubuntu/gfav/repos/detectron2/datasets/VOC2007/Annotations/')"
   ]
  },
  {
   "cell_type": "code",
   "execution_count": 3,
   "metadata": {
    "scrolled": true
   },
   "outputs": [
    {
     "name": "stdout",
     "output_type": "stream",
     "text": [
      "0002000048.xml\n",
      "idler\n",
      "idler\n",
      "idler\n",
      "idler\n",
      "idler\n",
      "idler\n",
      "idler\n",
      "idler\n",
      "idler\n",
      "idler\n",
      "idler\n",
      "idler\n",
      "0002000049.xml\n",
      "idler\n",
      "idler\n",
      "idler\n",
      "idler\n",
      "idler\n",
      "idler\n",
      "idler\n",
      "idler\n",
      "idler\n",
      "idler\n",
      "idler\n",
      "idler\n",
      "0001200108.xml\n",
      "idler\n",
      "idler\n",
      "idler\n",
      "idler\n",
      "idler\n",
      "idler\n",
      "idler\n",
      "idler\n",
      "0003000058.xml\n",
      "idler\n",
      "idler\n",
      "idler\n",
      "idler\n",
      "idler\n",
      "idler\n",
      "idler\n",
      "idler\n",
      "idler\n",
      "idler\n",
      "idler\n",
      "idler\n",
      "idler\n",
      "idler\n",
      "0001200029.xml\n",
      "idler\n",
      "idler\n",
      "idler\n",
      "idler\n",
      "idler\n",
      "idler\n",
      "idler\n",
      "idler\n",
      "idler\n",
      "idler\n",
      "idler\n",
      "idler\n",
      "idler\n",
      "0001200051.xml\n",
      "idler\n",
      "idler\n",
      "idler\n",
      "idler\n",
      "idler\n",
      "idler\n",
      "0001000027.xml\n",
      "idler\n",
      "idler\n",
      "idler\n",
      "idler\n",
      "idler\n",
      "0002100038.xml\n",
      "idler\n",
      "idler\n",
      "idler\n",
      "idler\n",
      "idler\n",
      "idler\n",
      "idler\n",
      "0003000012.xml\n",
      "idler\n",
      "idler\n",
      "idler\n",
      "idler\n",
      "idler\n",
      "idler\n",
      "idler\n",
      "idler\n",
      "idler\n",
      "idler\n",
      "idler\n",
      "idler\n",
      "idler\n",
      "0002000032.xml\n",
      "idler\n",
      "idler\n",
      "idler\n",
      "idler\n",
      "idler\n",
      "idler\n",
      "idler\n",
      "idler\n",
      "idler\n",
      "idler\n",
      "idler\n",
      "idler\n",
      "idler\n",
      "0003000043.xml\n",
      "idler\n",
      "idler\n",
      "idler\n",
      "idler\n",
      "idler\n",
      "idler\n",
      "idler\n",
      "idler\n",
      "idler\n",
      "idler\n",
      "idler\n",
      "idler\n",
      "idler\n",
      "0001200091.xml\n",
      "idler\n",
      "idler\n",
      "idler\n",
      "idler\n",
      "idler\n",
      "idler\n",
      "idler\n",
      "idler\n",
      "idler\n",
      "idler\n",
      "idler\n",
      "0001200090.xml\n",
      "idler\n",
      "idler\n",
      "idler\n",
      "idler\n",
      "idler\n",
      "idler\n",
      "idler\n",
      "idler\n",
      "idler\n",
      "idler\n",
      "idler\n",
      "0002000047.xml\n",
      "idler\n",
      "idler\n",
      "idler\n",
      "idler\n",
      "idler\n",
      "idler\n",
      "idler\n",
      "idler\n",
      "idler\n",
      "idler\n",
      "idler\n",
      "idler\n",
      "idler\n",
      "0003000010.xml\n",
      "idler\n",
      "idler\n",
      "idler\n",
      "idler\n",
      "idler\n",
      "idler\n",
      "idler\n",
      "idler\n",
      "idler\n",
      "idler\n",
      "idler\n",
      "idler\n",
      "idler\n",
      "idler\n",
      "idler\n",
      "idler\n",
      "0001200170.xml\n",
      "idler\n",
      "idler\n",
      "idler\n",
      "idler\n",
      "idler\n",
      "0001000030.xml\n",
      "idler\n",
      "idler\n",
      "idler\n",
      "idler\n",
      "idler\n",
      "idler\n",
      "idler\n",
      "0001100000.xml\n",
      "idler\n",
      "idler\n",
      "idler\n",
      "idler\n",
      "idler\n",
      "idler\n",
      "idler\n",
      "idler\n",
      "idler\n",
      "idler\n",
      "0001100004.xml\n",
      "idler\n",
      "idler\n",
      "idler\n",
      "idler\n",
      "idler\n",
      "idler\n",
      "idler\n",
      "idler\n",
      "idler\n",
      "0002000052.xml\n",
      "idler\n",
      "idler\n",
      "idler\n",
      "idler\n",
      "idler\n",
      "idler\n",
      "idler\n",
      "idler\n",
      "idler\n",
      "idler\n",
      "idler\n",
      "idler\n",
      "0001200031.xml\n",
      "idler\n",
      "idler\n",
      "idler\n",
      "idler\n",
      "idler\n",
      "idler\n",
      "idler\n",
      "idler\n",
      "idler\n",
      "idler\n",
      "idler\n",
      "idler\n"
     ]
    },
    {
     "name": "stderr",
     "output_type": "stream",
     "text": [
      "/home/ubuntu/anaconda3/envs/conda_env_py3_detectron2/lib/python3.6/site-packages/ipykernel/__main__.py:15: RuntimeWarning: More than 20 figures have been opened. Figures created through the pyplot interface (`matplotlib.pyplot.figure`) are retained until explicitly closed and may consume too much memory. (To control this warning, see the rcParam `figure.max_open_warning`).\n"
     ]
    },
    {
     "name": "stdout",
     "output_type": "stream",
     "text": [
      "0001200099.xml\n",
      "idler\n",
      "idler\n",
      "idler\n",
      "idler\n",
      "idler\n",
      "idler\n",
      "idler\n",
      "idler\n",
      "idler\n",
      "idler\n",
      "0001000021.xml\n",
      "idler\n",
      "idler\n",
      "idler\n",
      "idler\n",
      "idler\n",
      "idler\n",
      "idler\n",
      "0001000054.xml\n",
      "idler\n",
      "idler\n",
      "idler\n",
      "idler\n",
      "idler\n",
      "idler\n",
      "idler\n",
      "idler\n",
      "idler\n",
      "idler\n",
      "0001200102.xml\n",
      "idler\n",
      "idler\n",
      "idler\n",
      "idler\n",
      "idler\n",
      "idler\n",
      "0003000027.xml\n",
      "idler\n",
      "idler\n",
      "idler\n",
      "idler\n",
      "idler\n",
      "idler\n",
      "idler\n",
      "idler\n",
      "0002100043.xml\n",
      "idler\n",
      "idler\n",
      "idler\n",
      "idler\n",
      "idler\n",
      "idler\n",
      "0002100022.xml\n",
      "idler\n",
      "idler\n",
      "idler\n",
      "idler\n",
      "idler\n",
      "idler\n",
      "idler\n",
      "idler\n",
      "0001100022.xml\n",
      "idler\n",
      "idler\n",
      "idler\n",
      "idler\n",
      "idler\n",
      "idler\n",
      "idler\n",
      "idler\n",
      "idler\n",
      "idler\n",
      "idler\n",
      "idler\n",
      "idler\n",
      "idler\n",
      "idler\n",
      "idler\n",
      "idler\n",
      "0001000025.xml\n",
      "idler\n",
      "idler\n",
      "idler\n",
      "idler\n",
      "idler\n",
      "idler\n",
      "idler\n",
      "0002000007.xml\n",
      "idler\n",
      "idler\n",
      "idler\n",
      "idler\n",
      "idler\n",
      "0001100041.xml\n",
      "idler\n",
      "idler\n",
      "idler\n",
      "idler\n",
      "idler\n",
      "idler\n",
      "idler\n",
      "idler\n",
      "idler\n",
      "idler\n",
      "idler\n",
      "idler\n",
      "idler\n",
      "idler\n",
      "idler\n",
      "idler\n",
      "idler\n",
      "idler\n",
      "idler\n",
      "idler\n",
      "0003000036.xml\n",
      "idler\n",
      "idler\n",
      "idler\n",
      "idler\n",
      "idler\n",
      "idler\n",
      "idler\n",
      "idler\n",
      "0001100010.xml\n",
      "idler\n",
      "idler\n",
      "idler\n",
      "idler\n",
      "idler\n",
      "idler\n",
      "idler\n",
      "idler\n",
      "idler\n",
      "idler\n",
      "idler\n",
      "idler\n",
      "idler\n",
      "idler\n",
      "idler\n",
      "0001200030.xml\n",
      "idler\n",
      "idler\n",
      "idler\n",
      "idler\n",
      "idler\n",
      "idler\n",
      "idler\n",
      "idler\n",
      "idler\n",
      "idler\n",
      "idler\n",
      "idler\n",
      "idler\n",
      "idler\n",
      "0001200162.xml\n",
      "idler\n",
      "idler\n",
      "0003000029.xml\n",
      "idler\n",
      "idler\n",
      "idler\n",
      "idler\n",
      "idler\n",
      "idler\n",
      "idler\n",
      "idler\n",
      "idler\n",
      "idler\n",
      "idler\n",
      "idler\n",
      "idler\n",
      "0002000021.xml\n",
      "idler\n",
      "idler\n",
      "idler\n",
      "idler\n",
      "idler\n",
      "idler\n",
      "idler\n",
      "idler\n",
      "idler\n",
      "idler\n",
      "idler\n",
      "idler\n",
      "idler\n",
      "0001200032.xml\n",
      "idler\n",
      "idler\n",
      "idler\n",
      "idler\n",
      "idler\n",
      "idler\n",
      "idler\n",
      "idler\n",
      "idler\n",
      "idler\n",
      "idler\n",
      "idler\n",
      "0001200126.xml\n",
      "idler\n",
      "idler\n",
      "idler\n",
      "idler\n",
      "idler\n",
      "idler\n",
      "0001000057.xml\n",
      "idler\n",
      "idler\n",
      "idler\n",
      "idler\n",
      "idler\n",
      "idler\n",
      "idler\n",
      "idler\n",
      "idler\n",
      "idler\n",
      "0001200132.xml\n",
      "idler\n",
      "idler\n",
      "idler\n",
      "idler\n",
      "idler\n",
      "idler\n",
      "idler\n",
      "idler\n",
      "0002000045.xml\n",
      "idler\n",
      "idler\n",
      "idler\n",
      "idler\n",
      "idler\n",
      "idler\n",
      "idler\n",
      "idler\n",
      "idler\n",
      "idler\n",
      "idler\n",
      "idler\n",
      "idler\n",
      "0001100001.xml\n",
      "idler\n",
      "idler\n",
      "idler\n",
      "idler\n",
      "idler\n",
      "idler\n",
      "idler\n",
      "idler\n",
      "idler\n",
      "idler\n",
      "0002100017.xml\n",
      "idler\n",
      "idler\n",
      "idler\n",
      "idler\n",
      "idler\n",
      "idler\n",
      "idler\n",
      "idler\n",
      "idler\n",
      "idler\n",
      "0001100026.xml\n",
      "idler\n",
      "idler\n",
      "idler\n",
      "idler\n",
      "idler\n",
      "idler\n",
      "idler\n",
      "idler\n",
      "idler\n",
      "idler\n",
      "idler\n",
      "idler\n",
      "idler\n",
      "idler\n",
      "idler\n",
      "idler\n",
      "idler\n",
      "idler\n",
      "idler\n",
      "idler\n",
      "idler\n",
      "idler\n",
      "idler\n",
      "idler\n",
      "0001100030.xml\n",
      "idler\n",
      "idler\n",
      "idler\n",
      "idler\n",
      "idler\n",
      "idler\n",
      "idler\n",
      "idler\n",
      "idler\n",
      "idler\n",
      "idler\n",
      "idler\n",
      "idler\n",
      "idler\n",
      "idler\n",
      "idler\n",
      "idler\n",
      "idler\n",
      "idler\n",
      "idler\n",
      "idler\n",
      "0002000026.xml\n",
      "idler\n",
      "idler\n",
      "idler\n",
      "idler\n",
      "idler\n",
      "idler\n",
      "idler\n",
      "idler\n",
      "idler\n",
      "idler\n",
      "idler\n",
      "idler\n",
      "0003000031.xml\n",
      "idler\n",
      "idler\n",
      "idler\n",
      "idler\n",
      "idler\n",
      "idler\n",
      "idler\n",
      "idler\n",
      "0002100001.xml\n",
      "idler\n",
      "idler\n",
      "idler\n",
      "idler\n",
      "idler\n",
      "0003000017.xml\n",
      "idler\n",
      "idler\n",
      "idler\n",
      "idler\n",
      "idler\n",
      "idler\n",
      "idler\n",
      "idler\n",
      "idler\n",
      "idler\n",
      "0002100033.xml\n",
      "idler\n",
      "idler\n",
      "idler\n",
      "idler\n",
      "idler\n",
      "idler\n",
      "idler\n",
      "0001200166.xml\n",
      "idler\n",
      "idler\n",
      "idler\n",
      "idler\n",
      "idler\n",
      "idler\n",
      "idler\n",
      "0002100042.xml\n",
      "idler\n",
      "idler\n",
      "idler\n",
      "idler\n",
      "idler\n",
      "idler\n",
      "idler\n",
      "0001000053.xml\n",
      "idler\n",
      "idler\n",
      "idler\n",
      "idler\n",
      "idler\n",
      "idler\n",
      "idler\n",
      "idler\n",
      "idler\n",
      "idler\n",
      "idler\n",
      "0001200181.xml\n",
      "idler\n",
      "idler\n",
      "idler\n",
      "idler\n",
      "idler\n",
      "idler\n",
      "idler\n",
      "idler\n",
      "idler\n",
      "idler\n",
      "0002000004.xml\n",
      "idler\n",
      "idler\n",
      "idler\n",
      "0001200173.xml\n",
      "idler\n",
      "idler\n",
      "idler\n",
      "idler\n",
      "idler\n",
      "idler\n",
      "idler\n",
      "0002100000.xml\n",
      "idler\n",
      "idler\n",
      "idler\n",
      "idler\n",
      "idler\n",
      "0003000048.xml\n",
      "idler\n",
      "idler\n",
      "idler\n",
      "idler\n",
      "idler\n",
      "idler\n",
      "idler\n",
      "idler\n",
      "0002000036.xml\n",
      "idler\n",
      "idler\n",
      "idler\n",
      "idler\n",
      "idler\n",
      "idler\n",
      "idler\n",
      "idler\n",
      "idler\n",
      "idler\n",
      "idler\n",
      "idler\n",
      "0001200084.xml\n",
      "idler\n",
      "idler\n",
      "idler\n",
      "idler\n",
      "idler\n",
      "idler\n",
      "idler\n",
      "idler\n",
      "idler\n",
      "idler\n",
      "idler\n",
      "idler\n",
      "0001200061.xml\n",
      "idler\n",
      "idler\n",
      "idler\n",
      "idler\n",
      "idler\n",
      "idler\n",
      "idler\n",
      "idler\n",
      "idler\n",
      "idler\n",
      "idler\n",
      "idler\n",
      "idler\n",
      "idler\n",
      "idler\n",
      "idler\n",
      "idler\n",
      "idler\n",
      "idler\n",
      "idler\n",
      "0001200144.xml\n",
      "idler\n",
      "idler\n",
      "0001200066.xml\n",
      "idler\n",
      "idler\n",
      "idler\n",
      "idler\n",
      "0001200160.xml\n",
      "idler\n",
      "idler\n",
      "idler\n",
      "idler\n",
      "idler\n",
      "0001000011.xml\n",
      "idler\n",
      "idler\n",
      "idler\n",
      "idler\n",
      "idler\n",
      "idler\n",
      "idler\n",
      "0001200123.xml\n",
      "idler\n",
      "idler\n",
      "idler\n",
      "idler\n",
      "idler\n",
      "idler\n",
      "idler\n",
      "idler\n",
      "idler\n",
      "0001200083.xml\n",
      "idler\n",
      "idler\n",
      "idler\n",
      "idler\n",
      "idler\n",
      "idler\n",
      "idler\n",
      "idler\n",
      "idler\n",
      "idler\n",
      "0001200156.xml\n",
      "idler\n",
      "idler\n",
      "idler\n",
      "idler\n",
      "idler\n",
      "idler\n",
      "idler\n",
      "idler\n",
      "idler\n",
      "idler\n",
      "idler\n",
      "idler\n",
      "idler\n",
      "0003000021.xml\n",
      "idler\n",
      "idler\n",
      "idler\n",
      "idler\n",
      "idler\n",
      "idler\n",
      "idler\n",
      "idler\n",
      "0001100024.xml\n",
      "idler\n",
      "idler\n",
      "idler\n",
      "idler\n",
      "idler\n",
      "idler\n",
      "idler\n",
      "idler\n",
      "idler\n",
      "idler\n",
      "idler\n",
      "idler\n",
      "idler\n",
      "idler\n",
      "idler\n",
      "idler\n",
      "idler\n",
      "idler\n",
      "idler\n",
      "idler\n",
      "0001100058.xml\n",
      "idler\n",
      "idler\n",
      "idler\n",
      "0001100048.xml\n",
      "idler\n",
      "idler\n",
      "idler\n",
      "idler\n",
      "idler\n",
      "idler\n",
      "idler\n",
      "idler\n",
      "idler\n",
      "idler\n",
      "idler\n",
      "idler\n",
      "idler\n",
      "idler\n",
      "idler\n",
      "idler\n",
      "idler\n",
      "idler\n",
      "idler\n",
      "idler\n",
      "0003000002.xml\n",
      "idler\n",
      "idler\n",
      "idler\n",
      "idler\n",
      "idler\n",
      "idler\n",
      "idler\n",
      "idler\n",
      "0002000070.xml\n",
      "idler\n",
      "idler\n",
      "idler\n",
      "idler\n",
      "0001100008.xml\n",
      "idler\n",
      "idler\n",
      "idler\n",
      "idler\n",
      "idler\n",
      "idler\n",
      "idler\n",
      "idler\n",
      "idler\n",
      "idler\n",
      "idler\n",
      "idler\n",
      "0002000062.xml\n",
      "idler\n",
      "idler\n",
      "idler\n",
      "idler\n",
      "idler\n",
      "idler\n",
      "idler\n",
      "idler\n",
      "idler\n",
      "idler\n",
      "0001100042.xml\n",
      "idler\n",
      "idler\n",
      "idler\n",
      "idler\n",
      "idler\n",
      "idler\n",
      "idler\n",
      "idler\n",
      "idler\n",
      "idler\n",
      "idler\n",
      "idler\n",
      "idler\n",
      "idler\n",
      "idler\n",
      "idler\n",
      "idler\n",
      "idler\n",
      "idler\n",
      "idler\n",
      "idler\n",
      "0001100002.xml\n",
      "idler\n",
      "idler\n",
      "idler\n",
      "idler\n",
      "idler\n",
      "idler\n",
      "idler\n",
      "idler\n",
      "idler\n",
      "idler\n",
      "0001200028.xml\n",
      "idler\n",
      "idler\n",
      "idler\n",
      "idler\n",
      "idler\n",
      "idler\n",
      "idler\n",
      "idler\n",
      "idler\n",
      "idler\n",
      "idler\n",
      "idler\n",
      "idler\n",
      "idler\n",
      "0001000060.xml\n",
      "idler\n",
      "idler\n",
      "idler\n",
      "idler\n",
      "idler\n",
      "0001200179.xml\n",
      "idler\n",
      "idler\n",
      "idler\n",
      "idler\n",
      "idler\n",
      "idler\n",
      "idler\n",
      "idler\n",
      "idler\n",
      "idler\n",
      "idler\n",
      "idler\n",
      "idler\n",
      "idler\n",
      "idler\n",
      "0002000005.xml\n",
      "idler\n",
      "idler\n",
      "0001200080.xml\n",
      "idler\n",
      "idler\n",
      "idler\n",
      "idler\n",
      "idler\n",
      "idler\n",
      "idler\n",
      "idler\n",
      "idler\n",
      "idler\n",
      "0002000069.xml\n",
      "idler\n",
      "idler\n",
      "idler\n",
      "0003000050.xml\n",
      "idler\n",
      "idler\n",
      "idler\n",
      "idler\n",
      "idler\n",
      "idler\n",
      "idler\n",
      "idler\n",
      "idler\n",
      "idler\n",
      "idler\n",
      "0001200177.xml\n",
      "idler\n",
      "idler\n",
      "idler\n",
      "idler\n",
      "idler\n",
      "idler\n",
      "0002100037.xml\n",
      "idler\n",
      "idler\n",
      "idler\n",
      "idler\n",
      "idler\n",
      "idler\n",
      "idler\n",
      "idler\n",
      "0002100014.xml\n",
      "idler\n",
      "idler\n",
      "idler\n",
      "idler\n",
      "idler\n",
      "idler\n",
      "idler\n",
      "idler\n",
      "idler\n",
      "0003000005.xml\n",
      "idler\n",
      "idler\n",
      "idler\n",
      "idler\n",
      "idler\n",
      "idler\n",
      "idler\n",
      "idler\n",
      "idler\n",
      "0001200019.xml\n",
      "idler\n",
      "idler\n",
      "idler\n",
      "idler\n",
      "idler\n",
      "idler\n",
      "idler\n",
      "idler\n",
      "idler\n",
      "idler\n",
      "idler\n",
      "idler\n",
      "idler\n",
      "idler\n",
      "0003000026.xml\n",
      "idler\n",
      "idler\n",
      "idler\n",
      "idler\n",
      "idler\n",
      "idler\n",
      "0001200046.xml\n",
      "idler\n",
      "idler\n",
      "idler\n",
      "idler\n",
      "idler\n",
      "idler\n",
      "idler\n",
      "idler\n",
      "idler\n",
      "idler\n",
      "idler\n",
      "idler\n",
      "idler\n",
      "idler\n",
      "0002000046.xml\n",
      "idler\n",
      "idler\n",
      "idler\n",
      "idler\n",
      "idler\n",
      "idler\n",
      "idler\n",
      "idler\n",
      "idler\n",
      "idler\n",
      "idler\n",
      "idler\n",
      "idler\n",
      "0001200114.xml\n",
      "idler\n",
      "idler\n",
      "idler\n",
      "idler\n",
      "idler\n",
      "idler\n",
      "idler\n",
      "idler\n",
      "idler\n",
      "idler\n",
      "0002000042.xml\n",
      "idler\n",
      "idler\n",
      "idler\n",
      "idler\n",
      "idler\n",
      "idler\n",
      "idler\n",
      "idler\n",
      "idler\n",
      "idler\n",
      "idler\n",
      "idler\n",
      "idler\n",
      "0001100018.xml\n",
      "idler\n",
      "idler\n",
      "idler\n",
      "idler\n",
      "idler\n",
      "idler\n",
      "idler\n",
      "idler\n",
      "idler\n",
      "idler\n",
      "idler\n",
      "idler\n",
      "idler\n",
      "idler\n",
      "idler\n",
      "0001200060.xml\n",
      "idler\n",
      "idler\n",
      "idler\n",
      "idler\n",
      "idler\n",
      "idler\n",
      "idler\n",
      "idler\n",
      "idler\n",
      "idler\n",
      "idler\n",
      "idler\n",
      "idler\n",
      "idler\n",
      "idler\n",
      "idler\n",
      "idler\n",
      "idler\n",
      "idler\n",
      "idler\n",
      "idler\n",
      "0001100014.xml\n",
      "idler\n",
      "idler\n",
      "idler\n",
      "idler\n",
      "idler\n",
      "idler\n",
      "idler\n",
      "idler\n",
      "idler\n",
      "idler\n",
      "idler\n",
      "idler\n",
      "idler\n",
      "idler\n",
      "0001100036.xml\n",
      "idler\n",
      "idler\n",
      "idler\n",
      "idler\n",
      "idler\n",
      "idler\n",
      "idler\n",
      "idler\n",
      "idler\n",
      "idler\n",
      "idler\n",
      "idler\n",
      "idler\n",
      "idler\n",
      "idler\n",
      "idler\n",
      "idler\n",
      "idler\n",
      "idler\n",
      "idler\n",
      "idler\n",
      "idler\n",
      "idler\n",
      "0001200154.xml\n",
      "idler\n",
      "idler\n",
      "idler\n",
      "idler\n",
      "idler\n",
      "idler\n",
      "idler\n",
      "idler\n",
      "idler\n",
      "idler\n",
      "idler\n",
      "idler\n",
      "idler\n",
      "idler\n",
      "idler\n",
      "idler\n",
      "idler\n",
      "idler\n",
      "0001200153.xml\n",
      "idler\n",
      "idler\n",
      "idler\n",
      "idler\n",
      "idler\n",
      "idler\n",
      "idler\n",
      "idler\n",
      "idler\n",
      "idler\n",
      "idler\n",
      "idler\n",
      "idler\n",
      "0001100015.xml\n",
      "idler\n",
      "idler\n",
      "idler\n",
      "idler\n",
      "idler\n",
      "idler\n",
      "idler\n",
      "idler\n",
      "idler\n",
      "idler\n",
      "idler\n",
      "idler\n",
      "idler\n",
      "idler\n",
      "0001000012.xml\n",
      "idler\n",
      "idler\n",
      "idler\n",
      "idler\n",
      "idler\n",
      "idler\n",
      "0002000012.xml\n",
      "idler\n",
      "idler\n",
      "idler\n",
      "idler\n",
      "idler\n",
      "idler\n",
      "idler\n",
      "0002100040.xml\n",
      "idler\n",
      "idler\n",
      "idler\n",
      "idler\n",
      "idler\n",
      "idler\n",
      "idler\n",
      "0001200018.xml\n",
      "idler\n",
      "idler\n",
      "idler\n",
      "idler\n",
      "idler\n",
      "idler\n",
      "idler\n",
      "idler\n",
      "idler\n",
      "idler\n",
      "idler\n",
      "idler\n",
      "idler\n",
      "idler\n",
      "0001000026.xml\n",
      "idler\n",
      "idler\n",
      "idler\n",
      "idler\n",
      "idler\n",
      "idler\n",
      "0002100004.xml\n",
      "idler\n",
      "idler\n",
      "idler\n",
      "idler\n",
      "idler\n",
      "0002000039.xml\n",
      "idler\n",
      "idler\n",
      "idler\n",
      "idler\n",
      "idler\n",
      "idler\n",
      "idler\n",
      "idler\n",
      "idler\n",
      "idler\n",
      "idler\n",
      "idler\n",
      "idler\n",
      "0001000064.xml\n",
      "idler\n",
      "idler\n",
      "idler\n",
      "0003000045.xml\n",
      "idler\n",
      "idler\n",
      "idler\n",
      "idler\n",
      "idler\n",
      "idler\n",
      "idler\n",
      "idler\n",
      "idler\n",
      "idler\n",
      "0001000051.xml\n",
      "idler\n",
      "idler\n",
      "idler\n",
      "idler\n",
      "idler\n",
      "idler\n",
      "idler\n",
      "idler\n",
      "idler\n",
      "idler\n",
      "idler\n",
      "idler\n",
      "0001000004.xml\n",
      "idler\n",
      "idler\n",
      "idler\n",
      "idler\n",
      "idler\n",
      "0001000066.xml\n",
      "idler\n",
      "idler\n",
      "0002000053.xml\n",
      "idler\n",
      "idler\n",
      "idler\n",
      "idler\n",
      "idler\n",
      "idler\n",
      "idler\n",
      "idler\n",
      "idler\n",
      "idler\n",
      "idler\n",
      "idler\n",
      "idler\n",
      "0002100002.xml\n",
      "idler\n",
      "idler\n",
      "idler\n",
      "idler\n",
      "0003000011.xml\n",
      "idler\n",
      "idler\n",
      "idler\n",
      "idler\n",
      "idler\n",
      "idler\n",
      "idler\n",
      "idler\n",
      "idler\n",
      "idler\n",
      "idler\n",
      "idler\n",
      "idler\n",
      "0002100021.xml\n",
      "idler\n",
      "idler\n",
      "idler\n",
      "idler\n",
      "idler\n",
      "idler\n",
      "idler\n",
      "idler\n",
      "idler\n",
      "idler\n",
      "0001100032.xml\n",
      "idler\n",
      "idler\n",
      "idler\n",
      "idler\n",
      "idler\n",
      "idler\n",
      "idler\n",
      "idler\n",
      "idler\n",
      "idler\n",
      "idler\n",
      "idler\n",
      "idler\n",
      "idler\n",
      "idler\n",
      "idler\n",
      "idler\n",
      "idler\n",
      "idler\n",
      "idler\n",
      "idler\n",
      "idler\n",
      "0001200148.xml\n",
      "idler\n",
      "idler\n",
      "idler\n",
      "idler\n",
      "idler\n",
      "idler\n",
      "idler\n",
      "idler\n",
      "idler\n",
      "idler\n",
      "0003000055.xml\n",
      "idler\n",
      "idler\n",
      "idler\n",
      "idler\n",
      "idler\n",
      "idler\n",
      "idler\n",
      "idler\n",
      "idler\n",
      "0003000007.xml\n",
      "idler\n",
      "idler\n",
      "idler\n",
      "idler\n",
      "idler\n",
      "idler\n",
      "idler\n",
      "idler\n",
      "idler\n",
      "idler\n",
      "idler\n",
      "idler\n",
      "0001200155.xml\n",
      "idler\n",
      "idler\n",
      "idler\n",
      "idler\n",
      "idler\n",
      "idler\n",
      "idler\n",
      "idler\n",
      "idler\n",
      "idler\n",
      "idler\n",
      "idler\n",
      "idler\n",
      "idler\n",
      "0001200117.xml\n",
      "idler\n",
      "idler\n",
      "idler\n",
      "idler\n",
      "idler\n",
      "idler\n",
      "idler\n",
      "idler\n",
      "0001200107.xml\n",
      "idler\n",
      "idler\n",
      "idler\n",
      "idler\n",
      "idler\n",
      "idler\n",
      "0003000051.xml\n",
      "idler\n",
      "idler\n",
      "idler\n",
      "idler\n",
      "idler\n",
      "idler\n",
      "0001000022.xml\n",
      "idler\n",
      "idler\n",
      "idler\n",
      "idler\n",
      "idler\n",
      "idler\n",
      "idler\n",
      "0001100047.xml\n"
     ]
    },
    {
     "name": "stdout",
     "output_type": "stream",
     "text": [
      "idler\n",
      "idler\n",
      "idler\n",
      "idler\n",
      "idler\n",
      "idler\n",
      "idler\n",
      "idler\n",
      "idler\n",
      "idler\n",
      "idler\n",
      "idler\n",
      "idler\n",
      "idler\n",
      "idler\n",
      "idler\n",
      "idler\n",
      "idler\n",
      "idler\n",
      "idler\n",
      "0001000028.xml\n",
      "idler\n",
      "idler\n",
      "idler\n",
      "idler\n",
      "idler\n",
      "idler\n",
      "0001200068.xml\n",
      "idler\n",
      "idler\n",
      "idler\n",
      "idler\n",
      "idler\n",
      "idler\n",
      "idler\n",
      "idler\n",
      "idler\n",
      "0001100054.xml\n",
      "idler\n",
      "idler\n",
      "idler\n",
      "idler\n",
      "idler\n",
      "idler\n",
      "idler\n",
      "idler\n",
      "idler\n",
      "idler\n",
      "idler\n",
      "idler\n",
      "idler\n",
      "idler\n",
      "idler\n",
      "idler\n",
      "idler\n",
      "idler\n",
      "idler\n",
      "0001200079.xml\n",
      "idler\n",
      "idler\n",
      "idler\n",
      "idler\n",
      "idler\n",
      "idler\n",
      "idler\n",
      "idler\n",
      "idler\n",
      "0002000020.xml\n",
      "idler\n",
      "idler\n",
      "idler\n",
      "idler\n",
      "idler\n",
      "idler\n",
      "idler\n",
      "idler\n",
      "idler\n",
      "idler\n",
      "0001000010.xml\n",
      "idler\n",
      "idler\n",
      "idler\n",
      "idler\n",
      "idler\n",
      "idler\n",
      "idler\n",
      "idler\n",
      "0001200174.xml\n",
      "idler\n",
      "idler\n",
      "idler\n",
      "idler\n",
      "idler\n",
      "idler\n",
      "idler\n",
      "idler\n",
      "0002000013.xml\n",
      "idler\n",
      "idler\n",
      "idler\n",
      "idler\n",
      "idler\n",
      "idler\n",
      "idler\n",
      "0001200021.xml\n",
      "idler\n",
      "idler\n",
      "idler\n",
      "idler\n",
      "idler\n",
      "idler\n",
      "idler\n",
      "idler\n",
      "idler\n",
      "idler\n",
      "idler\n",
      "idler\n",
      "idler\n",
      "0002000028.xml\n",
      "idler\n",
      "idler\n",
      "idler\n",
      "idler\n",
      "idler\n",
      "idler\n",
      "idler\n",
      "idler\n",
      "idler\n",
      "idler\n",
      "idler\n",
      "idler\n",
      "idler\n",
      "0003000059.xml\n",
      "idler\n",
      "idler\n",
      "idler\n",
      "idler\n",
      "idler\n",
      "idler\n",
      "idler\n",
      "idler\n",
      "idler\n",
      "idler\n",
      "0002100018.xml\n",
      "idler\n",
      "idler\n",
      "idler\n",
      "idler\n",
      "idler\n",
      "idler\n",
      "idler\n",
      "idler\n",
      "idler\n",
      "0001200120.xml\n",
      "idler\n",
      "idler\n",
      "idler\n",
      "idler\n",
      "idler\n",
      "idler\n",
      "idler\n",
      "idler\n",
      "idler\n",
      "idler\n",
      "idler\n",
      "idler\n",
      "idler\n",
      "0003000052.xml\n",
      "idler\n",
      "idler\n",
      "idler\n",
      "idler\n",
      "idler\n",
      "idler\n",
      "0002000019.xml\n",
      "idler\n",
      "idler\n",
      "idler\n",
      "idler\n",
      "idler\n",
      "idler\n",
      "idler\n",
      "idler\n",
      "idler\n",
      "idler\n",
      "idler\n",
      "0001200082.xml\n",
      "idler\n",
      "idler\n",
      "idler\n",
      "idler\n",
      "idler\n",
      "idler\n",
      "idler\n",
      "idler\n",
      "idler\n",
      "0001000059.xml\n",
      "idler\n",
      "idler\n",
      "idler\n",
      "idler\n",
      "idler\n",
      "idler\n",
      "idler\n",
      "idler\n",
      "0001200067.xml\n",
      "idler\n",
      "idler\n",
      "idler\n",
      "idler\n",
      "idler\n",
      "idler\n",
      "idler\n",
      "idler\n",
      "idler\n",
      "0003000053.xml\n",
      "idler\n",
      "idler\n",
      "idler\n",
      "idler\n",
      "idler\n",
      "idler\n",
      "idler\n",
      "idler\n",
      "idler\n",
      "idler\n",
      "idler\n",
      "0001000052.xml\n",
      "idler\n",
      "idler\n",
      "idler\n",
      "idler\n",
      "idler\n",
      "idler\n",
      "idler\n",
      "idler\n",
      "0001100037.xml\n",
      "idler\n",
      "idler\n",
      "idler\n",
      "idler\n",
      "idler\n",
      "idler\n",
      "idler\n",
      "idler\n",
      "idler\n",
      "idler\n",
      "idler\n",
      "idler\n",
      "idler\n",
      "idler\n",
      "idler\n",
      "idler\n",
      "idler\n",
      "idler\n",
      "idler\n",
      "idler\n",
      "idler\n",
      "idler\n",
      "0001200145.xml\n",
      "idler\n",
      "idler\n",
      "idler\n",
      "idler\n",
      "idler\n",
      "idler\n",
      "idler\n",
      "idler\n",
      "idler\n",
      "idler\n",
      "idler\n",
      "0001200092.xml\n",
      "idler\n",
      "idler\n",
      "idler\n",
      "idler\n",
      "idler\n",
      "idler\n",
      "idler\n",
      "idler\n",
      "idler\n",
      "idler\n",
      "idler\n",
      "0002000043.xml\n",
      "idler\n",
      "idler\n",
      "idler\n",
      "idler\n",
      "idler\n",
      "idler\n",
      "idler\n",
      "idler\n",
      "idler\n",
      "idler\n",
      "idler\n",
      "idler\n",
      "idler\n",
      "idler\n",
      "0002000038.xml\n",
      "idler\n",
      "idler\n",
      "idler\n",
      "idler\n",
      "idler\n",
      "idler\n",
      "idler\n",
      "idler\n",
      "idler\n",
      "idler\n",
      "idler\n",
      "0001000041.xml\n",
      "idler\n",
      "idler\n",
      "idler\n",
      "idler\n",
      "idler\n",
      "idler\n",
      "idler\n",
      "idler\n",
      "0003000054.xml\n",
      "idler\n",
      "idler\n",
      "idler\n",
      "idler\n",
      "idler\n",
      "idler\n",
      "idler\n",
      "idler\n",
      "idler\n",
      "0001200180.xml\n",
      "idler\n",
      "idler\n",
      "idler\n",
      "idler\n",
      "idler\n",
      "idler\n",
      "idler\n",
      "idler\n",
      "idler\n",
      "idler\n",
      "idler\n",
      "idler\n",
      "idler\n",
      "0002000029.xml\n",
      "idler\n",
      "idler\n",
      "idler\n",
      "idler\n",
      "idler\n",
      "idler\n",
      "idler\n",
      "idler\n",
      "idler\n",
      "idler\n",
      "idler\n",
      "idler\n",
      "idler\n",
      "0001200133.xml\n",
      "idler\n",
      "idler\n",
      "idler\n",
      "idler\n",
      "idler\n",
      "idler\n",
      "idler\n",
      "idler\n",
      "0003000032.xml\n",
      "idler\n",
      "idler\n",
      "idler\n",
      "idler\n",
      "idler\n",
      "idler\n",
      "idler\n",
      "idler\n",
      "idler\n",
      "idler\n",
      "idler\n",
      "idler\n",
      "0001000043.xml\n",
      "idler\n",
      "idler\n",
      "idler\n",
      "idler\n",
      "idler\n",
      "idler\n",
      "0002000010.xml\n",
      "idler\n",
      "idler\n",
      "idler\n",
      "idler\n",
      "idler\n",
      "idler\n",
      "0001200094.xml\n",
      "idler\n",
      "idler\n",
      "idler\n",
      "idler\n",
      "idler\n",
      "idler\n",
      "idler\n",
      "idler\n",
      "idler\n",
      "0001000013.xml\n",
      "idler\n",
      "idler\n",
      "idler\n",
      "idler\n",
      "idler\n",
      "idler\n",
      "0001200178.xml\n",
      "idler\n",
      "idler\n",
      "idler\n",
      "idler\n",
      "idler\n",
      "idler\n",
      "idler\n",
      "idler\n",
      "idler\n",
      "0001100020.xml\n",
      "idler\n",
      "idler\n",
      "idler\n",
      "idler\n",
      "idler\n",
      "idler\n",
      "idler\n",
      "idler\n",
      "idler\n",
      "idler\n",
      "idler\n",
      "idler\n",
      "idler\n",
      "idler\n",
      "idler\n",
      "idler\n",
      "idler\n",
      "0002100039.xml\n",
      "idler\n",
      "idler\n",
      "idler\n",
      "idler\n",
      "idler\n",
      "idler\n",
      "idler\n",
      "idler\n",
      "idler\n",
      "0001200158.xml\n",
      "idler\n",
      "idler\n",
      "idler\n",
      "idler\n",
      "idler\n",
      "idler\n",
      "idler\n",
      "idler\n",
      "idler\n",
      "idler\n",
      "idler\n",
      "idler\n",
      "idler\n",
      "0001200085.xml\n",
      "idler\n",
      "idler\n",
      "idler\n",
      "idler\n",
      "idler\n",
      "idler\n",
      "idler\n",
      "idler\n",
      "idler\n",
      "idler\n",
      "idler\n",
      "0001100012.xml\n",
      "idler\n",
      "idler\n",
      "idler\n",
      "idler\n",
      "idler\n",
      "idler\n",
      "idler\n",
      "idler\n",
      "idler\n",
      "idler\n",
      "idler\n",
      "idler\n",
      "idler\n",
      "idler\n",
      "idler\n",
      "idler\n",
      "0001000063.xml\n",
      "idler\n",
      "idler\n",
      "idler\n",
      "idler\n",
      "0001000005.xml\n",
      "idler\n",
      "idler\n",
      "idler\n",
      "idler\n",
      "idler\n",
      "idler\n",
      "0001000006.xml\n",
      "idler\n",
      "idler\n",
      "idler\n",
      "idler\n",
      "idler\n",
      "idler\n",
      "0001200064.xml\n",
      "idler\n",
      "idler\n",
      "idler\n",
      "idler\n",
      "0003000056.xml\n",
      "idler\n",
      "idler\n",
      "idler\n",
      "idler\n",
      "idler\n",
      "idler\n",
      "idler\n",
      "idler\n",
      "idler\n",
      "idler\n",
      "idler\n",
      "idler\n",
      "idler\n",
      "idler\n",
      "idler\n",
      "0001100025.xml\n",
      "idler\n",
      "idler\n",
      "idler\n",
      "idler\n",
      "idler\n",
      "idler\n",
      "idler\n",
      "idler\n",
      "idler\n",
      "idler\n",
      "idler\n",
      "idler\n",
      "idler\n",
      "idler\n",
      "idler\n",
      "idler\n",
      "idler\n",
      "idler\n",
      "idler\n",
      "idler\n",
      "idler\n",
      "idler\n",
      "idler\n",
      "0002000015.xml\n",
      "idler\n",
      "idler\n",
      "idler\n",
      "idler\n",
      "idler\n",
      "idler\n",
      "idler\n",
      "idler\n",
      "idler\n",
      "idler\n",
      "0001000001.xml\n",
      "idler\n",
      "idler\n",
      "idler\n",
      "idler\n",
      "0001200038.xml\n",
      "idler\n",
      "idler\n",
      "idler\n",
      "idler\n",
      "idler\n",
      "idler\n",
      "idler\n",
      "idler\n",
      "idler\n",
      "idler\n",
      "idler\n",
      "idler\n",
      "0001100034.xml\n",
      "idler\n",
      "idler\n",
      "idler\n",
      "idler\n",
      "idler\n",
      "idler\n",
      "idler\n",
      "idler\n",
      "idler\n",
      "idler\n",
      "idler\n",
      "idler\n",
      "idler\n",
      "idler\n",
      "idler\n",
      "idler\n",
      "idler\n",
      "idler\n",
      "idler\n",
      "idler\n",
      "idler\n",
      "idler\n",
      "idler\n",
      "0003000022.xml\n",
      "idler\n",
      "idler\n",
      "idler\n",
      "idler\n",
      "idler\n",
      "idler\n",
      "0001100039.xml\n",
      "idler\n",
      "idler\n",
      "idler\n",
      "idler\n",
      "idler\n",
      "idler\n",
      "idler\n",
      "idler\n",
      "idler\n",
      "idler\n",
      "idler\n",
      "idler\n",
      "idler\n",
      "idler\n",
      "idler\n",
      "idler\n",
      "idler\n",
      "idler\n",
      "idler\n",
      "idler\n",
      "idler\n",
      "0001100006.xml\n",
      "idler\n",
      "idler\n",
      "idler\n",
      "idler\n",
      "idler\n",
      "idler\n",
      "idler\n",
      "idler\n",
      "idler\n",
      "idler\n",
      "idler\n",
      "0001000056.xml\n",
      "idler\n",
      "idler\n",
      "idler\n",
      "idler\n",
      "idler\n",
      "idler\n",
      "idler\n",
      "idler\n",
      "0003000040.xml\n",
      "idler\n",
      "idler\n",
      "idler\n",
      "idler\n",
      "idler\n",
      "idler\n",
      "idler\n",
      "0003000046.xml\n",
      "idler\n",
      "idler\n",
      "idler\n",
      "idler\n",
      "idler\n",
      "idler\n",
      "idler\n",
      "idler\n",
      "0001200086.xml\n",
      "idler\n",
      "idler\n",
      "idler\n",
      "idler\n",
      "idler\n",
      "idler\n",
      "idler\n",
      "idler\n",
      "idler\n",
      "idler\n",
      "0002000033.xml\n",
      "idler\n",
      "idler\n",
      "idler\n",
      "idler\n",
      "idler\n",
      "idler\n",
      "idler\n",
      "idler\n",
      "idler\n",
      "idler\n",
      "idler\n",
      "idler\n",
      "idler\n",
      "0002100029.xml\n",
      "idler\n",
      "idler\n",
      "idler\n",
      "idler\n",
      "idler\n",
      "idler\n",
      "idler\n",
      "idler\n",
      "idler\n",
      "idler\n",
      "0003000039.xml\n",
      "idler\n",
      "idler\n",
      "idler\n",
      "idler\n",
      "idler\n",
      "idler\n",
      "idler\n",
      "0002100030.xml\n",
      "idler\n",
      "idler\n",
      "idler\n",
      "idler\n",
      "idler\n",
      "idler\n",
      "idler\n",
      "idler\n",
      "idler\n",
      "idler\n",
      "0001200081.xml\n",
      "idler\n",
      "idler\n",
      "idler\n",
      "idler\n",
      "idler\n",
      "idler\n",
      "idler\n",
      "idler\n",
      "idler\n",
      "idler\n",
      "0003000009.xml\n",
      "idler\n",
      "idler\n",
      "idler\n",
      "idler\n",
      "idler\n",
      "idler\n",
      "idler\n",
      "idler\n",
      "idler\n",
      "idler\n",
      "idler\n",
      "idler\n",
      "idler\n",
      "idler\n",
      "idler\n",
      "idler\n",
      "idler\n",
      "idler\n",
      "idler\n",
      "0002100003.xml\n",
      "idler\n",
      "idler\n",
      "idler\n",
      "idler\n",
      "idler\n",
      "0001200101.xml\n",
      "idler\n",
      "idler\n",
      "idler\n",
      "idler\n",
      "idler\n",
      "idler\n",
      "idler\n",
      "idler\n",
      "0001200087.xml\n",
      "idler\n",
      "idler\n",
      "idler\n",
      "idler\n",
      "idler\n",
      "idler\n",
      "idler\n",
      "idler\n",
      "idler\n",
      "idler\n",
      "0002100025.xml\n",
      "idler\n",
      "idler\n",
      "idler\n",
      "idler\n",
      "idler\n",
      "idler\n",
      "idler\n",
      "0001200121.xml\n",
      "idler\n",
      "idler\n",
      "idler\n",
      "idler\n",
      "idler\n",
      "idler\n",
      "idler\n",
      "idler\n",
      "0001200168.xml\n",
      "idler\n",
      "idler\n",
      "idler\n",
      "idler\n",
      "idler\n",
      "idler\n",
      "0001200116.xml\n",
      "idler\n",
      "idler\n",
      "idler\n",
      "idler\n",
      "idler\n",
      "idler\n",
      "idler\n",
      "idler\n",
      "idler\n",
      "idler\n",
      "idler\n",
      "idler\n",
      "0002100013.xml\n",
      "idler\n",
      "idler\n",
      "idler\n",
      "idler\n",
      "idler\n",
      "idler\n",
      "idler\n",
      "0001200169.xml\n",
      "idler\n",
      "idler\n",
      "idler\n",
      "0001200063.xml\n",
      "idler\n",
      "idler\n",
      "idler\n",
      "idler\n",
      "idler\n",
      "idler\n",
      "idler\n",
      "idler\n",
      "idler\n",
      "idler\n",
      "idler\n",
      "idler\n",
      "idler\n",
      "idler\n",
      "0001200164.xml\n",
      "idler\n",
      "idler\n",
      "idler\n",
      "idler\n",
      "idler\n",
      "idler\n",
      "idler\n",
      "0001200152.xml\n",
      "idler\n",
      "idler\n",
      "idler\n",
      "idler\n",
      "idler\n",
      "idler\n",
      "idler\n",
      "0002000025.xml\n",
      "idler\n",
      "idler\n",
      "idler\n",
      "idler\n",
      "idler\n",
      "idler\n",
      "idler\n",
      "idler\n",
      "idler\n",
      "idler\n",
      "idler\n",
      "idler\n",
      "idler\n",
      "idler\n",
      "0001000045.xml\n",
      "idler\n",
      "idler\n",
      "idler\n",
      "idler\n",
      "idler\n",
      "idler\n",
      "0001200136.xml\n",
      "idler\n",
      "idler\n",
      "idler\n",
      "idler\n",
      "idler\n",
      "idler\n",
      "idler\n",
      "idler\n",
      "idler\n",
      "idler\n",
      "idler\n",
      "0003000030.xml\n",
      "idler\n",
      "idler\n",
      "idler\n",
      "idler\n",
      "idler\n",
      "idler\n",
      "idler\n",
      "0001200139.xml\n",
      "idler\n",
      "idler\n",
      "idler\n",
      "0001100051.xml\n",
      "idler\n",
      "idler\n",
      "idler\n",
      "idler\n",
      "idler\n",
      "idler\n",
      "idler\n",
      "idler\n",
      "idler\n",
      "idler\n",
      "idler\n",
      "idler\n",
      "idler\n",
      "idler\n",
      "idler\n",
      "idler\n",
      "idler\n",
      "idler\n",
      "0001200118.xml\n",
      "idler\n",
      "idler\n",
      "idler\n",
      "idler\n",
      "idler\n",
      "idler\n",
      "idler\n",
      "idler\n",
      "0001200072.xml\n",
      "idler\n",
      "idler\n",
      "idler\n",
      "idler\n",
      "idler\n",
      "idler\n",
      "idler\n",
      "idler\n",
      "idler\n",
      "idler\n",
      "idler\n",
      "0001000031.xml\n",
      "idler\n",
      "idler\n",
      "idler\n",
      "idler\n",
      "idler\n",
      "idler\n",
      "0002100028.xml\n",
      "idler\n",
      "idler\n",
      "idler\n",
      "idler\n",
      "idler\n",
      "idler\n",
      "idler\n",
      "idler\n",
      "idler\n",
      "idler\n",
      "0001000046.xml\n",
      "idler\n",
      "idler\n",
      "idler\n",
      "idler\n",
      "idler\n",
      "idler\n",
      "0001000020.xml\n",
      "idler\n",
      "idler\n",
      "idler\n",
      "idler\n",
      "idler\n",
      "idler\n",
      "idler\n",
      "idler\n",
      "0001100040.xml\n",
      "idler\n",
      "idler\n",
      "idler\n",
      "idler\n",
      "idler\n",
      "idler\n",
      "idler\n",
      "idler\n",
      "idler\n",
      "idler\n",
      "idler\n",
      "idler\n",
      "idler\n",
      "idler\n",
      "idler\n",
      "idler\n",
      "idler\n",
      "idler\n",
      "idler\n",
      "idler\n",
      "idler\n",
      "0002000014.xml\n",
      "idler\n",
      "idler\n",
      "idler\n",
      "idler\n",
      "idler\n",
      "idler\n",
      "idler\n",
      "idler\n",
      "0001200138.xml\n",
      "idler\n",
      "idler\n",
      "idler\n",
      "idler\n",
      "idler\n",
      "idler\n",
      "idler\n",
      "0001200167.xml\n",
      "idler\n",
      "idler\n",
      "idler\n",
      "idler\n",
      "idler\n",
      "idler\n",
      "idler\n",
      "0002000040.xml\n",
      "idler\n",
      "idler\n",
      "idler\n",
      "idler\n",
      "idler\n",
      "idler\n",
      "idler\n",
      "idler\n",
      "idler\n",
      "idler\n",
      "idler\n",
      "idler\n",
      "idler\n",
      "0003000034.xml\n",
      "idler\n",
      "idler\n",
      "idler\n",
      "idler\n",
      "idler\n",
      "idler\n",
      "idler\n",
      "idler\n",
      "idler\n",
      "idler\n",
      "0003000057.xml\n",
      "idler\n",
      "0001100016.xml\n",
      "idler\n",
      "idler\n",
      "idler\n",
      "idler\n",
      "idler\n",
      "idler\n",
      "idler\n",
      "idler\n",
      "idler\n",
      "idler\n",
      "idler\n",
      "idler\n",
      "idler\n",
      "idler\n",
      "0003000023.xml\n",
      "idler\n",
      "idler\n",
      "idler\n",
      "idler\n",
      "idler\n",
      "idler\n",
      "0002000037.xml\n",
      "idler\n",
      "idler\n",
      "idler\n",
      "idler\n",
      "idler\n",
      "idler\n",
      "idler\n",
      "idler\n",
      "idler\n",
      "idler\n",
      "idler\n",
      "idler\n",
      "idler\n",
      "idler\n",
      "0001000034.xml\n",
      "idler\n",
      "idler\n",
      "idler\n",
      "idler\n",
      "idler\n",
      "idler\n",
      "idler\n",
      "idler\n",
      "idler\n",
      "idler\n",
      "0003000041.xml\n",
      "idler\n",
      "idler\n",
      "idler\n",
      "idler\n",
      "idler\n",
      "idler\n",
      "0001100031.xml\n",
      "idler\n",
      "idler\n",
      "idler\n",
      "idler\n",
      "idler\n",
      "idler\n",
      "idler\n",
      "idler\n",
      "idler\n",
      "idler\n",
      "idler\n",
      "idler\n",
      "idler\n",
      "idler\n",
      "idler\n",
      "idler\n",
      "idler\n",
      "idler\n",
      "idler\n",
      "idler\n",
      "idler\n",
      "idler\n",
      "idler\n",
      "0001100007.xml\n",
      "idler\n",
      "idler\n",
      "idler\n",
      "idler\n",
      "idler\n",
      "idler\n",
      "idler\n",
      "idler\n",
      "idler\n",
      "idler\n",
      "idler\n",
      "0001000044.xml\n",
      "idler\n",
      "idler\n",
      "idler\n",
      "idler\n",
      "idler\n",
      "idler\n",
      "idler\n",
      "0001000018.xml\n",
      "idler\n",
      "idler\n",
      "idler\n",
      "idler\n",
      "idler\n",
      "idler\n",
      "idler\n",
      "0001200071.xml\n",
      "idler\n",
      "idler\n",
      "idler\n",
      "idler\n",
      "idler\n",
      "idler\n",
      "idler\n",
      "idler\n",
      "idler\n",
      "idler\n",
      "idler\n",
      "0001100055.xml\n",
      "idler\n",
      "idler\n",
      "idler\n",
      "idler\n",
      "idler\n",
      "idler\n",
      "idler\n",
      "idler\n",
      "idler\n",
      "idler\n",
      "idler\n",
      "idler\n",
      "idler\n",
      "idler\n",
      "idler\n",
      "idler\n",
      "idler\n",
      "idler\n",
      "0002000016.xml\n",
      "idler\n",
      "idler\n",
      "idler\n",
      "idler\n",
      "idler\n",
      "idler\n",
      "idler\n",
      "idler\n",
      "idler\n",
      "idler\n",
      "0002100008.xml\n"
     ]
    },
    {
     "name": "stdout",
     "output_type": "stream",
     "text": [
      "idler\n",
      "idler\n",
      "idler\n",
      "idler\n",
      "idler\n",
      "idler\n",
      "0001000008.xml\n",
      "idler\n",
      "idler\n",
      "idler\n",
      "idler\n",
      "idler\n",
      "idler\n",
      "idler\n",
      "0001200172.xml\n",
      "idler\n",
      "idler\n",
      "idler\n",
      "idler\n",
      "idler\n",
      "idler\n",
      "idler\n",
      "0003000006.xml\n",
      "idler\n",
      "idler\n",
      "idler\n",
      "idler\n",
      "idler\n",
      "idler\n",
      "idler\n",
      "idler\n",
      "idler\n",
      "idler\n",
      "idler\n",
      "idler\n",
      "idler\n",
      "idler\n",
      "idler\n",
      "idler\n",
      "idler\n",
      "0001200157.xml\n",
      "idler\n",
      "idler\n",
      "idler\n",
      "idler\n",
      "idler\n",
      "idler\n",
      "idler\n",
      "idler\n",
      "idler\n",
      "idler\n",
      "idler\n",
      "idler\n",
      "idler\n",
      "idler\n",
      "0003000015.xml\n",
      "idler\n",
      "idler\n",
      "idler\n",
      "idler\n",
      "idler\n",
      "idler\n",
      "idler\n",
      "idler\n",
      "idler\n",
      "0003000035.xml\n",
      "idler\n",
      "idler\n",
      "idler\n",
      "idler\n",
      "idler\n",
      "idler\n",
      "idler\n",
      "idler\n",
      "0001000000.xml\n",
      "idler\n",
      "idler\n",
      "idler\n",
      "idler\n",
      "0002100012.xml\n",
      "idler\n",
      "idler\n",
      "idler\n",
      "idler\n",
      "idler\n",
      "idler\n",
      "idler\n",
      "0001000035.xml\n",
      "idler\n",
      "idler\n",
      "idler\n",
      "idler\n",
      "idler\n",
      "idler\n",
      "idler\n",
      "0001200176.xml\n",
      "idler\n",
      "idler\n",
      "idler\n",
      "idler\n",
      "idler\n",
      "0001100035.xml\n",
      "idler\n",
      "idler\n",
      "idler\n",
      "idler\n",
      "idler\n",
      "idler\n",
      "idler\n",
      "idler\n",
      "idler\n",
      "idler\n",
      "idler\n",
      "idler\n",
      "idler\n",
      "idler\n",
      "idler\n",
      "idler\n",
      "idler\n",
      "idler\n",
      "idler\n",
      "idler\n",
      "idler\n",
      "idler\n",
      "idler\n",
      "idler\n",
      "0002100019.xml\n",
      "idler\n",
      "idler\n",
      "idler\n",
      "idler\n",
      "idler\n",
      "idler\n",
      "idler\n",
      "idler\n",
      "idler\n",
      "0001200075.xml\n",
      "idler\n",
      "idler\n",
      "idler\n",
      "idler\n",
      "idler\n",
      "idler\n",
      "idler\n",
      "idler\n",
      "idler\n",
      "0003000019.xml\n",
      "idler\n",
      "idler\n",
      "idler\n",
      "idler\n",
      "idler\n",
      "idler\n",
      "idler\n",
      "idler\n",
      "idler\n",
      "idler\n",
      "0001100046.xml\n",
      "idler\n",
      "idler\n",
      "idler\n",
      "idler\n",
      "idler\n",
      "idler\n",
      "idler\n",
      "idler\n",
      "idler\n",
      "idler\n",
      "idler\n",
      "idler\n",
      "idler\n",
      "idler\n",
      "idler\n",
      "idler\n",
      "idler\n",
      "idler\n",
      "idler\n",
      "idler\n",
      "0001000040.xml\n",
      "idler\n",
      "idler\n",
      "idler\n",
      "idler\n",
      "idler\n",
      "idler\n",
      "idler\n",
      "idler\n",
      "idler\n",
      "0001100043.xml\n",
      "idler\n",
      "idler\n",
      "idler\n",
      "idler\n",
      "idler\n",
      "idler\n",
      "idler\n",
      "idler\n",
      "idler\n",
      "idler\n",
      "idler\n",
      "idler\n",
      "idler\n",
      "idler\n",
      "idler\n",
      "idler\n",
      "idler\n",
      "idler\n",
      "idler\n",
      "idler\n",
      "0001000017.xml\n",
      "idler\n",
      "idler\n",
      "idler\n",
      "idler\n",
      "idler\n",
      "idler\n",
      "idler\n",
      "0001200141.xml\n",
      "idler\n",
      "idler\n",
      "idler\n",
      "idler\n",
      "idler\n",
      "idler\n",
      "idler\n",
      "idler\n",
      "idler\n",
      "0002000067.xml\n",
      "idler\n",
      "idler\n",
      "idler\n",
      "idler\n",
      "idler\n",
      "idler\n",
      "0002000061.xml\n",
      "idler\n",
      "idler\n",
      "idler\n",
      "idler\n",
      "idler\n",
      "idler\n",
      "idler\n",
      "idler\n",
      "idler\n",
      "idler\n",
      "idler\n",
      "0003000016.xml\n",
      "idler\n",
      "idler\n",
      "idler\n",
      "idler\n",
      "idler\n",
      "idler\n",
      "idler\n",
      "idler\n",
      "idler\n",
      "idler\n",
      "idler\n",
      "0002000030.xml\n",
      "idler\n",
      "idler\n",
      "idler\n",
      "idler\n",
      "idler\n",
      "idler\n",
      "idler\n",
      "idler\n",
      "idler\n",
      "idler\n",
      "idler\n",
      "idler\n",
      "idler\n",
      "idler\n",
      "0001000023.xml\n",
      "idler\n",
      "idler\n",
      "idler\n",
      "idler\n",
      "idler\n",
      "idler\n",
      "idler\n",
      "idler\n",
      "0002000011.xml\n",
      "idler\n",
      "idler\n",
      "idler\n",
      "idler\n",
      "idler\n",
      "idler\n",
      "0001200039.xml\n",
      "idler\n",
      "idler\n",
      "idler\n",
      "idler\n",
      "idler\n",
      "idler\n",
      "idler\n",
      "idler\n",
      "idler\n",
      "idler\n",
      "idler\n",
      "idler\n",
      "0001000014.xml\n",
      "idler\n",
      "idler\n",
      "idler\n",
      "idler\n",
      "idler\n",
      "idler\n",
      "idler\n",
      "0001200113.xml\n",
      "idler\n",
      "idler\n",
      "idler\n",
      "idler\n",
      "idler\n",
      "idler\n",
      "idler\n",
      "idler\n",
      "0001000019.xml\n",
      "idler\n",
      "idler\n",
      "idler\n",
      "idler\n",
      "idler\n",
      "idler\n",
      "0002100005.xml\n",
      "idler\n",
      "idler\n",
      "idler\n",
      "idler\n",
      "idler\n",
      "0001000038.xml\n",
      "idler\n",
      "idler\n",
      "idler\n",
      "idler\n",
      "idler\n",
      "idler\n",
      "idler\n",
      "idler\n",
      "0002100016.xml\n",
      "idler\n",
      "idler\n",
      "idler\n",
      "idler\n",
      "idler\n",
      "idler\n",
      "idler\n",
      "idler\n",
      "idler\n",
      "idler\n",
      "0001200151.xml\n",
      "idler\n",
      "idler\n",
      "idler\n",
      "idler\n",
      "idler\n",
      "idler\n",
      "idler\n",
      "idler\n",
      "idler\n",
      "idler\n",
      "idler\n",
      "idler\n",
      "idler\n",
      "0002000044.xml\n",
      "idler\n",
      "idler\n",
      "idler\n",
      "idler\n",
      "idler\n",
      "idler\n",
      "idler\n",
      "idler\n",
      "idler\n",
      "idler\n",
      "idler\n",
      "idler\n",
      "idler\n",
      "idler\n",
      "0003000025.xml\n",
      "idler\n",
      "idler\n",
      "idler\n",
      "idler\n",
      "idler\n",
      "idler\n",
      "0001200100.xml\n",
      "idler\n",
      "idler\n",
      "idler\n",
      "idler\n",
      "idler\n",
      "idler\n",
      "idler\n",
      "idler\n",
      "idler\n",
      "idler\n",
      "0001000055.xml\n",
      "idler\n",
      "idler\n",
      "idler\n",
      "idler\n",
      "idler\n",
      "idler\n",
      "idler\n",
      "idler\n",
      "0001000062.xml\n",
      "idler\n",
      "idler\n",
      "idler\n",
      "idler\n",
      "0001100050.xml\n",
      "idler\n",
      "idler\n",
      "idler\n",
      "idler\n",
      "idler\n",
      "idler\n",
      "idler\n",
      "idler\n",
      "idler\n",
      "idler\n",
      "idler\n",
      "idler\n",
      "idler\n",
      "idler\n",
      "idler\n",
      "idler\n",
      "idler\n",
      "idler\n",
      "idler\n",
      "0001200183.xml\n",
      "idler\n",
      "idler\n",
      "idler\n",
      "0001200142.xml\n",
      "idler\n",
      "idler\n",
      "idler\n",
      "0001200184.xml\n",
      "idler\n",
      "idler\n",
      "idler\n",
      "idler\n",
      "idler\n",
      "0001000009.xml\n",
      "idler\n",
      "idler\n",
      "idler\n",
      "idler\n",
      "idler\n",
      "idler\n",
      "0002000057.xml\n",
      "idler\n",
      "idler\n",
      "idler\n",
      "idler\n",
      "idler\n",
      "idler\n",
      "idler\n",
      "idler\n",
      "idler\n",
      "idler\n",
      "idler\n",
      "idler\n",
      "idler\n",
      "0001000002.xml\n",
      "idler\n",
      "idler\n",
      "idler\n",
      "idler\n",
      "idler\n",
      "0002000024.xml\n",
      "idler\n",
      "idler\n",
      "idler\n",
      "idler\n",
      "idler\n",
      "idler\n",
      "idler\n",
      "idler\n",
      "idler\n",
      "idler\n",
      "idler\n",
      "idler\n",
      "idler\n",
      "idler\n",
      "idler\n",
      "0002100009.xml\n",
      "idler\n",
      "idler\n",
      "idler\n",
      "idler\n",
      "idler\n",
      "idler\n",
      "idler\n",
      "0001100011.xml\n",
      "idler\n",
      "idler\n",
      "idler\n",
      "idler\n",
      "idler\n",
      "idler\n",
      "idler\n",
      "idler\n",
      "idler\n",
      "idler\n",
      "idler\n",
      "idler\n",
      "idler\n",
      "idler\n",
      "idler\n",
      "idler\n",
      "0001000033.xml\n",
      "idler\n",
      "idler\n",
      "idler\n",
      "idler\n",
      "idler\n",
      "idler\n",
      "idler\n",
      "idler\n",
      "0001000039.xml\n",
      "idler\n",
      "idler\n",
      "idler\n",
      "idler\n",
      "idler\n",
      "idler\n",
      "idler\n",
      "idler\n",
      "idler\n",
      "0003000000.xml\n",
      "idler\n",
      "idler\n",
      "idler\n",
      "idler\n",
      "idler\n",
      "idler\n",
      "idler\n",
      "idler\n",
      "idler\n",
      "0001100009.xml\n",
      "idler\n",
      "idler\n",
      "idler\n",
      "idler\n",
      "idler\n",
      "idler\n",
      "idler\n",
      "idler\n",
      "idler\n",
      "idler\n",
      "idler\n",
      "idler\n",
      "idler\n",
      "idler\n",
      "0002000056.xml\n",
      "idler\n",
      "idler\n",
      "idler\n",
      "idler\n",
      "idler\n",
      "idler\n",
      "idler\n",
      "idler\n",
      "idler\n",
      "idler\n",
      "idler\n",
      "idler\n",
      "0002000068.xml\n",
      "idler\n",
      "idler\n",
      "idler\n",
      "idler\n",
      "idler\n",
      "0001100021.xml\n",
      "idler\n",
      "idler\n",
      "idler\n",
      "idler\n",
      "idler\n",
      "idler\n",
      "idler\n",
      "idler\n",
      "idler\n",
      "idler\n",
      "idler\n",
      "idler\n",
      "idler\n",
      "idler\n",
      "idler\n",
      "idler\n",
      "idler\n",
      "0001200186.xml\n",
      "idler\n",
      "idler\n",
      "idler\n",
      "idler\n",
      "0001200129.xml\n",
      "idler\n",
      "idler\n",
      "idler\n",
      "idler\n",
      "0002000035.xml\n",
      "idler\n",
      "idler\n",
      "idler\n",
      "idler\n",
      "idler\n",
      "idler\n",
      "idler\n",
      "idler\n",
      "idler\n",
      "idler\n",
      "idler\n",
      "idler\n",
      "idler\n",
      "idler\n",
      "0001200122.xml\n",
      "idler\n",
      "idler\n",
      "idler\n",
      "idler\n",
      "idler\n",
      "idler\n",
      "idler\n",
      "idler\n",
      "idler\n",
      "idler\n",
      "0001200074.xml\n",
      "idler\n",
      "idler\n",
      "idler\n",
      "idler\n",
      "idler\n",
      "idler\n",
      "idler\n",
      "idler\n",
      "idler\n",
      "0001100044.xml\n",
      "idler\n",
      "idler\n",
      "idler\n",
      "idler\n",
      "idler\n",
      "idler\n",
      "idler\n",
      "idler\n",
      "idler\n",
      "idler\n",
      "idler\n",
      "idler\n",
      "idler\n",
      "idler\n",
      "idler\n",
      "idler\n",
      "idler\n",
      "idler\n",
      "idler\n",
      "0002000050.xml\n",
      "idler\n",
      "idler\n",
      "idler\n",
      "idler\n",
      "idler\n",
      "idler\n",
      "idler\n",
      "idler\n",
      "idler\n",
      "idler\n",
      "idler\n",
      "idler\n",
      "0001200130.xml\n",
      "idler\n",
      "idler\n",
      "idler\n",
      "idler\n",
      "idler\n",
      "0001200109.xml\n",
      "idler\n",
      "idler\n",
      "idler\n",
      "idler\n",
      "idler\n",
      "idler\n",
      "idler\n",
      "idler\n",
      "idler\n",
      "idler\n",
      "0001100033.xml\n",
      "idler\n",
      "idler\n",
      "idler\n",
      "idler\n",
      "idler\n",
      "idler\n",
      "idler\n",
      "idler\n",
      "idler\n",
      "idler\n",
      "idler\n",
      "idler\n",
      "idler\n",
      "idler\n",
      "idler\n",
      "idler\n",
      "idler\n",
      "idler\n",
      "idler\n",
      "idler\n",
      "idler\n",
      "idler\n",
      "idler\n",
      "0001100045.xml\n",
      "idler\n",
      "idler\n",
      "idler\n",
      "idler\n",
      "idler\n",
      "idler\n",
      "idler\n",
      "idler\n",
      "idler\n",
      "idler\n",
      "idler\n",
      "idler\n",
      "idler\n",
      "idler\n",
      "idler\n",
      "idler\n",
      "idler\n",
      "idler\n",
      "idler\n",
      "0001000003.xml\n",
      "idler\n",
      "idler\n",
      "idler\n",
      "idler\n",
      "0001200161.xml\n",
      "idler\n",
      "idler\n",
      "idler\n",
      "idler\n",
      "0002000000.xml\n",
      "idler\n",
      "0001000016.xml\n",
      "idler\n",
      "idler\n",
      "idler\n",
      "idler\n",
      "idler\n",
      "idler\n",
      "idler\n",
      "0001200146.xml\n",
      "idler\n",
      "idler\n",
      "idler\n",
      "idler\n",
      "idler\n",
      "idler\n",
      "idler\n",
      "idler\n",
      "idler\n",
      "idler\n",
      "idler\n",
      "idler\n",
      "idler\n",
      "0002000059.xml\n",
      "idler\n",
      "idler\n",
      "idler\n",
      "idler\n",
      "idler\n",
      "idler\n",
      "idler\n",
      "idler\n",
      "idler\n",
      "idler\n",
      "idler\n",
      "idler\n",
      "idler\n",
      "0001100013.xml\n",
      "idler\n",
      "idler\n",
      "idler\n",
      "idler\n",
      "idler\n",
      "idler\n",
      "idler\n",
      "idler\n",
      "idler\n",
      "idler\n",
      "idler\n",
      "idler\n",
      "idler\n",
      "idler\n",
      "idler\n",
      "0001200131.xml\n",
      "idler\n",
      "idler\n",
      "idler\n",
      "idler\n",
      "idler\n",
      "idler\n",
      "idler\n",
      "idler\n",
      "idler\n",
      "idler\n",
      "0001000024.xml\n",
      "idler\n",
      "idler\n",
      "idler\n",
      "idler\n",
      "idler\n",
      "idler\n",
      "0001000042.xml\n",
      "idler\n",
      "idler\n",
      "idler\n",
      "idler\n",
      "idler\n",
      "idler\n",
      "idler\n",
      "idler\n",
      "0001200171.xml\n",
      "idler\n",
      "idler\n",
      "idler\n",
      "idler\n",
      "idler\n",
      "0001100056.xml\n",
      "idler\n",
      "idler\n",
      "idler\n",
      "idler\n",
      "idler\n",
      "idler\n",
      "idler\n",
      "idler\n",
      "idler\n",
      "idler\n",
      "idler\n",
      "idler\n",
      "idler\n",
      "idler\n",
      "idler\n",
      "0001200105.xml\n",
      "idler\n",
      "idler\n",
      "idler\n",
      "idler\n",
      "idler\n",
      "idler\n",
      "idler\n",
      "idler\n",
      "idler\n",
      "0001000061.xml\n",
      "idler\n",
      "idler\n",
      "idler\n",
      "idler\n",
      "idler\n",
      "0001200163.xml\n",
      "idler\n",
      "idler\n",
      "idler\n",
      "idler\n",
      "0002000008.xml\n",
      "idler\n",
      "idler\n",
      "idler\n",
      "idler\n",
      "idler\n",
      "idler\n",
      "0003000020.xml\n",
      "idler\n",
      "idler\n",
      "idler\n",
      "idler\n",
      "idler\n",
      "idler\n",
      "idler\n",
      "idler\n",
      "0001200098.xml\n",
      "idler\n",
      "idler\n",
      "idler\n",
      "idler\n",
      "idler\n",
      "idler\n",
      "idler\n",
      "idler\n",
      "idler\n",
      "0002000041.xml\n",
      "idler\n",
      "idler\n",
      "idler\n",
      "idler\n",
      "idler\n",
      "idler\n",
      "idler\n",
      "idler\n",
      "idler\n",
      "idler\n",
      "idler\n",
      "idler\n",
      "0002100027.xml\n",
      "idler\n",
      "idler\n",
      "idler\n",
      "idler\n",
      "idler\n",
      "idler\n",
      "idler\n",
      "idler\n",
      "0002000055.xml\n",
      "idler\n",
      "idler\n",
      "idler\n",
      "idler\n",
      "idler\n",
      "idler\n",
      "idler\n",
      "idler\n",
      "idler\n",
      "idler\n",
      "idler\n",
      "idler\n",
      "idler\n",
      "0001100023.xml\n",
      "idler\n",
      "idler\n",
      "idler\n",
      "idler\n",
      "idler\n",
      "idler\n",
      "idler\n",
      "idler\n",
      "idler\n",
      "idler\n",
      "idler\n",
      "idler\n",
      "idler\n",
      "idler\n",
      "idler\n",
      "idler\n",
      "idler\n",
      "idler\n",
      "0002000060.xml\n",
      "idler\n",
      "idler\n",
      "idler\n",
      "idler\n",
      "idler\n",
      "idler\n",
      "idler\n",
      "idler\n",
      "idler\n",
      "idler\n",
      "idler\n",
      "0001200073.xml\n",
      "idler\n",
      "idler\n",
      "idler\n",
      "idler\n",
      "idler\n",
      "idler\n",
      "idler\n",
      "idler\n",
      "idler\n",
      "idler\n",
      "idler\n",
      "idler\n",
      "0002100026.xml\n",
      "idler\n",
      "idler\n",
      "idler\n",
      "idler\n",
      "idler\n",
      "idler\n",
      "idler\n",
      "idler\n",
      "0001000050.xml\n",
      "idler\n",
      "idler\n",
      "idler\n",
      "idler\n",
      "idler\n",
      "idler\n",
      "idler\n",
      "idler\n",
      "idler\n",
      "0002100036.xml\n",
      "idler\n",
      "idler\n",
      "idler\n",
      "idler\n",
      "idler\n",
      "idler\n",
      "idler\n",
      "0001000049.xml\n",
      "idler\n",
      "idler\n",
      "idler\n",
      "idler\n",
      "idler\n",
      "idler\n",
      "idler\n",
      "idler\n",
      "idler\n",
      "0001100028.xml\n",
      "idler\n",
      "idler\n",
      "idler\n",
      "idler\n",
      "idler\n",
      "idler\n",
      "idler\n",
      "idler\n",
      "idler\n",
      "idler\n",
      "idler\n",
      "idler\n",
      "idler\n",
      "idler\n",
      "idler\n",
      "idler\n",
      "idler\n",
      "idler\n",
      "idler\n",
      "idler\n",
      "idler\n",
      "idler\n",
      "idler\n",
      "0002000018.xml\n",
      "idler\n",
      "idler\n",
      "idler\n",
      "idler\n",
      "idler\n",
      "idler\n",
      "idler\n",
      "idler\n",
      "idler\n",
      "idler\n",
      "idler\n",
      "0001200104.xml\n",
      "idler\n",
      "idler\n",
      "idler\n",
      "idler\n",
      "idler\n",
      "idler\n",
      "idler\n",
      "idler\n",
      "idler\n",
      "0001200093.xml\n",
      "idler\n",
      "idler\n",
      "idler\n",
      "idler\n",
      "idler\n",
      "idler\n",
      "idler\n",
      "idler\n",
      "idler\n",
      "idler\n",
      "idler\n",
      "0001200111.xml\n",
      "idler\n",
      "idler\n",
      "idler\n",
      "idler\n",
      "idler\n",
      "idler\n",
      "0001200045.xml\n",
      "idler\n",
      "idler\n",
      "idler\n",
      "idler\n",
      "idler\n",
      "idler\n",
      "idler\n",
      "idler\n",
      "idler\n",
      "idler\n",
      "idler\n",
      "idler\n",
      "0002100032.xml\n",
      "idler\n",
      "idler\n",
      "idler\n",
      "idler\n",
      "idler\n",
      "idler\n",
      "idler\n",
      "0003000013.xml\n",
      "idler\n",
      "idler\n",
      "idler\n",
      "idler\n",
      "idler\n",
      "idler\n",
      "idler\n",
      "idler\n",
      "idler\n",
      "idler\n",
      "0002000009.xml\n",
      "idler\n",
      "idler\n",
      "idler\n",
      "idler\n",
      "idler\n",
      "idler\n",
      "0002000006.xml\n",
      "idler\n",
      "idler\n",
      "idler\n",
      "idler\n",
      "0001200149.xml\n",
      "idler\n",
      "0001100029.xml\n",
      "idler\n",
      "idler\n",
      "idler\n",
      "idler\n",
      "idler\n",
      "idler\n",
      "idler\n",
      "idler\n",
      "idler\n",
      "idler\n",
      "idler\n",
      "idler\n",
      "idler\n",
      "idler\n",
      "idler\n",
      "idler\n",
      "idler\n",
      "idler\n",
      "idler\n",
      "idler\n",
      "idler\n",
      "idler\n",
      "idler\n",
      "idler\n",
      "0001100057.xml\n",
      "idler\n",
      "idler\n",
      "idler\n",
      "idler\n",
      "idler\n",
      "idler\n",
      "idler\n",
      "0001200159.xml\n",
      "idler\n",
      "idler\n",
      "idler\n",
      "idler\n",
      "idler\n",
      "idler\n",
      "idler\n",
      "idler\n",
      "idler\n",
      "idler\n",
      "0002000002.xml\n",
      "idler\n",
      "idler\n",
      "0001000058.xml\n",
      "idler\n",
      "idler\n",
      "idler\n",
      "idler\n",
      "idler\n",
      "idler\n",
      "idler\n",
      "idler\n",
      "0001200119.xml\n",
      "idler\n",
      "idler\n",
      "idler\n",
      "idler\n",
      "idler\n",
      "idler\n",
      "idler\n",
      "idler\n",
      "idler\n",
      "idler\n",
      "idler\n",
      "0001200070.xml\n",
      "idler\n",
      "idler\n",
      "idler\n",
      "idler\n",
      "idler\n",
      "idler\n",
      "idler\n",
      "idler\n",
      "idler\n",
      "idler\n",
      "idler\n",
      "0002000064.xml\n",
      "idler\n",
      "idler\n",
      "idler\n",
      "idler\n",
      "idler\n",
      "idler\n",
      "idler\n",
      "0001000015.xml\n",
      "idler\n",
      "idler\n",
      "idler\n",
      "idler\n",
      "idler\n",
      "idler\n",
      "idler\n"
     ]
    },
    {
     "name": "stdout",
     "output_type": "stream",
     "text": [
      "0003000003.xml\n",
      "idler\n",
      "idler\n",
      "idler\n",
      "idler\n",
      "idler\n",
      "idler\n",
      "idler\n",
      "idler\n",
      "idler\n",
      "idler\n",
      "idler\n",
      "idler\n",
      "0001200110.xml\n",
      "idler\n",
      "idler\n",
      "idler\n",
      "idler\n",
      "idler\n",
      "idler\n",
      "idler\n",
      "idler\n",
      "0001200020.xml\n",
      "idler\n",
      "idler\n",
      "idler\n",
      "idler\n",
      "idler\n",
      "idler\n",
      "idler\n",
      "idler\n",
      "idler\n",
      "idler\n",
      "idler\n",
      "idler\n",
      "idler\n",
      "0001200103.xml\n",
      "idler\n",
      "idler\n",
      "idler\n",
      "idler\n",
      "idler\n",
      "idler\n",
      "idler\n",
      "idler\n",
      "idler\n",
      "idler\n",
      "0002000066.xml\n",
      "idler\n",
      "idler\n",
      "idler\n",
      "idler\n",
      "idler\n",
      "idler\n",
      "0003000042.xml\n",
      "idler\n",
      "idler\n",
      "idler\n",
      "idler\n",
      "idler\n",
      "idler\n",
      "idler\n",
      "idler\n",
      "idler\n",
      "idler\n",
      "0001200050.xml\n",
      "idler\n",
      "idler\n",
      "idler\n",
      "idler\n",
      "idler\n",
      "idler\n",
      "0001200140.xml\n",
      "idler\n",
      "idler\n",
      "idler\n",
      "idler\n",
      "idler\n",
      "idler\n",
      "idler\n",
      "idler\n",
      "0002000001.xml\n",
      "idler\n",
      "0001200175.xml\n",
      "idler\n",
      "idler\n",
      "idler\n",
      "idler\n",
      "idler\n",
      "idler\n",
      "0003000004.xml\n",
      "idler\n",
      "idler\n",
      "idler\n",
      "idler\n",
      "idler\n",
      "idler\n",
      "idler\n",
      "idler\n",
      "idler\n",
      "idler\n",
      "idler\n",
      "0003000024.xml\n",
      "idler\n",
      "idler\n",
      "idler\n",
      "idler\n",
      "idler\n",
      "idler\n",
      "idler\n",
      "idler\n",
      "0001200088.xml\n",
      "idler\n",
      "idler\n",
      "idler\n",
      "idler\n",
      "idler\n",
      "idler\n",
      "idler\n",
      "idler\n",
      "idler\n",
      "idler\n",
      "idler\n",
      "idler\n",
      "0003000028.xml\n",
      "idler\n",
      "idler\n",
      "idler\n",
      "idler\n",
      "idler\n",
      "idler\n",
      "idler\n",
      "idler\n",
      "idler\n",
      "idler\n",
      "0003000037.xml\n",
      "idler\n",
      "idler\n",
      "idler\n",
      "idler\n",
      "idler\n",
      "idler\n",
      "0002000027.xml\n",
      "idler\n",
      "idler\n",
      "idler\n",
      "idler\n",
      "idler\n",
      "idler\n",
      "idler\n",
      "idler\n",
      "idler\n",
      "idler\n",
      "idler\n",
      "idler\n",
      "0002100023.xml\n",
      "idler\n",
      "idler\n",
      "idler\n",
      "idler\n",
      "idler\n",
      "idler\n",
      "idler\n",
      "idler\n",
      "0002100035.xml\n",
      "idler\n",
      "idler\n",
      "idler\n",
      "idler\n",
      "idler\n",
      "idler\n",
      "idler\n",
      "idler\n",
      "0003000038.xml\n",
      "idler\n",
      "idler\n",
      "idler\n",
      "idler\n",
      "idler\n",
      "idler\n",
      "idler\n",
      "idler\n",
      "idler\n",
      "0001200147.xml\n",
      "idler\n",
      "idler\n",
      "idler\n",
      "idler\n",
      "idler\n",
      "idler\n",
      "idler\n",
      "idler\n",
      "idler\n",
      "idler\n",
      "idler\n",
      "idler\n",
      "idler\n",
      "idler\n",
      "0001200049.xml\n",
      "idler\n",
      "idler\n",
      "idler\n",
      "idler\n",
      "idler\n",
      "idler\n",
      "idler\n",
      "idler\n",
      "idler\n",
      "idler\n",
      "idler\n",
      "idler\n",
      "0002100007.xml\n",
      "idler\n",
      "idler\n",
      "idler\n",
      "idler\n",
      "idler\n",
      "idler\n",
      "0003000049.xml\n",
      "idler\n",
      "idler\n",
      "idler\n",
      "idler\n",
      "idler\n",
      "idler\n",
      "idler\n",
      "idler\n",
      "idler\n",
      "idler\n",
      "0003000033.xml\n",
      "idler\n",
      "idler\n",
      "idler\n",
      "idler\n",
      "idler\n",
      "idler\n",
      "idler\n",
      "idler\n",
      "idler\n",
      "idler\n",
      "0001200089.xml\n",
      "idler\n",
      "idler\n",
      "idler\n",
      "idler\n",
      "idler\n",
      "idler\n",
      "idler\n",
      "idler\n",
      "idler\n",
      "idler\n",
      "idler\n",
      "0001200125.xml\n",
      "idler\n",
      "idler\n",
      "idler\n",
      "idler\n",
      "idler\n",
      "idler\n",
      "idler\n",
      "idler\n",
      "idler\n",
      "idler\n",
      "0001200115.xml\n",
      "idler\n",
      "idler\n",
      "idler\n",
      "idler\n",
      "idler\n",
      "idler\n",
      "idler\n",
      "idler\n",
      "idler\n",
      "idler\n",
      "0001200127.xml\n",
      "idler\n",
      "idler\n",
      "idler\n",
      "idler\n",
      "idler\n",
      "idler\n",
      "0002000003.xml\n",
      "idler\n",
      "idler\n",
      "0002000063.xml\n",
      "idler\n",
      "idler\n",
      "idler\n",
      "idler\n",
      "idler\n",
      "idler\n",
      "idler\n",
      "idler\n",
      "idler\n",
      "0003000044.xml\n",
      "idler\n",
      "idler\n",
      "idler\n",
      "idler\n",
      "idler\n",
      "idler\n",
      "idler\n",
      "idler\n",
      "idler\n",
      "0002100020.xml\n",
      "idler\n",
      "idler\n",
      "idler\n",
      "idler\n",
      "idler\n",
      "idler\n",
      "idler\n",
      "idler\n",
      "idler\n",
      "0003000014.xml\n",
      "idler\n",
      "idler\n",
      "idler\n",
      "idler\n",
      "idler\n",
      "idler\n",
      "idler\n",
      "idler\n",
      "idler\n",
      "idler\n",
      "idler\n",
      "idler\n",
      "idler\n",
      "0001000065.xml\n",
      "idler\n",
      "idler\n",
      "idler\n",
      "0001100053.xml\n",
      "idler\n",
      "idler\n",
      "idler\n",
      "idler\n",
      "idler\n",
      "idler\n",
      "idler\n",
      "idler\n",
      "idler\n",
      "idler\n",
      "idler\n",
      "idler\n",
      "idler\n",
      "idler\n",
      "idler\n",
      "idler\n",
      "idler\n",
      "idler\n",
      "idler\n",
      "0002000022.xml\n",
      "idler\n",
      "idler\n",
      "idler\n",
      "idler\n",
      "idler\n",
      "idler\n",
      "idler\n",
      "idler\n",
      "idler\n",
      "idler\n",
      "idler\n",
      "idler\n",
      "idler\n",
      "0001100017.xml\n",
      "idler\n",
      "idler\n",
      "idler\n",
      "idler\n",
      "idler\n",
      "idler\n",
      "idler\n",
      "idler\n",
      "idler\n",
      "idler\n",
      "idler\n",
      "idler\n",
      "idler\n",
      "idler\n",
      "idler\n",
      "0001100003.xml\n",
      "idler\n",
      "idler\n",
      "idler\n",
      "idler\n",
      "idler\n",
      "idler\n",
      "idler\n",
      "idler\n",
      "idler\n",
      "idler\n",
      "0001100038.xml\n",
      "idler\n",
      "idler\n",
      "idler\n",
      "idler\n",
      "idler\n",
      "idler\n",
      "idler\n",
      "idler\n",
      "idler\n",
      "idler\n",
      "idler\n",
      "idler\n",
      "idler\n",
      "idler\n",
      "idler\n",
      "idler\n",
      "idler\n",
      "idler\n",
      "idler\n",
      "idler\n",
      "idler\n",
      "0002000034.xml\n",
      "idler\n",
      "idler\n",
      "idler\n",
      "idler\n",
      "idler\n",
      "idler\n",
      "idler\n",
      "idler\n",
      "idler\n",
      "idler\n",
      "idler\n",
      "idler\n",
      "0001200112.xml\n",
      "idler\n",
      "idler\n",
      "idler\n",
      "idler\n",
      "idler\n",
      "idler\n",
      "idler\n",
      "idler\n",
      "idler\n",
      "0001200097.xml\n",
      "idler\n",
      "idler\n",
      "idler\n",
      "idler\n",
      "idler\n",
      "idler\n",
      "idler\n",
      "idler\n",
      "idler\n",
      "0001200143.xml\n",
      "idler\n",
      "idler\n",
      "0001000037.xml\n",
      "idler\n",
      "idler\n",
      "idler\n",
      "idler\n",
      "idler\n",
      "idler\n",
      "idler\n",
      "0002000058.xml\n",
      "idler\n",
      "idler\n",
      "idler\n",
      "idler\n",
      "idler\n",
      "idler\n",
      "idler\n",
      "idler\n",
      "idler\n",
      "idler\n",
      "idler\n",
      "idler\n",
      "0002100024.xml\n",
      "idler\n",
      "idler\n",
      "idler\n",
      "idler\n",
      "idler\n",
      "idler\n",
      "idler\n",
      "0002000017.xml\n",
      "idler\n",
      "idler\n",
      "idler\n",
      "idler\n",
      "idler\n",
      "idler\n",
      "idler\n",
      "idler\n",
      "idler\n",
      "idler\n",
      "idler\n",
      "0001200137.xml\n",
      "idler\n",
      "idler\n",
      "idler\n",
      "idler\n",
      "idler\n",
      "idler\n",
      "idler\n",
      "idler\n",
      "idler\n",
      "idler\n",
      "idler\n",
      "idler\n",
      "0001000036.xml\n",
      "idler\n",
      "idler\n",
      "idler\n",
      "idler\n",
      "idler\n",
      "idler\n",
      "idler\n",
      "idler\n",
      "idler\n",
      "0002100015.xml\n",
      "idler\n",
      "idler\n",
      "idler\n",
      "idler\n",
      "idler\n",
      "idler\n",
      "idler\n",
      "idler\n",
      "idler\n",
      "0002100041.xml\n",
      "idler\n",
      "idler\n",
      "idler\n",
      "idler\n",
      "idler\n",
      "idler\n",
      "idler\n",
      "idler\n",
      "0002000031.xml\n",
      "idler\n",
      "idler\n",
      "idler\n",
      "idler\n",
      "idler\n",
      "idler\n",
      "idler\n",
      "idler\n",
      "idler\n",
      "idler\n",
      "idler\n",
      "idler\n",
      "0001200182.xml\n",
      "idler\n",
      "idler\n",
      "idler\n",
      "idler\n",
      "idler\n",
      "idler\n",
      "idler\n",
      "idler\n",
      "idler\n",
      "idler\n",
      "0002100034.xml\n",
      "idler\n",
      "idler\n",
      "idler\n",
      "idler\n",
      "idler\n",
      "idler\n",
      "idler\n",
      "idler\n",
      "0002000051.xml\n",
      "idler\n",
      "idler\n",
      "idler\n",
      "idler\n",
      "idler\n",
      "idler\n",
      "idler\n",
      "idler\n",
      "idler\n",
      "idler\n",
      "idler\n",
      "idler\n",
      "0001100019.xml\n",
      "idler\n",
      "idler\n",
      "idler\n",
      "idler\n",
      "idler\n",
      "idler\n",
      "idler\n",
      "idler\n",
      "idler\n",
      "idler\n",
      "idler\n",
      "idler\n",
      "idler\n",
      "idler\n",
      "idler\n",
      "0001200096.xml\n",
      "idler\n",
      "idler\n",
      "idler\n",
      "idler\n",
      "idler\n",
      "idler\n",
      "idler\n",
      "idler\n",
      "0001000048.xml\n",
      "idler\n",
      "idler\n",
      "idler\n",
      "idler\n",
      "idler\n",
      "idler\n",
      "idler\n",
      "0002000054.xml\n",
      "idler\n",
      "idler\n",
      "idler\n",
      "idler\n",
      "idler\n",
      "idler\n",
      "idler\n",
      "idler\n",
      "idler\n",
      "idler\n",
      "idler\n",
      "idler\n",
      "idler\n",
      "0003000047.xml\n",
      "idler\n",
      "idler\n",
      "idler\n",
      "idler\n",
      "idler\n",
      "idler\n",
      "0002000023.xml\n",
      "idler\n",
      "idler\n",
      "idler\n",
      "idler\n",
      "idler\n",
      "idler\n",
      "idler\n",
      "idler\n",
      "idler\n",
      "idler\n",
      "idler\n",
      "idler\n",
      "idler\n",
      "0001100005.xml\n",
      "idler\n",
      "idler\n",
      "idler\n",
      "idler\n",
      "idler\n",
      "idler\n",
      "idler\n",
      "idler\n",
      "idler\n",
      "0001000029.xml\n",
      "idler\n",
      "idler\n",
      "idler\n",
      "idler\n",
      "idler\n",
      "idler\n",
      "idler\n",
      "0001200165.xml\n",
      "idler\n",
      "idler\n",
      "idler\n",
      "idler\n",
      "idler\n",
      "idler\n",
      "idler\n",
      "0001200062.xml\n",
      "idler\n",
      "idler\n",
      "idler\n",
      "idler\n",
      "idler\n",
      "idler\n",
      "idler\n",
      "idler\n",
      "idler\n",
      "idler\n",
      "idler\n",
      "idler\n",
      "idler\n",
      "idler\n",
      "0001200128.xml\n",
      "idler\n",
      "idler\n",
      "idler\n",
      "idler\n",
      "idler\n",
      "idler\n",
      "idler\n",
      "idler\n",
      "idler\n",
      "0001200106.xml\n",
      "idler\n",
      "idler\n",
      "idler\n",
      "idler\n",
      "idler\n",
      "idler\n",
      "idler\n",
      "0002000065.xml\n",
      "idler\n",
      "idler\n",
      "idler\n",
      "idler\n",
      "idler\n",
      "idler\n",
      "idler\n",
      "0003000008.xml\n",
      "idler\n",
      "idler\n",
      "idler\n",
      "idler\n",
      "idler\n",
      "idler\n",
      "idler\n",
      "idler\n",
      "idler\n",
      "idler\n",
      "idler\n",
      "idler\n",
      "idler\n",
      "idler\n",
      "0001200023.xml\n",
      "idler\n",
      "idler\n",
      "idler\n",
      "idler\n",
      "idler\n",
      "idler\n",
      "idler\n",
      "idler\n",
      "idler\n",
      "idler\n",
      "idler\n",
      "idler\n",
      "idler\n",
      "idler\n",
      "0001200185.xml\n",
      "idler\n",
      "idler\n",
      "idler\n",
      "idler\n",
      "0001000032.xml\n",
      "idler\n",
      "idler\n",
      "idler\n",
      "idler\n",
      "idler\n",
      "0001100049.xml\n",
      "idler\n",
      "idler\n",
      "idler\n",
      "idler\n",
      "idler\n",
      "idler\n",
      "idler\n",
      "idler\n",
      "idler\n",
      "idler\n",
      "idler\n",
      "idler\n",
      "idler\n",
      "idler\n",
      "idler\n",
      "idler\n",
      "idler\n",
      "idler\n",
      "idler\n",
      "0001200034.xml\n",
      "idler\n",
      "idler\n",
      "idler\n",
      "idler\n",
      "idler\n",
      "idler\n",
      "idler\n",
      "idler\n",
      "idler\n",
      "idler\n",
      "idler\n",
      "idler\n",
      "0001000047.xml\n",
      "idler\n",
      "idler\n",
      "idler\n",
      "idler\n",
      "idler\n",
      "idler\n",
      "idler\n",
      "0002100031.xml\n",
      "idler\n",
      "idler\n",
      "idler\n",
      "idler\n",
      "idler\n",
      "idler\n",
      "idler\n",
      "idler\n",
      "0001100027.xml\n",
      "idler\n",
      "idler\n",
      "idler\n",
      "idler\n",
      "idler\n",
      "idler\n",
      "idler\n",
      "idler\n",
      "idler\n",
      "idler\n",
      "idler\n",
      "idler\n",
      "idler\n",
      "idler\n",
      "idler\n",
      "idler\n",
      "idler\n",
      "idler\n",
      "idler\n",
      "idler\n",
      "idler\n",
      "idler\n",
      "idler\n",
      "idler\n",
      "0001000007.xml\n",
      "idler\n",
      "idler\n",
      "idler\n",
      "idler\n",
      "idler\n",
      "idler\n",
      "idler\n",
      "0001100052.xml\n",
      "idler\n",
      "idler\n",
      "idler\n",
      "idler\n",
      "idler\n",
      "idler\n",
      "idler\n",
      "idler\n",
      "idler\n",
      "idler\n",
      "idler\n",
      "idler\n",
      "idler\n",
      "idler\n",
      "idler\n",
      "idler\n",
      "idler\n",
      "idler\n",
      "0001200095.xml\n",
      "idler\n",
      "idler\n",
      "idler\n",
      "idler\n",
      "idler\n",
      "idler\n",
      "idler\n",
      "idler\n",
      "idler\n",
      "idler\n",
      "0003000001.xml\n",
      "idler\n",
      "idler\n",
      "idler\n",
      "idler\n",
      "idler\n",
      "idler\n",
      "idler\n",
      "idler\n",
      "idler\n",
      "0001200069.xml\n",
      "idler\n",
      "idler\n",
      "idler\n",
      "idler\n",
      "idler\n",
      "idler\n",
      "idler\n",
      "idler\n",
      "idler\n",
      "idler\n",
      "0001200124.xml\n",
      "idler\n",
      "idler\n",
      "idler\n",
      "idler\n",
      "idler\n",
      "idler\n",
      "idler\n",
      "idler\n",
      "idler\n",
      "idler\n",
      "idler\n",
      "0003000018.xml\n",
      "idler\n",
      "idler\n",
      "idler\n",
      "idler\n",
      "idler\n",
      "idler\n",
      "idler\n",
      "idler\n"
     ]
    },
    {
     "data": {
      "text/plain": [
       "<Figure size 1600x1200 with 0 Axes>"
      ]
     },
     "metadata": {},
     "output_type": "display_data"
    },
    {
     "data": {
      "text/plain": [
       "<Figure size 1600x1200 with 0 Axes>"
      ]
     },
     "metadata": {},
     "output_type": "display_data"
    },
    {
     "data": {
      "text/plain": [
       "<Figure size 1600x1200 with 0 Axes>"
      ]
     },
     "metadata": {},
     "output_type": "display_data"
    },
    {
     "data": {
      "text/plain": [
       "<Figure size 1600x1200 with 0 Axes>"
      ]
     },
     "metadata": {},
     "output_type": "display_data"
    },
    {
     "data": {
      "text/plain": [
       "<Figure size 1600x1200 with 0 Axes>"
      ]
     },
     "metadata": {},
     "output_type": "display_data"
    },
    {
     "data": {
      "text/plain": [
       "<Figure size 1600x1200 with 0 Axes>"
      ]
     },
     "metadata": {},
     "output_type": "display_data"
    },
    {
     "data": {
      "text/plain": [
       "<Figure size 1600x1200 with 0 Axes>"
      ]
     },
     "metadata": {},
     "output_type": "display_data"
    },
    {
     "data": {
      "text/plain": [
       "<Figure size 1600x1200 with 0 Axes>"
      ]
     },
     "metadata": {},
     "output_type": "display_data"
    },
    {
     "data": {
      "text/plain": [
       "<Figure size 1600x1200 with 0 Axes>"
      ]
     },
     "metadata": {},
     "output_type": "display_data"
    },
    {
     "data": {
      "text/plain": [
       "<Figure size 1600x1200 with 0 Axes>"
      ]
     },
     "metadata": {},
     "output_type": "display_data"
    },
    {
     "data": {
      "text/plain": [
       "<Figure size 1600x1200 with 0 Axes>"
      ]
     },
     "metadata": {},
     "output_type": "display_data"
    },
    {
     "data": {
      "text/plain": [
       "<Figure size 1600x1200 with 0 Axes>"
      ]
     },
     "metadata": {},
     "output_type": "display_data"
    },
    {
     "data": {
      "text/plain": [
       "<Figure size 1600x1200 with 0 Axes>"
      ]
     },
     "metadata": {},
     "output_type": "display_data"
    },
    {
     "data": {
      "text/plain": [
       "<Figure size 1600x1200 with 0 Axes>"
      ]
     },
     "metadata": {},
     "output_type": "display_data"
    },
    {
     "data": {
      "text/plain": [
       "<Figure size 1600x1200 with 0 Axes>"
      ]
     },
     "metadata": {},
     "output_type": "display_data"
    },
    {
     "data": {
      "text/plain": [
       "<Figure size 1600x1200 with 0 Axes>"
      ]
     },
     "metadata": {},
     "output_type": "display_data"
    },
    {
     "data": {
      "text/plain": [
       "<Figure size 1600x1200 with 0 Axes>"
      ]
     },
     "metadata": {},
     "output_type": "display_data"
    },
    {
     "data": {
      "text/plain": [
       "<Figure size 1600x1200 with 0 Axes>"
      ]
     },
     "metadata": {},
     "output_type": "display_data"
    },
    {
     "data": {
      "text/plain": [
       "<Figure size 1600x1200 with 0 Axes>"
      ]
     },
     "metadata": {},
     "output_type": "display_data"
    },
    {
     "data": {
      "text/plain": [
       "<Figure size 1600x1200 with 0 Axes>"
      ]
     },
     "metadata": {},
     "output_type": "display_data"
    },
    {
     "data": {
      "text/plain": [
       "<Figure size 1600x1200 with 0 Axes>"
      ]
     },
     "metadata": {},
     "output_type": "display_data"
    },
    {
     "data": {
      "text/plain": [
       "<Figure size 1600x1200 with 0 Axes>"
      ]
     },
     "metadata": {},
     "output_type": "display_data"
    },
    {
     "data": {
      "text/plain": [
       "<Figure size 1600x1200 with 0 Axes>"
      ]
     },
     "metadata": {},
     "output_type": "display_data"
    },
    {
     "data": {
      "text/plain": [
       "<Figure size 1600x1200 with 0 Axes>"
      ]
     },
     "metadata": {},
     "output_type": "display_data"
    },
    {
     "data": {
      "text/plain": [
       "<Figure size 1600x1200 with 0 Axes>"
      ]
     },
     "metadata": {},
     "output_type": "display_data"
    },
    {
     "data": {
      "text/plain": [
       "<Figure size 1600x1200 with 0 Axes>"
      ]
     },
     "metadata": {},
     "output_type": "display_data"
    },
    {
     "data": {
      "text/plain": [
       "<Figure size 1600x1200 with 0 Axes>"
      ]
     },
     "metadata": {},
     "output_type": "display_data"
    },
    {
     "data": {
      "text/plain": [
       "<Figure size 1600x1200 with 0 Axes>"
      ]
     },
     "metadata": {},
     "output_type": "display_data"
    },
    {
     "data": {
      "text/plain": [
       "<Figure size 1600x1200 with 0 Axes>"
      ]
     },
     "metadata": {},
     "output_type": "display_data"
    },
    {
     "data": {
      "text/plain": [
       "<Figure size 1600x1200 with 0 Axes>"
      ]
     },
     "metadata": {},
     "output_type": "display_data"
    },
    {
     "data": {
      "text/plain": [
       "<Figure size 1600x1200 with 0 Axes>"
      ]
     },
     "metadata": {},
     "output_type": "display_data"
    },
    {
     "data": {
      "text/plain": [
       "<Figure size 1600x1200 with 0 Axes>"
      ]
     },
     "metadata": {},
     "output_type": "display_data"
    },
    {
     "data": {
      "text/plain": [
       "<Figure size 1600x1200 with 0 Axes>"
      ]
     },
     "metadata": {},
     "output_type": "display_data"
    },
    {
     "data": {
      "text/plain": [
       "<Figure size 1600x1200 with 0 Axes>"
      ]
     },
     "metadata": {},
     "output_type": "display_data"
    },
    {
     "data": {
      "text/plain": [
       "<Figure size 1600x1200 with 0 Axes>"
      ]
     },
     "metadata": {},
     "output_type": "display_data"
    },
    {
     "data": {
      "text/plain": [
       "<Figure size 1600x1200 with 0 Axes>"
      ]
     },
     "metadata": {},
     "output_type": "display_data"
    },
    {
     "data": {
      "text/plain": [
       "<Figure size 1600x1200 with 0 Axes>"
      ]
     },
     "metadata": {},
     "output_type": "display_data"
    },
    {
     "data": {
      "text/plain": [
       "<Figure size 1600x1200 with 0 Axes>"
      ]
     },
     "metadata": {},
     "output_type": "display_data"
    },
    {
     "data": {
      "text/plain": [
       "<Figure size 1600x1200 with 0 Axes>"
      ]
     },
     "metadata": {},
     "output_type": "display_data"
    },
    {
     "data": {
      "text/plain": [
       "<Figure size 1600x1200 with 0 Axes>"
      ]
     },
     "metadata": {},
     "output_type": "display_data"
    },
    {
     "data": {
      "text/plain": [
       "<Figure size 1600x1200 with 0 Axes>"
      ]
     },
     "metadata": {},
     "output_type": "display_data"
    },
    {
     "data": {
      "text/plain": [
       "<Figure size 1600x1200 with 0 Axes>"
      ]
     },
     "metadata": {},
     "output_type": "display_data"
    },
    {
     "data": {
      "text/plain": [
       "<Figure size 1600x1200 with 0 Axes>"
      ]
     },
     "metadata": {},
     "output_type": "display_data"
    },
    {
     "data": {
      "text/plain": [
       "<Figure size 1600x1200 with 0 Axes>"
      ]
     },
     "metadata": {},
     "output_type": "display_data"
    },
    {
     "data": {
      "text/plain": [
       "<Figure size 1600x1200 with 0 Axes>"
      ]
     },
     "metadata": {},
     "output_type": "display_data"
    },
    {
     "data": {
      "text/plain": [
       "<Figure size 1600x1200 with 0 Axes>"
      ]
     },
     "metadata": {},
     "output_type": "display_data"
    },
    {
     "data": {
      "text/plain": [
       "<Figure size 1600x1200 with 0 Axes>"
      ]
     },
     "metadata": {},
     "output_type": "display_data"
    },
    {
     "data": {
      "text/plain": [
       "<Figure size 1600x1200 with 0 Axes>"
      ]
     },
     "metadata": {},
     "output_type": "display_data"
    },
    {
     "data": {
      "text/plain": [
       "<Figure size 1600x1200 with 0 Axes>"
      ]
     },
     "metadata": {},
     "output_type": "display_data"
    },
    {
     "data": {
      "text/plain": [
       "<Figure size 1600x1200 with 0 Axes>"
      ]
     },
     "metadata": {},
     "output_type": "display_data"
    },
    {
     "data": {
      "text/plain": [
       "<Figure size 1600x1200 with 0 Axes>"
      ]
     },
     "metadata": {},
     "output_type": "display_data"
    },
    {
     "data": {
      "text/plain": [
       "<Figure size 1600x1200 with 0 Axes>"
      ]
     },
     "metadata": {},
     "output_type": "display_data"
    },
    {
     "data": {
      "text/plain": [
       "<Figure size 1600x1200 with 0 Axes>"
      ]
     },
     "metadata": {},
     "output_type": "display_data"
    },
    {
     "data": {
      "text/plain": [
       "<Figure size 1600x1200 with 0 Axes>"
      ]
     },
     "metadata": {},
     "output_type": "display_data"
    },
    {
     "data": {
      "text/plain": [
       "<Figure size 1600x1200 with 0 Axes>"
      ]
     },
     "metadata": {},
     "output_type": "display_data"
    },
    {
     "data": {
      "text/plain": [
       "<Figure size 1600x1200 with 0 Axes>"
      ]
     },
     "metadata": {},
     "output_type": "display_data"
    },
    {
     "data": {
      "text/plain": [
       "<Figure size 1600x1200 with 0 Axes>"
      ]
     },
     "metadata": {},
     "output_type": "display_data"
    },
    {
     "data": {
      "text/plain": [
       "<Figure size 1600x1200 with 0 Axes>"
      ]
     },
     "metadata": {},
     "output_type": "display_data"
    },
    {
     "data": {
      "text/plain": [
       "<Figure size 1600x1200 with 0 Axes>"
      ]
     },
     "metadata": {},
     "output_type": "display_data"
    },
    {
     "data": {
      "text/plain": [
       "<Figure size 1600x1200 with 0 Axes>"
      ]
     },
     "metadata": {},
     "output_type": "display_data"
    },
    {
     "data": {
      "text/plain": [
       "<Figure size 1600x1200 with 0 Axes>"
      ]
     },
     "metadata": {},
     "output_type": "display_data"
    },
    {
     "data": {
      "text/plain": [
       "<Figure size 1600x1200 with 0 Axes>"
      ]
     },
     "metadata": {},
     "output_type": "display_data"
    },
    {
     "data": {
      "text/plain": [
       "<Figure size 1600x1200 with 0 Axes>"
      ]
     },
     "metadata": {},
     "output_type": "display_data"
    },
    {
     "data": {
      "text/plain": [
       "<Figure size 1600x1200 with 0 Axes>"
      ]
     },
     "metadata": {},
     "output_type": "display_data"
    },
    {
     "data": {
      "text/plain": [
       "<Figure size 1600x1200 with 0 Axes>"
      ]
     },
     "metadata": {},
     "output_type": "display_data"
    },
    {
     "data": {
      "text/plain": [
       "<Figure size 1600x1200 with 0 Axes>"
      ]
     },
     "metadata": {},
     "output_type": "display_data"
    },
    {
     "data": {
      "text/plain": [
       "<Figure size 1600x1200 with 0 Axes>"
      ]
     },
     "metadata": {},
     "output_type": "display_data"
    },
    {
     "data": {
      "text/plain": [
       "<Figure size 1600x1200 with 0 Axes>"
      ]
     },
     "metadata": {},
     "output_type": "display_data"
    },
    {
     "data": {
      "text/plain": [
       "<Figure size 1600x1200 with 0 Axes>"
      ]
     },
     "metadata": {},
     "output_type": "display_data"
    },
    {
     "data": {
      "text/plain": [
       "<Figure size 1600x1200 with 0 Axes>"
      ]
     },
     "metadata": {},
     "output_type": "display_data"
    },
    {
     "data": {
      "text/plain": [
       "<Figure size 1600x1200 with 0 Axes>"
      ]
     },
     "metadata": {},
     "output_type": "display_data"
    },
    {
     "data": {
      "text/plain": [
       "<Figure size 1600x1200 with 0 Axes>"
      ]
     },
     "metadata": {},
     "output_type": "display_data"
    },
    {
     "data": {
      "text/plain": [
       "<Figure size 1600x1200 with 0 Axes>"
      ]
     },
     "metadata": {},
     "output_type": "display_data"
    },
    {
     "data": {
      "text/plain": [
       "<Figure size 1600x1200 with 0 Axes>"
      ]
     },
     "metadata": {},
     "output_type": "display_data"
    },
    {
     "data": {
      "text/plain": [
       "<Figure size 1600x1200 with 0 Axes>"
      ]
     },
     "metadata": {},
     "output_type": "display_data"
    },
    {
     "data": {
      "text/plain": [
       "<Figure size 1600x1200 with 0 Axes>"
      ]
     },
     "metadata": {},
     "output_type": "display_data"
    },
    {
     "data": {
      "text/plain": [
       "<Figure size 1600x1200 with 0 Axes>"
      ]
     },
     "metadata": {},
     "output_type": "display_data"
    },
    {
     "data": {
      "text/plain": [
       "<Figure size 1600x1200 with 0 Axes>"
      ]
     },
     "metadata": {},
     "output_type": "display_data"
    },
    {
     "data": {
      "text/plain": [
       "<Figure size 1600x1200 with 0 Axes>"
      ]
     },
     "metadata": {},
     "output_type": "display_data"
    },
    {
     "data": {
      "text/plain": [
       "<Figure size 1600x1200 with 0 Axes>"
      ]
     },
     "metadata": {},
     "output_type": "display_data"
    },
    {
     "data": {
      "text/plain": [
       "<Figure size 1600x1200 with 0 Axes>"
      ]
     },
     "metadata": {},
     "output_type": "display_data"
    },
    {
     "data": {
      "text/plain": [
       "<Figure size 1600x1200 with 0 Axes>"
      ]
     },
     "metadata": {},
     "output_type": "display_data"
    },
    {
     "data": {
      "text/plain": [
       "<Figure size 1600x1200 with 0 Axes>"
      ]
     },
     "metadata": {},
     "output_type": "display_data"
    },
    {
     "data": {
      "text/plain": [
       "<Figure size 1600x1200 with 0 Axes>"
      ]
     },
     "metadata": {},
     "output_type": "display_data"
    },
    {
     "data": {
      "text/plain": [
       "<Figure size 1600x1200 with 0 Axes>"
      ]
     },
     "metadata": {},
     "output_type": "display_data"
    },
    {
     "data": {
      "text/plain": [
       "<Figure size 1600x1200 with 0 Axes>"
      ]
     },
     "metadata": {},
     "output_type": "display_data"
    },
    {
     "data": {
      "text/plain": [
       "<Figure size 1600x1200 with 0 Axes>"
      ]
     },
     "metadata": {},
     "output_type": "display_data"
    },
    {
     "data": {
      "text/plain": [
       "<Figure size 1600x1200 with 0 Axes>"
      ]
     },
     "metadata": {},
     "output_type": "display_data"
    },
    {
     "data": {
      "text/plain": [
       "<Figure size 1600x1200 with 0 Axes>"
      ]
     },
     "metadata": {},
     "output_type": "display_data"
    },
    {
     "data": {
      "text/plain": [
       "<Figure size 1600x1200 with 0 Axes>"
      ]
     },
     "metadata": {},
     "output_type": "display_data"
    },
    {
     "data": {
      "text/plain": [
       "<Figure size 1600x1200 with 0 Axes>"
      ]
     },
     "metadata": {},
     "output_type": "display_data"
    },
    {
     "data": {
      "text/plain": [
       "<Figure size 1600x1200 with 0 Axes>"
      ]
     },
     "metadata": {},
     "output_type": "display_data"
    },
    {
     "data": {
      "text/plain": [
       "<Figure size 1600x1200 with 0 Axes>"
      ]
     },
     "metadata": {},
     "output_type": "display_data"
    },
    {
     "data": {
      "text/plain": [
       "<Figure size 1600x1200 with 0 Axes>"
      ]
     },
     "metadata": {},
     "output_type": "display_data"
    },
    {
     "data": {
      "text/plain": [
       "<Figure size 1600x1200 with 0 Axes>"
      ]
     },
     "metadata": {},
     "output_type": "display_data"
    },
    {
     "data": {
      "text/plain": [
       "<Figure size 1600x1200 with 0 Axes>"
      ]
     },
     "metadata": {},
     "output_type": "display_data"
    },
    {
     "data": {
      "text/plain": [
       "<Figure size 1600x1200 with 0 Axes>"
      ]
     },
     "metadata": {},
     "output_type": "display_data"
    },
    {
     "data": {
      "text/plain": [
       "<Figure size 1600x1200 with 0 Axes>"
      ]
     },
     "metadata": {},
     "output_type": "display_data"
    },
    {
     "data": {
      "text/plain": [
       "<Figure size 1600x1200 with 0 Axes>"
      ]
     },
     "metadata": {},
     "output_type": "display_data"
    },
    {
     "data": {
      "text/plain": [
       "<Figure size 1600x1200 with 0 Axes>"
      ]
     },
     "metadata": {},
     "output_type": "display_data"
    },
    {
     "data": {
      "text/plain": [
       "<Figure size 1600x1200 with 0 Axes>"
      ]
     },
     "metadata": {},
     "output_type": "display_data"
    },
    {
     "data": {
      "text/plain": [
       "<Figure size 1600x1200 with 0 Axes>"
      ]
     },
     "metadata": {},
     "output_type": "display_data"
    },
    {
     "data": {
      "text/plain": [
       "<Figure size 1600x1200 with 0 Axes>"
      ]
     },
     "metadata": {},
     "output_type": "display_data"
    },
    {
     "data": {
      "text/plain": [
       "<Figure size 1600x1200 with 0 Axes>"
      ]
     },
     "metadata": {},
     "output_type": "display_data"
    },
    {
     "data": {
      "text/plain": [
       "<Figure size 1600x1200 with 0 Axes>"
      ]
     },
     "metadata": {},
     "output_type": "display_data"
    },
    {
     "data": {
      "text/plain": [
       "<Figure size 1600x1200 with 0 Axes>"
      ]
     },
     "metadata": {},
     "output_type": "display_data"
    },
    {
     "data": {
      "text/plain": [
       "<Figure size 1600x1200 with 0 Axes>"
      ]
     },
     "metadata": {},
     "output_type": "display_data"
    },
    {
     "data": {
      "text/plain": [
       "<Figure size 1600x1200 with 0 Axes>"
      ]
     },
     "metadata": {},
     "output_type": "display_data"
    },
    {
     "data": {
      "text/plain": [
       "<Figure size 1600x1200 with 0 Axes>"
      ]
     },
     "metadata": {},
     "output_type": "display_data"
    },
    {
     "data": {
      "text/plain": [
       "<Figure size 1600x1200 with 0 Axes>"
      ]
     },
     "metadata": {},
     "output_type": "display_data"
    },
    {
     "data": {
      "text/plain": [
       "<Figure size 1600x1200 with 0 Axes>"
      ]
     },
     "metadata": {},
     "output_type": "display_data"
    },
    {
     "data": {
      "text/plain": [
       "<Figure size 1600x1200 with 0 Axes>"
      ]
     },
     "metadata": {},
     "output_type": "display_data"
    },
    {
     "data": {
      "text/plain": [
       "<Figure size 1600x1200 with 0 Axes>"
      ]
     },
     "metadata": {},
     "output_type": "display_data"
    },
    {
     "data": {
      "text/plain": [
       "<Figure size 1600x1200 with 0 Axes>"
      ]
     },
     "metadata": {},
     "output_type": "display_data"
    },
    {
     "data": {
      "text/plain": [
       "<Figure size 1600x1200 with 0 Axes>"
      ]
     },
     "metadata": {},
     "output_type": "display_data"
    },
    {
     "data": {
      "text/plain": [
       "<Figure size 1600x1200 with 0 Axes>"
      ]
     },
     "metadata": {},
     "output_type": "display_data"
    },
    {
     "data": {
      "text/plain": [
       "<Figure size 1600x1200 with 0 Axes>"
      ]
     },
     "metadata": {},
     "output_type": "display_data"
    },
    {
     "data": {
      "text/plain": [
       "<Figure size 1600x1200 with 0 Axes>"
      ]
     },
     "metadata": {},
     "output_type": "display_data"
    },
    {
     "data": {
      "text/plain": [
       "<Figure size 1600x1200 with 0 Axes>"
      ]
     },
     "metadata": {},
     "output_type": "display_data"
    },
    {
     "data": {
      "text/plain": [
       "<Figure size 1600x1200 with 0 Axes>"
      ]
     },
     "metadata": {},
     "output_type": "display_data"
    },
    {
     "data": {
      "text/plain": [
       "<Figure size 1600x1200 with 0 Axes>"
      ]
     },
     "metadata": {},
     "output_type": "display_data"
    },
    {
     "data": {
      "text/plain": [
       "<Figure size 1600x1200 with 0 Axes>"
      ]
     },
     "metadata": {},
     "output_type": "display_data"
    },
    {
     "data": {
      "text/plain": [
       "<Figure size 1600x1200 with 0 Axes>"
      ]
     },
     "metadata": {},
     "output_type": "display_data"
    },
    {
     "data": {
      "text/plain": [
       "<Figure size 1600x1200 with 0 Axes>"
      ]
     },
     "metadata": {},
     "output_type": "display_data"
    },
    {
     "data": {
      "text/plain": [
       "<Figure size 1600x1200 with 0 Axes>"
      ]
     },
     "metadata": {},
     "output_type": "display_data"
    },
    {
     "data": {
      "text/plain": [
       "<Figure size 1600x1200 with 0 Axes>"
      ]
     },
     "metadata": {},
     "output_type": "display_data"
    },
    {
     "data": {
      "text/plain": [
       "<Figure size 1600x1200 with 0 Axes>"
      ]
     },
     "metadata": {},
     "output_type": "display_data"
    },
    {
     "data": {
      "text/plain": [
       "<Figure size 1600x1200 with 0 Axes>"
      ]
     },
     "metadata": {},
     "output_type": "display_data"
    },
    {
     "data": {
      "text/plain": [
       "<Figure size 1600x1200 with 0 Axes>"
      ]
     },
     "metadata": {},
     "output_type": "display_data"
    },
    {
     "data": {
      "text/plain": [
       "<Figure size 1600x1200 with 0 Axes>"
      ]
     },
     "metadata": {},
     "output_type": "display_data"
    },
    {
     "data": {
      "text/plain": [
       "<Figure size 1600x1200 with 0 Axes>"
      ]
     },
     "metadata": {},
     "output_type": "display_data"
    },
    {
     "data": {
      "text/plain": [
       "<Figure size 1600x1200 with 0 Axes>"
      ]
     },
     "metadata": {},
     "output_type": "display_data"
    },
    {
     "data": {
      "text/plain": [
       "<Figure size 1600x1200 with 0 Axes>"
      ]
     },
     "metadata": {},
     "output_type": "display_data"
    },
    {
     "data": {
      "text/plain": [
       "<Figure size 1600x1200 with 0 Axes>"
      ]
     },
     "metadata": {},
     "output_type": "display_data"
    },
    {
     "data": {
      "text/plain": [
       "<Figure size 1600x1200 with 0 Axes>"
      ]
     },
     "metadata": {},
     "output_type": "display_data"
    },
    {
     "data": {
      "text/plain": [
       "<Figure size 1600x1200 with 0 Axes>"
      ]
     },
     "metadata": {},
     "output_type": "display_data"
    },
    {
     "data": {
      "text/plain": [
       "<Figure size 1600x1200 with 0 Axes>"
      ]
     },
     "metadata": {},
     "output_type": "display_data"
    },
    {
     "data": {
      "text/plain": [
       "<Figure size 1600x1200 with 0 Axes>"
      ]
     },
     "metadata": {},
     "output_type": "display_data"
    },
    {
     "data": {
      "text/plain": [
       "<Figure size 1600x1200 with 0 Axes>"
      ]
     },
     "metadata": {},
     "output_type": "display_data"
    },
    {
     "data": {
      "text/plain": [
       "<Figure size 1600x1200 with 0 Axes>"
      ]
     },
     "metadata": {},
     "output_type": "display_data"
    },
    {
     "data": {
      "text/plain": [
       "<Figure size 1600x1200 with 0 Axes>"
      ]
     },
     "metadata": {},
     "output_type": "display_data"
    },
    {
     "data": {
      "text/plain": [
       "<Figure size 1600x1200 with 0 Axes>"
      ]
     },
     "metadata": {},
     "output_type": "display_data"
    },
    {
     "data": {
      "text/plain": [
       "<Figure size 1600x1200 with 0 Axes>"
      ]
     },
     "metadata": {},
     "output_type": "display_data"
    },
    {
     "data": {
      "text/plain": [
       "<Figure size 1600x1200 with 0 Axes>"
      ]
     },
     "metadata": {},
     "output_type": "display_data"
    },
    {
     "data": {
      "text/plain": [
       "<Figure size 1600x1200 with 0 Axes>"
      ]
     },
     "metadata": {},
     "output_type": "display_data"
    },
    {
     "data": {
      "text/plain": [
       "<Figure size 1600x1200 with 0 Axes>"
      ]
     },
     "metadata": {},
     "output_type": "display_data"
    },
    {
     "data": {
      "text/plain": [
       "<Figure size 1600x1200 with 0 Axes>"
      ]
     },
     "metadata": {},
     "output_type": "display_data"
    },
    {
     "data": {
      "text/plain": [
       "<Figure size 1600x1200 with 0 Axes>"
      ]
     },
     "metadata": {},
     "output_type": "display_data"
    },
    {
     "data": {
      "text/plain": [
       "<Figure size 1600x1200 with 0 Axes>"
      ]
     },
     "metadata": {},
     "output_type": "display_data"
    },
    {
     "data": {
      "text/plain": [
       "<Figure size 1600x1200 with 0 Axes>"
      ]
     },
     "metadata": {},
     "output_type": "display_data"
    },
    {
     "data": {
      "text/plain": [
       "<Figure size 1600x1200 with 0 Axes>"
      ]
     },
     "metadata": {},
     "output_type": "display_data"
    },
    {
     "data": {
      "text/plain": [
       "<Figure size 1600x1200 with 0 Axes>"
      ]
     },
     "metadata": {},
     "output_type": "display_data"
    },
    {
     "data": {
      "text/plain": [
       "<Figure size 1600x1200 with 0 Axes>"
      ]
     },
     "metadata": {},
     "output_type": "display_data"
    },
    {
     "data": {
      "text/plain": [
       "<Figure size 1600x1200 with 0 Axes>"
      ]
     },
     "metadata": {},
     "output_type": "display_data"
    },
    {
     "data": {
      "text/plain": [
       "<Figure size 1600x1200 with 0 Axes>"
      ]
     },
     "metadata": {},
     "output_type": "display_data"
    },
    {
     "data": {
      "text/plain": [
       "<Figure size 1600x1200 with 0 Axes>"
      ]
     },
     "metadata": {},
     "output_type": "display_data"
    },
    {
     "data": {
      "text/plain": [
       "<Figure size 1600x1200 with 0 Axes>"
      ]
     },
     "metadata": {},
     "output_type": "display_data"
    },
    {
     "data": {
      "text/plain": [
       "<Figure size 1600x1200 with 0 Axes>"
      ]
     },
     "metadata": {},
     "output_type": "display_data"
    },
    {
     "data": {
      "text/plain": [
       "<Figure size 1600x1200 with 0 Axes>"
      ]
     },
     "metadata": {},
     "output_type": "display_data"
    },
    {
     "data": {
      "text/plain": [
       "<Figure size 1600x1200 with 0 Axes>"
      ]
     },
     "metadata": {},
     "output_type": "display_data"
    },
    {
     "data": {
      "text/plain": [
       "<Figure size 1600x1200 with 0 Axes>"
      ]
     },
     "metadata": {},
     "output_type": "display_data"
    },
    {
     "data": {
      "text/plain": [
       "<Figure size 1600x1200 with 0 Axes>"
      ]
     },
     "metadata": {},
     "output_type": "display_data"
    },
    {
     "data": {
      "text/plain": [
       "<Figure size 1600x1200 with 0 Axes>"
      ]
     },
     "metadata": {},
     "output_type": "display_data"
    },
    {
     "data": {
      "text/plain": [
       "<Figure size 1600x1200 with 0 Axes>"
      ]
     },
     "metadata": {},
     "output_type": "display_data"
    },
    {
     "data": {
      "text/plain": [
       "<Figure size 1600x1200 with 0 Axes>"
      ]
     },
     "metadata": {},
     "output_type": "display_data"
    },
    {
     "data": {
      "text/plain": [
       "<Figure size 1600x1200 with 0 Axes>"
      ]
     },
     "metadata": {},
     "output_type": "display_data"
    },
    {
     "data": {
      "text/plain": [
       "<Figure size 1600x1200 with 0 Axes>"
      ]
     },
     "metadata": {},
     "output_type": "display_data"
    },
    {
     "data": {
      "text/plain": [
       "<Figure size 1600x1200 with 0 Axes>"
      ]
     },
     "metadata": {},
     "output_type": "display_data"
    },
    {
     "data": {
      "text/plain": [
       "<Figure size 1600x1200 with 0 Axes>"
      ]
     },
     "metadata": {},
     "output_type": "display_data"
    },
    {
     "data": {
      "text/plain": [
       "<Figure size 1600x1200 with 0 Axes>"
      ]
     },
     "metadata": {},
     "output_type": "display_data"
    },
    {
     "data": {
      "text/plain": [
       "<Figure size 1600x1200 with 0 Axes>"
      ]
     },
     "metadata": {},
     "output_type": "display_data"
    },
    {
     "data": {
      "text/plain": [
       "<Figure size 1600x1200 with 0 Axes>"
      ]
     },
     "metadata": {},
     "output_type": "display_data"
    },
    {
     "data": {
      "text/plain": [
       "<Figure size 1600x1200 with 0 Axes>"
      ]
     },
     "metadata": {},
     "output_type": "display_data"
    },
    {
     "data": {
      "text/plain": [
       "<Figure size 1600x1200 with 0 Axes>"
      ]
     },
     "metadata": {},
     "output_type": "display_data"
    },
    {
     "data": {
      "text/plain": [
       "<Figure size 1600x1200 with 0 Axes>"
      ]
     },
     "metadata": {},
     "output_type": "display_data"
    },
    {
     "data": {
      "text/plain": [
       "<Figure size 1600x1200 with 0 Axes>"
      ]
     },
     "metadata": {},
     "output_type": "display_data"
    },
    {
     "data": {
      "text/plain": [
       "<Figure size 1600x1200 with 0 Axes>"
      ]
     },
     "metadata": {},
     "output_type": "display_data"
    },
    {
     "data": {
      "text/plain": [
       "<Figure size 1600x1200 with 0 Axes>"
      ]
     },
     "metadata": {},
     "output_type": "display_data"
    },
    {
     "data": {
      "text/plain": [
       "<Figure size 1600x1200 with 0 Axes>"
      ]
     },
     "metadata": {},
     "output_type": "display_data"
    },
    {
     "data": {
      "text/plain": [
       "<Figure size 1600x1200 with 0 Axes>"
      ]
     },
     "metadata": {},
     "output_type": "display_data"
    },
    {
     "data": {
      "text/plain": [
       "<Figure size 1600x1200 with 0 Axes>"
      ]
     },
     "metadata": {},
     "output_type": "display_data"
    },
    {
     "data": {
      "text/plain": [
       "<Figure size 1600x1200 with 0 Axes>"
      ]
     },
     "metadata": {},
     "output_type": "display_data"
    },
    {
     "data": {
      "text/plain": [
       "<Figure size 1600x1200 with 0 Axes>"
      ]
     },
     "metadata": {},
     "output_type": "display_data"
    },
    {
     "data": {
      "text/plain": [
       "<Figure size 1600x1200 with 0 Axes>"
      ]
     },
     "metadata": {},
     "output_type": "display_data"
    },
    {
     "data": {
      "text/plain": [
       "<Figure size 1600x1200 with 0 Axes>"
      ]
     },
     "metadata": {},
     "output_type": "display_data"
    },
    {
     "data": {
      "text/plain": [
       "<Figure size 1600x1200 with 0 Axes>"
      ]
     },
     "metadata": {},
     "output_type": "display_data"
    },
    {
     "data": {
      "text/plain": [
       "<Figure size 1600x1200 with 0 Axes>"
      ]
     },
     "metadata": {},
     "output_type": "display_data"
    },
    {
     "data": {
      "text/plain": [
       "<Figure size 1600x1200 with 0 Axes>"
      ]
     },
     "metadata": {},
     "output_type": "display_data"
    },
    {
     "data": {
      "text/plain": [
       "<Figure size 1600x1200 with 0 Axes>"
      ]
     },
     "metadata": {},
     "output_type": "display_data"
    },
    {
     "data": {
      "text/plain": [
       "<Figure size 1600x1200 with 0 Axes>"
      ]
     },
     "metadata": {},
     "output_type": "display_data"
    },
    {
     "data": {
      "text/plain": [
       "<Figure size 1600x1200 with 0 Axes>"
      ]
     },
     "metadata": {},
     "output_type": "display_data"
    },
    {
     "data": {
      "text/plain": [
       "<Figure size 1600x1200 with 0 Axes>"
      ]
     },
     "metadata": {},
     "output_type": "display_data"
    },
    {
     "data": {
      "text/plain": [
       "<Figure size 1600x1200 with 0 Axes>"
      ]
     },
     "metadata": {},
     "output_type": "display_data"
    },
    {
     "data": {
      "text/plain": [
       "<Figure size 1600x1200 with 0 Axes>"
      ]
     },
     "metadata": {},
     "output_type": "display_data"
    },
    {
     "data": {
      "text/plain": [
       "<Figure size 1600x1200 with 0 Axes>"
      ]
     },
     "metadata": {},
     "output_type": "display_data"
    },
    {
     "data": {
      "text/plain": [
       "<Figure size 1600x1200 with 0 Axes>"
      ]
     },
     "metadata": {},
     "output_type": "display_data"
    },
    {
     "data": {
      "text/plain": [
       "<Figure size 1600x1200 with 0 Axes>"
      ]
     },
     "metadata": {},
     "output_type": "display_data"
    },
    {
     "data": {
      "text/plain": [
       "<Figure size 1600x1200 with 0 Axes>"
      ]
     },
     "metadata": {},
     "output_type": "display_data"
    },
    {
     "data": {
      "text/plain": [
       "<Figure size 1600x1200 with 0 Axes>"
      ]
     },
     "metadata": {},
     "output_type": "display_data"
    },
    {
     "data": {
      "text/plain": [
       "<Figure size 1600x1200 with 0 Axes>"
      ]
     },
     "metadata": {},
     "output_type": "display_data"
    },
    {
     "data": {
      "text/plain": [
       "<Figure size 1600x1200 with 0 Axes>"
      ]
     },
     "metadata": {},
     "output_type": "display_data"
    },
    {
     "data": {
      "text/plain": [
       "<Figure size 1600x1200 with 0 Axes>"
      ]
     },
     "metadata": {},
     "output_type": "display_data"
    },
    {
     "data": {
      "text/plain": [
       "<Figure size 1600x1200 with 0 Axes>"
      ]
     },
     "metadata": {},
     "output_type": "display_data"
    },
    {
     "data": {
      "text/plain": [
       "<Figure size 1600x1200 with 0 Axes>"
      ]
     },
     "metadata": {},
     "output_type": "display_data"
    },
    {
     "data": {
      "text/plain": [
       "<Figure size 1600x1200 with 0 Axes>"
      ]
     },
     "metadata": {},
     "output_type": "display_data"
    },
    {
     "data": {
      "text/plain": [
       "<Figure size 1600x1200 with 0 Axes>"
      ]
     },
     "metadata": {},
     "output_type": "display_data"
    },
    {
     "data": {
      "text/plain": [
       "<Figure size 1600x1200 with 0 Axes>"
      ]
     },
     "metadata": {},
     "output_type": "display_data"
    },
    {
     "data": {
      "text/plain": [
       "<Figure size 1600x1200 with 0 Axes>"
      ]
     },
     "metadata": {},
     "output_type": "display_data"
    },
    {
     "data": {
      "text/plain": [
       "<Figure size 1600x1200 with 0 Axes>"
      ]
     },
     "metadata": {},
     "output_type": "display_data"
    },
    {
     "data": {
      "text/plain": [
       "<Figure size 1600x1200 with 0 Axes>"
      ]
     },
     "metadata": {},
     "output_type": "display_data"
    },
    {
     "data": {
      "text/plain": [
       "<Figure size 1600x1200 with 0 Axes>"
      ]
     },
     "metadata": {},
     "output_type": "display_data"
    },
    {
     "data": {
      "text/plain": [
       "<Figure size 1600x1200 with 0 Axes>"
      ]
     },
     "metadata": {},
     "output_type": "display_data"
    },
    {
     "data": {
      "text/plain": [
       "<Figure size 1600x1200 with 0 Axes>"
      ]
     },
     "metadata": {},
     "output_type": "display_data"
    },
    {
     "data": {
      "text/plain": [
       "<Figure size 1600x1200 with 0 Axes>"
      ]
     },
     "metadata": {},
     "output_type": "display_data"
    },
    {
     "data": {
      "text/plain": [
       "<Figure size 1600x1200 with 0 Axes>"
      ]
     },
     "metadata": {},
     "output_type": "display_data"
    },
    {
     "data": {
      "text/plain": [
       "<Figure size 1600x1200 with 0 Axes>"
      ]
     },
     "metadata": {},
     "output_type": "display_data"
    },
    {
     "data": {
      "text/plain": [
       "<Figure size 1600x1200 with 0 Axes>"
      ]
     },
     "metadata": {},
     "output_type": "display_data"
    },
    {
     "data": {
      "text/plain": [
       "<Figure size 1600x1200 with 0 Axes>"
      ]
     },
     "metadata": {},
     "output_type": "display_data"
    },
    {
     "data": {
      "text/plain": [
       "<Figure size 1600x1200 with 0 Axes>"
      ]
     },
     "metadata": {},
     "output_type": "display_data"
    },
    {
     "data": {
      "text/plain": [
       "<Figure size 1600x1200 with 0 Axes>"
      ]
     },
     "metadata": {},
     "output_type": "display_data"
    },
    {
     "data": {
      "text/plain": [
       "<Figure size 1600x1200 with 0 Axes>"
      ]
     },
     "metadata": {},
     "output_type": "display_data"
    },
    {
     "data": {
      "text/plain": [
       "<Figure size 1600x1200 with 0 Axes>"
      ]
     },
     "metadata": {},
     "output_type": "display_data"
    },
    {
     "data": {
      "text/plain": [
       "<Figure size 1600x1200 with 0 Axes>"
      ]
     },
     "metadata": {},
     "output_type": "display_data"
    },
    {
     "data": {
      "text/plain": [
       "<Figure size 1600x1200 with 0 Axes>"
      ]
     },
     "metadata": {},
     "output_type": "display_data"
    },
    {
     "data": {
      "text/plain": [
       "<Figure size 1600x1200 with 0 Axes>"
      ]
     },
     "metadata": {},
     "output_type": "display_data"
    },
    {
     "data": {
      "text/plain": [
       "<Figure size 1600x1200 with 0 Axes>"
      ]
     },
     "metadata": {},
     "output_type": "display_data"
    },
    {
     "data": {
      "text/plain": [
       "<Figure size 1600x1200 with 0 Axes>"
      ]
     },
     "metadata": {},
     "output_type": "display_data"
    },
    {
     "data": {
      "text/plain": [
       "<Figure size 1600x1200 with 0 Axes>"
      ]
     },
     "metadata": {},
     "output_type": "display_data"
    },
    {
     "data": {
      "text/plain": [
       "<Figure size 1600x1200 with 0 Axes>"
      ]
     },
     "metadata": {},
     "output_type": "display_data"
    },
    {
     "data": {
      "text/plain": [
       "<Figure size 1600x1200 with 0 Axes>"
      ]
     },
     "metadata": {},
     "output_type": "display_data"
    },
    {
     "data": {
      "text/plain": [
       "<Figure size 1600x1200 with 0 Axes>"
      ]
     },
     "metadata": {},
     "output_type": "display_data"
    },
    {
     "data": {
      "text/plain": [
       "<Figure size 1600x1200 with 0 Axes>"
      ]
     },
     "metadata": {},
     "output_type": "display_data"
    },
    {
     "data": {
      "text/plain": [
       "<Figure size 1600x1200 with 0 Axes>"
      ]
     },
     "metadata": {},
     "output_type": "display_data"
    },
    {
     "data": {
      "text/plain": [
       "<Figure size 1600x1200 with 0 Axes>"
      ]
     },
     "metadata": {},
     "output_type": "display_data"
    },
    {
     "data": {
      "text/plain": [
       "<Figure size 1600x1200 with 0 Axes>"
      ]
     },
     "metadata": {},
     "output_type": "display_data"
    },
    {
     "data": {
      "text/plain": [
       "<Figure size 1600x1200 with 0 Axes>"
      ]
     },
     "metadata": {},
     "output_type": "display_data"
    },
    {
     "data": {
      "text/plain": [
       "<Figure size 1600x1200 with 0 Axes>"
      ]
     },
     "metadata": {},
     "output_type": "display_data"
    },
    {
     "data": {
      "text/plain": [
       "<Figure size 1600x1200 with 0 Axes>"
      ]
     },
     "metadata": {},
     "output_type": "display_data"
    },
    {
     "data": {
      "text/plain": [
       "<Figure size 1600x1200 with 0 Axes>"
      ]
     },
     "metadata": {},
     "output_type": "display_data"
    },
    {
     "data": {
      "text/plain": [
       "<Figure size 1600x1200 with 0 Axes>"
      ]
     },
     "metadata": {},
     "output_type": "display_data"
    },
    {
     "data": {
      "text/plain": [
       "<Figure size 1600x1200 with 0 Axes>"
      ]
     },
     "metadata": {},
     "output_type": "display_data"
    },
    {
     "data": {
      "text/plain": [
       "<Figure size 1600x1200 with 0 Axes>"
      ]
     },
     "metadata": {},
     "output_type": "display_data"
    },
    {
     "data": {
      "text/plain": [
       "<Figure size 1600x1200 with 0 Axes>"
      ]
     },
     "metadata": {},
     "output_type": "display_data"
    },
    {
     "data": {
      "text/plain": [
       "<Figure size 1600x1200 with 0 Axes>"
      ]
     },
     "metadata": {},
     "output_type": "display_data"
    },
    {
     "data": {
      "text/plain": [
       "<Figure size 1600x1200 with 0 Axes>"
      ]
     },
     "metadata": {},
     "output_type": "display_data"
    },
    {
     "data": {
      "text/plain": [
       "<Figure size 1600x1200 with 0 Axes>"
      ]
     },
     "metadata": {},
     "output_type": "display_data"
    },
    {
     "data": {
      "text/plain": [
       "<Figure size 1600x1200 with 0 Axes>"
      ]
     },
     "metadata": {},
     "output_type": "display_data"
    },
    {
     "data": {
      "text/plain": [
       "<Figure size 1600x1200 with 0 Axes>"
      ]
     },
     "metadata": {},
     "output_type": "display_data"
    },
    {
     "data": {
      "text/plain": [
       "<Figure size 1600x1200 with 0 Axes>"
      ]
     },
     "metadata": {},
     "output_type": "display_data"
    },
    {
     "data": {
      "text/plain": [
       "<Figure size 1600x1200 with 0 Axes>"
      ]
     },
     "metadata": {},
     "output_type": "display_data"
    },
    {
     "data": {
      "text/plain": [
       "<Figure size 1600x1200 with 0 Axes>"
      ]
     },
     "metadata": {},
     "output_type": "display_data"
    },
    {
     "data": {
      "text/plain": [
       "<Figure size 1600x1200 with 0 Axes>"
      ]
     },
     "metadata": {},
     "output_type": "display_data"
    },
    {
     "data": {
      "text/plain": [
       "<Figure size 1600x1200 with 0 Axes>"
      ]
     },
     "metadata": {},
     "output_type": "display_data"
    },
    {
     "data": {
      "text/plain": [
       "<Figure size 1600x1200 with 0 Axes>"
      ]
     },
     "metadata": {},
     "output_type": "display_data"
    },
    {
     "data": {
      "text/plain": [
       "<Figure size 1600x1200 with 0 Axes>"
      ]
     },
     "metadata": {},
     "output_type": "display_data"
    },
    {
     "data": {
      "text/plain": [
       "<Figure size 1600x1200 with 0 Axes>"
      ]
     },
     "metadata": {},
     "output_type": "display_data"
    },
    {
     "data": {
      "text/plain": [
       "<Figure size 1600x1200 with 0 Axes>"
      ]
     },
     "metadata": {},
     "output_type": "display_data"
    },
    {
     "data": {
      "text/plain": [
       "<Figure size 1600x1200 with 0 Axes>"
      ]
     },
     "metadata": {},
     "output_type": "display_data"
    },
    {
     "data": {
      "text/plain": [
       "<Figure size 1600x1200 with 0 Axes>"
      ]
     },
     "metadata": {},
     "output_type": "display_data"
    },
    {
     "data": {
      "text/plain": [
       "<Figure size 1600x1200 with 0 Axes>"
      ]
     },
     "metadata": {},
     "output_type": "display_data"
    },
    {
     "data": {
      "text/plain": [
       "<Figure size 1600x1200 with 0 Axes>"
      ]
     },
     "metadata": {},
     "output_type": "display_data"
    },
    {
     "data": {
      "text/plain": [
       "<Figure size 1600x1200 with 0 Axes>"
      ]
     },
     "metadata": {},
     "output_type": "display_data"
    },
    {
     "data": {
      "text/plain": [
       "<Figure size 1600x1200 with 0 Axes>"
      ]
     },
     "metadata": {},
     "output_type": "display_data"
    },
    {
     "data": {
      "text/plain": [
       "<Figure size 1600x1200 with 0 Axes>"
      ]
     },
     "metadata": {},
     "output_type": "display_data"
    },
    {
     "data": {
      "text/plain": [
       "<Figure size 1600x1200 with 0 Axes>"
      ]
     },
     "metadata": {},
     "output_type": "display_data"
    },
    {
     "data": {
      "text/plain": [
       "<Figure size 1600x1200 with 0 Axes>"
      ]
     },
     "metadata": {},
     "output_type": "display_data"
    },
    {
     "data": {
      "text/plain": [
       "<Figure size 1600x1200 with 0 Axes>"
      ]
     },
     "metadata": {},
     "output_type": "display_data"
    },
    {
     "data": {
      "text/plain": [
       "<Figure size 1600x1200 with 0 Axes>"
      ]
     },
     "metadata": {},
     "output_type": "display_data"
    },
    {
     "data": {
      "text/plain": [
       "<Figure size 1600x1200 with 0 Axes>"
      ]
     },
     "metadata": {},
     "output_type": "display_data"
    },
    {
     "data": {
      "text/plain": [
       "<Figure size 1600x1200 with 0 Axes>"
      ]
     },
     "metadata": {},
     "output_type": "display_data"
    },
    {
     "data": {
      "text/plain": [
       "<Figure size 1600x1200 with 0 Axes>"
      ]
     },
     "metadata": {},
     "output_type": "display_data"
    },
    {
     "data": {
      "text/plain": [
       "<Figure size 1600x1200 with 0 Axes>"
      ]
     },
     "metadata": {},
     "output_type": "display_data"
    },
    {
     "data": {
      "text/plain": [
       "<Figure size 1600x1200 with 0 Axes>"
      ]
     },
     "metadata": {},
     "output_type": "display_data"
    },
    {
     "data": {
      "text/plain": [
       "<Figure size 1600x1200 with 0 Axes>"
      ]
     },
     "metadata": {},
     "output_type": "display_data"
    },
    {
     "data": {
      "text/plain": [
       "<Figure size 1600x1200 with 0 Axes>"
      ]
     },
     "metadata": {},
     "output_type": "display_data"
    },
    {
     "data": {
      "text/plain": [
       "<Figure size 1600x1200 with 0 Axes>"
      ]
     },
     "metadata": {},
     "output_type": "display_data"
    },
    {
     "data": {
      "text/plain": [
       "<Figure size 1600x1200 with 0 Axes>"
      ]
     },
     "metadata": {},
     "output_type": "display_data"
    },
    {
     "data": {
      "text/plain": [
       "<Figure size 1600x1200 with 0 Axes>"
      ]
     },
     "metadata": {},
     "output_type": "display_data"
    },
    {
     "data": {
      "text/plain": [
       "<Figure size 1600x1200 with 0 Axes>"
      ]
     },
     "metadata": {},
     "output_type": "display_data"
    },
    {
     "data": {
      "text/plain": [
       "<Figure size 1600x1200 with 0 Axes>"
      ]
     },
     "metadata": {},
     "output_type": "display_data"
    },
    {
     "data": {
      "text/plain": [
       "<Figure size 1600x1200 with 0 Axes>"
      ]
     },
     "metadata": {},
     "output_type": "display_data"
    },
    {
     "data": {
      "text/plain": [
       "<Figure size 1600x1200 with 0 Axes>"
      ]
     },
     "metadata": {},
     "output_type": "display_data"
    },
    {
     "data": {
      "text/plain": [
       "<Figure size 1600x1200 with 0 Axes>"
      ]
     },
     "metadata": {},
     "output_type": "display_data"
    },
    {
     "data": {
      "text/plain": [
       "<Figure size 1600x1200 with 0 Axes>"
      ]
     },
     "metadata": {},
     "output_type": "display_data"
    },
    {
     "data": {
      "text/plain": [
       "<Figure size 1600x1200 with 0 Axes>"
      ]
     },
     "metadata": {},
     "output_type": "display_data"
    },
    {
     "data": {
      "text/plain": [
       "<Figure size 1600x1200 with 0 Axes>"
      ]
     },
     "metadata": {},
     "output_type": "display_data"
    },
    {
     "data": {
      "text/plain": [
       "<Figure size 1600x1200 with 0 Axes>"
      ]
     },
     "metadata": {},
     "output_type": "display_data"
    },
    {
     "data": {
      "text/plain": [
       "<Figure size 1600x1200 with 0 Axes>"
      ]
     },
     "metadata": {},
     "output_type": "display_data"
    },
    {
     "data": {
      "text/plain": [
       "<Figure size 1600x1200 with 0 Axes>"
      ]
     },
     "metadata": {},
     "output_type": "display_data"
    },
    {
     "data": {
      "text/plain": [
       "<Figure size 1600x1200 with 0 Axes>"
      ]
     },
     "metadata": {},
     "output_type": "display_data"
    },
    {
     "data": {
      "text/plain": [
       "<Figure size 1600x1200 with 0 Axes>"
      ]
     },
     "metadata": {},
     "output_type": "display_data"
    },
    {
     "data": {
      "text/plain": [
       "<Figure size 1600x1200 with 0 Axes>"
      ]
     },
     "metadata": {},
     "output_type": "display_data"
    },
    {
     "data": {
      "text/plain": [
       "<Figure size 1600x1200 with 0 Axes>"
      ]
     },
     "metadata": {},
     "output_type": "display_data"
    },
    {
     "data": {
      "text/plain": [
       "<Figure size 1600x1200 with 0 Axes>"
      ]
     },
     "metadata": {},
     "output_type": "display_data"
    },
    {
     "data": {
      "text/plain": [
       "<Figure size 1600x1200 with 0 Axes>"
      ]
     },
     "metadata": {},
     "output_type": "display_data"
    },
    {
     "data": {
      "text/plain": [
       "<Figure size 1600x1200 with 0 Axes>"
      ]
     },
     "metadata": {},
     "output_type": "display_data"
    },
    {
     "data": {
      "text/plain": [
       "<Figure size 1600x1200 with 0 Axes>"
      ]
     },
     "metadata": {},
     "output_type": "display_data"
    },
    {
     "data": {
      "text/plain": [
       "<Figure size 1600x1200 with 0 Axes>"
      ]
     },
     "metadata": {},
     "output_type": "display_data"
    },
    {
     "data": {
      "text/plain": [
       "<Figure size 1600x1200 with 0 Axes>"
      ]
     },
     "metadata": {},
     "output_type": "display_data"
    },
    {
     "data": {
      "text/plain": [
       "<Figure size 1600x1200 with 0 Axes>"
      ]
     },
     "metadata": {},
     "output_type": "display_data"
    },
    {
     "data": {
      "text/plain": [
       "<Figure size 1600x1200 with 0 Axes>"
      ]
     },
     "metadata": {},
     "output_type": "display_data"
    },
    {
     "data": {
      "text/plain": [
       "<Figure size 1600x1200 with 0 Axes>"
      ]
     },
     "metadata": {},
     "output_type": "display_data"
    },
    {
     "data": {
      "text/plain": [
       "<Figure size 1600x1200 with 0 Axes>"
      ]
     },
     "metadata": {},
     "output_type": "display_data"
    },
    {
     "data": {
      "text/plain": [
       "<Figure size 1600x1200 with 0 Axes>"
      ]
     },
     "metadata": {},
     "output_type": "display_data"
    },
    {
     "data": {
      "text/plain": [
       "<Figure size 1600x1200 with 0 Axes>"
      ]
     },
     "metadata": {},
     "output_type": "display_data"
    },
    {
     "data": {
      "text/plain": [
       "<Figure size 1600x1200 with 0 Axes>"
      ]
     },
     "metadata": {},
     "output_type": "display_data"
    },
    {
     "data": {
      "text/plain": [
       "<Figure size 1600x1200 with 0 Axes>"
      ]
     },
     "metadata": {},
     "output_type": "display_data"
    },
    {
     "data": {
      "text/plain": [
       "<Figure size 1600x1200 with 0 Axes>"
      ]
     },
     "metadata": {},
     "output_type": "display_data"
    },
    {
     "data": {
      "text/plain": [
       "<Figure size 1600x1200 with 0 Axes>"
      ]
     },
     "metadata": {},
     "output_type": "display_data"
    },
    {
     "data": {
      "text/plain": [
       "<Figure size 1600x1200 with 0 Axes>"
      ]
     },
     "metadata": {},
     "output_type": "display_data"
    },
    {
     "data": {
      "text/plain": [
       "<Figure size 1600x1200 with 0 Axes>"
      ]
     },
     "metadata": {},
     "output_type": "display_data"
    },
    {
     "data": {
      "text/plain": [
       "<Figure size 1600x1200 with 0 Axes>"
      ]
     },
     "metadata": {},
     "output_type": "display_data"
    },
    {
     "data": {
      "text/plain": [
       "<Figure size 1600x1200 with 0 Axes>"
      ]
     },
     "metadata": {},
     "output_type": "display_data"
    },
    {
     "data": {
      "text/plain": [
       "<Figure size 1600x1200 with 0 Axes>"
      ]
     },
     "metadata": {},
     "output_type": "display_data"
    },
    {
     "data": {
      "text/plain": [
       "<Figure size 1600x1200 with 0 Axes>"
      ]
     },
     "metadata": {},
     "output_type": "display_data"
    },
    {
     "data": {
      "text/plain": [
       "<Figure size 1600x1200 with 0 Axes>"
      ]
     },
     "metadata": {},
     "output_type": "display_data"
    },
    {
     "data": {
      "text/plain": [
       "<Figure size 1600x1200 with 0 Axes>"
      ]
     },
     "metadata": {},
     "output_type": "display_data"
    },
    {
     "data": {
      "text/plain": [
       "<Figure size 1600x1200 with 0 Axes>"
      ]
     },
     "metadata": {},
     "output_type": "display_data"
    },
    {
     "data": {
      "text/plain": [
       "<Figure size 1600x1200 with 0 Axes>"
      ]
     },
     "metadata": {},
     "output_type": "display_data"
    },
    {
     "data": {
      "text/plain": [
       "<Figure size 1600x1200 with 0 Axes>"
      ]
     },
     "metadata": {},
     "output_type": "display_data"
    },
    {
     "data": {
      "text/plain": [
       "<Figure size 1600x1200 with 0 Axes>"
      ]
     },
     "metadata": {},
     "output_type": "display_data"
    },
    {
     "data": {
      "text/plain": [
       "<Figure size 1600x1200 with 0 Axes>"
      ]
     },
     "metadata": {},
     "output_type": "display_data"
    },
    {
     "data": {
      "text/plain": [
       "<Figure size 1600x1200 with 0 Axes>"
      ]
     },
     "metadata": {},
     "output_type": "display_data"
    },
    {
     "data": {
      "text/plain": [
       "<Figure size 1600x1200 with 0 Axes>"
      ]
     },
     "metadata": {},
     "output_type": "display_data"
    },
    {
     "data": {
      "text/plain": [
       "<Figure size 1600x1200 with 0 Axes>"
      ]
     },
     "metadata": {},
     "output_type": "display_data"
    },
    {
     "data": {
      "text/plain": [
       "<Figure size 1600x1200 with 0 Axes>"
      ]
     },
     "metadata": {},
     "output_type": "display_data"
    },
    {
     "data": {
      "text/plain": [
       "<Figure size 1600x1200 with 0 Axes>"
      ]
     },
     "metadata": {},
     "output_type": "display_data"
    },
    {
     "data": {
      "text/plain": [
       "<Figure size 1600x1200 with 0 Axes>"
      ]
     },
     "metadata": {},
     "output_type": "display_data"
    },
    {
     "data": {
      "text/plain": [
       "<Figure size 1600x1200 with 0 Axes>"
      ]
     },
     "metadata": {},
     "output_type": "display_data"
    },
    {
     "data": {
      "text/plain": [
       "<Figure size 1600x1200 with 0 Axes>"
      ]
     },
     "metadata": {},
     "output_type": "display_data"
    },
    {
     "data": {
      "text/plain": [
       "<Figure size 1600x1200 with 0 Axes>"
      ]
     },
     "metadata": {},
     "output_type": "display_data"
    },
    {
     "data": {
      "text/plain": [
       "<Figure size 1600x1200 with 0 Axes>"
      ]
     },
     "metadata": {},
     "output_type": "display_data"
    },
    {
     "data": {
      "text/plain": [
       "<Figure size 1600x1200 with 0 Axes>"
      ]
     },
     "metadata": {},
     "output_type": "display_data"
    },
    {
     "data": {
      "text/plain": [
       "<Figure size 1600x1200 with 0 Axes>"
      ]
     },
     "metadata": {},
     "output_type": "display_data"
    },
    {
     "data": {
      "text/plain": [
       "<Figure size 1600x1200 with 0 Axes>"
      ]
     },
     "metadata": {},
     "output_type": "display_data"
    },
    {
     "data": {
      "text/plain": [
       "<Figure size 1600x1200 with 0 Axes>"
      ]
     },
     "metadata": {},
     "output_type": "display_data"
    },
    {
     "data": {
      "text/plain": [
       "<Figure size 1600x1200 with 0 Axes>"
      ]
     },
     "metadata": {},
     "output_type": "display_data"
    },
    {
     "data": {
      "text/plain": [
       "<Figure size 1600x1200 with 0 Axes>"
      ]
     },
     "metadata": {},
     "output_type": "display_data"
    },
    {
     "data": {
      "text/plain": [
       "<Figure size 1600x1200 with 0 Axes>"
      ]
     },
     "metadata": {},
     "output_type": "display_data"
    },
    {
     "data": {
      "text/plain": [
       "<Figure size 1600x1200 with 0 Axes>"
      ]
     },
     "metadata": {},
     "output_type": "display_data"
    },
    {
     "data": {
      "text/plain": [
       "<Figure size 1600x1200 with 0 Axes>"
      ]
     },
     "metadata": {},
     "output_type": "display_data"
    },
    {
     "data": {
      "text/plain": [
       "<Figure size 1600x1200 with 0 Axes>"
      ]
     },
     "metadata": {},
     "output_type": "display_data"
    },
    {
     "data": {
      "text/plain": [
       "<Figure size 1600x1200 with 0 Axes>"
      ]
     },
     "metadata": {},
     "output_type": "display_data"
    },
    {
     "data": {
      "text/plain": [
       "<Figure size 1600x1200 with 0 Axes>"
      ]
     },
     "metadata": {},
     "output_type": "display_data"
    },
    {
     "data": {
      "text/plain": [
       "<Figure size 1600x1200 with 0 Axes>"
      ]
     },
     "metadata": {},
     "output_type": "display_data"
    },
    {
     "data": {
      "text/plain": [
       "<Figure size 1600x1200 with 0 Axes>"
      ]
     },
     "metadata": {},
     "output_type": "display_data"
    },
    {
     "data": {
      "text/plain": [
       "<Figure size 1600x1200 with 0 Axes>"
      ]
     },
     "metadata": {},
     "output_type": "display_data"
    },
    {
     "data": {
      "text/plain": [
       "<Figure size 1600x1200 with 0 Axes>"
      ]
     },
     "metadata": {},
     "output_type": "display_data"
    },
    {
     "data": {
      "text/plain": [
       "<Figure size 1600x1200 with 0 Axes>"
      ]
     },
     "metadata": {},
     "output_type": "display_data"
    },
    {
     "data": {
      "text/plain": [
       "<Figure size 1600x1200 with 0 Axes>"
      ]
     },
     "metadata": {},
     "output_type": "display_data"
    },
    {
     "data": {
      "text/plain": [
       "<Figure size 1600x1200 with 0 Axes>"
      ]
     },
     "metadata": {},
     "output_type": "display_data"
    },
    {
     "data": {
      "text/plain": [
       "<Figure size 1600x1200 with 0 Axes>"
      ]
     },
     "metadata": {},
     "output_type": "display_data"
    },
    {
     "data": {
      "text/plain": [
       "<Figure size 1600x1200 with 0 Axes>"
      ]
     },
     "metadata": {},
     "output_type": "display_data"
    },
    {
     "data": {
      "text/plain": [
       "<Figure size 1600x1200 with 0 Axes>"
      ]
     },
     "metadata": {},
     "output_type": "display_data"
    },
    {
     "data": {
      "text/plain": [
       "<Figure size 1600x1200 with 0 Axes>"
      ]
     },
     "metadata": {},
     "output_type": "display_data"
    },
    {
     "data": {
      "text/plain": [
       "<Figure size 1600x1200 with 0 Axes>"
      ]
     },
     "metadata": {},
     "output_type": "display_data"
    },
    {
     "data": {
      "text/plain": [
       "<Figure size 1600x1200 with 0 Axes>"
      ]
     },
     "metadata": {},
     "output_type": "display_data"
    },
    {
     "data": {
      "text/plain": [
       "<Figure size 1600x1200 with 0 Axes>"
      ]
     },
     "metadata": {},
     "output_type": "display_data"
    },
    {
     "data": {
      "text/plain": [
       "<Figure size 1600x1200 with 0 Axes>"
      ]
     },
     "metadata": {},
     "output_type": "display_data"
    },
    {
     "data": {
      "text/plain": [
       "<Figure size 1600x1200 with 0 Axes>"
      ]
     },
     "metadata": {},
     "output_type": "display_data"
    },
    {
     "data": {
      "text/plain": [
       "<Figure size 1600x1200 with 0 Axes>"
      ]
     },
     "metadata": {},
     "output_type": "display_data"
    },
    {
     "data": {
      "text/plain": [
       "<Figure size 1600x1200 with 0 Axes>"
      ]
     },
     "metadata": {},
     "output_type": "display_data"
    },
    {
     "data": {
      "text/plain": [
       "<Figure size 1600x1200 with 0 Axes>"
      ]
     },
     "metadata": {},
     "output_type": "display_data"
    },
    {
     "data": {
      "text/plain": [
       "<Figure size 1600x1200 with 0 Axes>"
      ]
     },
     "metadata": {},
     "output_type": "display_data"
    },
    {
     "data": {
      "text/plain": [
       "<Figure size 1600x1200 with 0 Axes>"
      ]
     },
     "metadata": {},
     "output_type": "display_data"
    },
    {
     "data": {
      "text/plain": [
       "<Figure size 1600x1200 with 0 Axes>"
      ]
     },
     "metadata": {},
     "output_type": "display_data"
    },
    {
     "data": {
      "text/plain": [
       "<Figure size 1600x1200 with 0 Axes>"
      ]
     },
     "metadata": {},
     "output_type": "display_data"
    },
    {
     "data": {
      "text/plain": [
       "<Figure size 1600x1200 with 0 Axes>"
      ]
     },
     "metadata": {},
     "output_type": "display_data"
    },
    {
     "data": {
      "text/plain": [
       "<Figure size 1600x1200 with 0 Axes>"
      ]
     },
     "metadata": {},
     "output_type": "display_data"
    },
    {
     "data": {
      "text/plain": [
       "<Figure size 1600x1200 with 0 Axes>"
      ]
     },
     "metadata": {},
     "output_type": "display_data"
    },
    {
     "data": {
      "text/plain": [
       "<Figure size 1600x1200 with 0 Axes>"
      ]
     },
     "metadata": {},
     "output_type": "display_data"
    },
    {
     "data": {
      "text/plain": [
       "<Figure size 1600x1200 with 0 Axes>"
      ]
     },
     "metadata": {},
     "output_type": "display_data"
    },
    {
     "data": {
      "text/plain": [
       "<Figure size 1600x1200 with 0 Axes>"
      ]
     },
     "metadata": {},
     "output_type": "display_data"
    },
    {
     "data": {
      "text/plain": [
       "<Figure size 1600x1200 with 0 Axes>"
      ]
     },
     "metadata": {},
     "output_type": "display_data"
    },
    {
     "data": {
      "text/plain": [
       "<Figure size 1600x1200 with 0 Axes>"
      ]
     },
     "metadata": {},
     "output_type": "display_data"
    },
    {
     "data": {
      "text/plain": [
       "<Figure size 1600x1200 with 0 Axes>"
      ]
     },
     "metadata": {},
     "output_type": "display_data"
    },
    {
     "data": {
      "text/plain": [
       "<Figure size 1600x1200 with 0 Axes>"
      ]
     },
     "metadata": {},
     "output_type": "display_data"
    },
    {
     "data": {
      "text/plain": [
       "<Figure size 1600x1200 with 0 Axes>"
      ]
     },
     "metadata": {},
     "output_type": "display_data"
    },
    {
     "data": {
      "text/plain": [
       "<Figure size 1600x1200 with 0 Axes>"
      ]
     },
     "metadata": {},
     "output_type": "display_data"
    },
    {
     "data": {
      "text/plain": [
       "<Figure size 1600x1200 with 0 Axes>"
      ]
     },
     "metadata": {},
     "output_type": "display_data"
    },
    {
     "data": {
      "text/plain": [
       "<Figure size 1600x1200 with 0 Axes>"
      ]
     },
     "metadata": {},
     "output_type": "display_data"
    },
    {
     "data": {
      "text/plain": [
       "<Figure size 1600x1200 with 0 Axes>"
      ]
     },
     "metadata": {},
     "output_type": "display_data"
    },
    {
     "data": {
      "text/plain": [
       "<Figure size 1600x1200 with 0 Axes>"
      ]
     },
     "metadata": {},
     "output_type": "display_data"
    },
    {
     "data": {
      "text/plain": [
       "<Figure size 1600x1200 with 0 Axes>"
      ]
     },
     "metadata": {},
     "output_type": "display_data"
    },
    {
     "data": {
      "text/plain": [
       "<Figure size 1600x1200 with 0 Axes>"
      ]
     },
     "metadata": {},
     "output_type": "display_data"
    },
    {
     "data": {
      "text/plain": [
       "<Figure size 1600x1200 with 0 Axes>"
      ]
     },
     "metadata": {},
     "output_type": "display_data"
    },
    {
     "data": {
      "text/plain": [
       "<Figure size 1600x1200 with 0 Axes>"
      ]
     },
     "metadata": {},
     "output_type": "display_data"
    },
    {
     "data": {
      "text/plain": [
       "<Figure size 1600x1200 with 0 Axes>"
      ]
     },
     "metadata": {},
     "output_type": "display_data"
    },
    {
     "data": {
      "text/plain": [
       "<Figure size 1600x1200 with 0 Axes>"
      ]
     },
     "metadata": {},
     "output_type": "display_data"
    },
    {
     "data": {
      "text/plain": [
       "<Figure size 1600x1200 with 0 Axes>"
      ]
     },
     "metadata": {},
     "output_type": "display_data"
    },
    {
     "data": {
      "text/plain": [
       "<Figure size 1600x1200 with 0 Axes>"
      ]
     },
     "metadata": {},
     "output_type": "display_data"
    },
    {
     "data": {
      "text/plain": [
       "<Figure size 1600x1200 with 0 Axes>"
      ]
     },
     "metadata": {},
     "output_type": "display_data"
    },
    {
     "data": {
      "text/plain": [
       "<Figure size 1600x1200 with 0 Axes>"
      ]
     },
     "metadata": {},
     "output_type": "display_data"
    },
    {
     "data": {
      "text/plain": [
       "<Figure size 1600x1200 with 0 Axes>"
      ]
     },
     "metadata": {},
     "output_type": "display_data"
    },
    {
     "data": {
      "text/plain": [
       "<Figure size 1600x1200 with 0 Axes>"
      ]
     },
     "metadata": {},
     "output_type": "display_data"
    },
    {
     "data": {
      "text/plain": [
       "<Figure size 1600x1200 with 0 Axes>"
      ]
     },
     "metadata": {},
     "output_type": "display_data"
    },
    {
     "data": {
      "text/plain": [
       "<Figure size 1600x1200 with 0 Axes>"
      ]
     },
     "metadata": {},
     "output_type": "display_data"
    },
    {
     "data": {
      "text/plain": [
       "<Figure size 1600x1200 with 0 Axes>"
      ]
     },
     "metadata": {},
     "output_type": "display_data"
    },
    {
     "data": {
      "text/plain": [
       "<Figure size 1600x1200 with 0 Axes>"
      ]
     },
     "metadata": {},
     "output_type": "display_data"
    },
    {
     "data": {
      "text/plain": [
       "<Figure size 1600x1200 with 0 Axes>"
      ]
     },
     "metadata": {},
     "output_type": "display_data"
    },
    {
     "data": {
      "text/plain": [
       "<Figure size 1600x1200 with 0 Axes>"
      ]
     },
     "metadata": {},
     "output_type": "display_data"
    },
    {
     "data": {
      "text/plain": [
       "<Figure size 1600x1200 with 0 Axes>"
      ]
     },
     "metadata": {},
     "output_type": "display_data"
    },
    {
     "data": {
      "text/plain": [
       "<Figure size 1600x1200 with 0 Axes>"
      ]
     },
     "metadata": {},
     "output_type": "display_data"
    },
    {
     "data": {
      "text/plain": [
       "<Figure size 1600x1200 with 0 Axes>"
      ]
     },
     "metadata": {},
     "output_type": "display_data"
    },
    {
     "data": {
      "text/plain": [
       "<Figure size 1600x1200 with 0 Axes>"
      ]
     },
     "metadata": {},
     "output_type": "display_data"
    },
    {
     "data": {
      "text/plain": [
       "<Figure size 1600x1200 with 0 Axes>"
      ]
     },
     "metadata": {},
     "output_type": "display_data"
    },
    {
     "data": {
      "text/plain": [
       "<Figure size 1600x1200 with 0 Axes>"
      ]
     },
     "metadata": {},
     "output_type": "display_data"
    },
    {
     "data": {
      "text/plain": [
       "<Figure size 1600x1200 with 0 Axes>"
      ]
     },
     "metadata": {},
     "output_type": "display_data"
    },
    {
     "data": {
      "text/plain": [
       "<Figure size 1600x1200 with 0 Axes>"
      ]
     },
     "metadata": {},
     "output_type": "display_data"
    },
    {
     "data": {
      "text/plain": [
       "<Figure size 1600x1200 with 0 Axes>"
      ]
     },
     "metadata": {},
     "output_type": "display_data"
    },
    {
     "data": {
      "text/plain": [
       "<Figure size 1600x1200 with 0 Axes>"
      ]
     },
     "metadata": {},
     "output_type": "display_data"
    },
    {
     "data": {
      "text/plain": [
       "<Figure size 1600x1200 with 0 Axes>"
      ]
     },
     "metadata": {},
     "output_type": "display_data"
    },
    {
     "data": {
      "text/plain": [
       "<Figure size 1600x1200 with 0 Axes>"
      ]
     },
     "metadata": {},
     "output_type": "display_data"
    },
    {
     "data": {
      "text/plain": [
       "<Figure size 1600x1200 with 0 Axes>"
      ]
     },
     "metadata": {},
     "output_type": "display_data"
    },
    {
     "data": {
      "text/plain": [
       "<Figure size 1600x1200 with 0 Axes>"
      ]
     },
     "metadata": {},
     "output_type": "display_data"
    },
    {
     "data": {
      "text/plain": [
       "<Figure size 1600x1200 with 0 Axes>"
      ]
     },
     "metadata": {},
     "output_type": "display_data"
    },
    {
     "data": {
      "text/plain": [
       "<Figure size 1600x1200 with 0 Axes>"
      ]
     },
     "metadata": {},
     "output_type": "display_data"
    },
    {
     "data": {
      "text/plain": [
       "<Figure size 1600x1200 with 0 Axes>"
      ]
     },
     "metadata": {},
     "output_type": "display_data"
    },
    {
     "data": {
      "text/plain": [
       "<Figure size 1600x1200 with 0 Axes>"
      ]
     },
     "metadata": {},
     "output_type": "display_data"
    },
    {
     "data": {
      "text/plain": [
       "<Figure size 1600x1200 with 0 Axes>"
      ]
     },
     "metadata": {},
     "output_type": "display_data"
    },
    {
     "data": {
      "text/plain": [
       "<Figure size 1600x1200 with 0 Axes>"
      ]
     },
     "metadata": {},
     "output_type": "display_data"
    },
    {
     "data": {
      "text/plain": [
       "<Figure size 1600x1200 with 0 Axes>"
      ]
     },
     "metadata": {},
     "output_type": "display_data"
    },
    {
     "data": {
      "text/plain": [
       "<Figure size 1600x1200 with 0 Axes>"
      ]
     },
     "metadata": {},
     "output_type": "display_data"
    },
    {
     "data": {
      "text/plain": [
       "<Figure size 1600x1200 with 0 Axes>"
      ]
     },
     "metadata": {},
     "output_type": "display_data"
    },
    {
     "data": {
      "text/plain": [
       "<Figure size 1600x1200 with 0 Axes>"
      ]
     },
     "metadata": {},
     "output_type": "display_data"
    },
    {
     "data": {
      "text/plain": [
       "<Figure size 1600x1200 with 0 Axes>"
      ]
     },
     "metadata": {},
     "output_type": "display_data"
    },
    {
     "data": {
      "text/plain": [
       "<Figure size 1600x1200 with 0 Axes>"
      ]
     },
     "metadata": {},
     "output_type": "display_data"
    },
    {
     "data": {
      "text/plain": [
       "<Figure size 1600x1200 with 0 Axes>"
      ]
     },
     "metadata": {},
     "output_type": "display_data"
    },
    {
     "data": {
      "text/plain": [
       "<Figure size 1600x1200 with 0 Axes>"
      ]
     },
     "metadata": {},
     "output_type": "display_data"
    },
    {
     "data": {
      "text/plain": [
       "<Figure size 1600x1200 with 0 Axes>"
      ]
     },
     "metadata": {},
     "output_type": "display_data"
    },
    {
     "data": {
      "text/plain": [
       "<Figure size 1600x1200 with 0 Axes>"
      ]
     },
     "metadata": {},
     "output_type": "display_data"
    },
    {
     "data": {
      "text/plain": [
       "<Figure size 1600x1200 with 0 Axes>"
      ]
     },
     "metadata": {},
     "output_type": "display_data"
    },
    {
     "data": {
      "text/plain": [
       "<Figure size 1600x1200 with 0 Axes>"
      ]
     },
     "metadata": {},
     "output_type": "display_data"
    },
    {
     "data": {
      "text/plain": [
       "<Figure size 1600x1200 with 0 Axes>"
      ]
     },
     "metadata": {},
     "output_type": "display_data"
    },
    {
     "data": {
      "text/plain": [
       "<Figure size 1600x1200 with 0 Axes>"
      ]
     },
     "metadata": {},
     "output_type": "display_data"
    },
    {
     "data": {
      "text/plain": [
       "<Figure size 1600x1200 with 0 Axes>"
      ]
     },
     "metadata": {},
     "output_type": "display_data"
    }
   ],
   "source": [
    "%matplotlib inline\n",
    "for xml_file in list_files:\n",
    "    print(xml_file)\n",
    "    image = cv2.imread('/home/ubuntu/gfav/repos/detectron2/datasets/VOC2007/JPEGImages/' + xml_file[:-4] + '.jpg')\n",
    "    root = ET.parse('/home/ubuntu/gfav/repos/detectron2/datasets/VOC2007/Annotations/' + xml_file).getroot()\n",
    "    some_objects = root.findall('object')\n",
    "    for bbox in some_objects:\n",
    "        label = bbox[0].text\n",
    "        xmin = int(bbox[4][0].text)\n",
    "        ymin = int(bbox[4][1].text)\n",
    "        xmax = int(bbox[4][2].text)\n",
    "        ymax = int(bbox[4][3].text)\n",
    "        cv2.rectangle(image, (xmin, ymin), (xmax, ymax),(255,0,0),5)\n",
    "        print(label)\n",
    "    figure(num=None, figsize=(8, 6), dpi=200, facecolor='w', edgecolor='k')\n",
    "    cv2.imwrite('/home/ubuntu/gfav/data/phase2/frames_with_bbox/' + xml_file[:-4] + '.jpg', image)\n",
    "#     plt.imshow(cv2.cvtColor(image, cv2.COLOR_BGR2RGB))\n",
    "#     plt.show()\n",
    "#     break"
   ]
  },
  {
   "cell_type": "markdown",
   "metadata": {},
   "source": [
    "### Renaming the idlers images and editing the xml's"
   ]
  },
  {
   "cell_type": "code",
   "execution_count": 1,
   "metadata": {},
   "outputs": [],
   "source": [
    "import os\n",
    "import xml.etree.ElementTree as ET\n",
    "import cv2\n",
    "import numpy as np"
   ]
  },
  {
   "cell_type": "code",
   "execution_count": 2,
   "metadata": {},
   "outputs": [],
   "source": [
    "label_list = os.listdir('/home/ubuntu/gfav/data/phase2/labels/DJI_0002_1/')"
   ]
  },
  {
   "cell_type": "code",
   "execution_count": 3,
   "metadata": {},
   "outputs": [],
   "source": [
    "for xml_file in label_list:\n",
    "    image = cv2.imread('/home/ubuntu/gfav/data/phase2/rgb_frames/DJI_0002_1/' + xml_file[:-4] + '.jpg')\n",
    "    et = ET.parse('/home/ubuntu/gfav/data/phase2/labels/DJI_0002_1/' + xml_file)\n",
    "    root = et.getroot()\n",
    "    some_objects = root.findall('object')\n",
    "    for bbox in some_objects:\n",
    "        bbox[2].text = '0'\n",
    "        bbox[3].text = '0'\n",
    "    file_name = root.findall('filename')\n",
    "    pathh = root.findall('path')\n",
    "    folder = root.findall('folder')\n",
    "    folder[0].text = 'VOC2007'\n",
    "    file_name[0].text = file_name[0].text[4:8] + file_name[0].text[9:10] + \\\n",
    "        format(int(file_name[0].text[11:-4]), '05d') + file_name[0].text[-4:]\n",
    "    pathh[0].text = 'VOC2007/JPEGImages/' + file_name[0].text\n",
    "    et.write('/home/ubuntu/gfav/data/phase2/labels_int_format/DJI_0002_1/' + file_name[0].text[:-4] + '.xml')\n",
    "    cv2.imwrite(\"/home/ubuntu/gfav/data/phase2/rgb_frames_int/DJI_0002_1/\" + file_name[0].text, image)"
   ]
  },
  {
   "cell_type": "code",
   "execution_count": 12,
   "metadata": {},
   "outputs": [],
   "source": [
    "label_list = os.listdir('/home/ubuntu/gfav/data/phase3/labels/DJI_3011_0/')"
   ]
  },
  {
   "cell_type": "code",
   "execution_count": 13,
   "metadata": {},
   "outputs": [],
   "source": [
    "for xml_file in label_list:\n",
    "    et = ET.parse('/home/ubuntu/gfav/data/phase3/labels/DJI_3011_0/' + xml_file)\n",
    "    root = et.getroot()\n",
    "    some_objects = root.findall('object')\n",
    "    for bbox in some_objects:\n",
    "        bbox[2].text = '0'\n",
    "        bbox[3].text = '0'\n",
    "    et.write('/home/ubuntu/gfav/data/phase3/labels/DJI_3011_0/' + xml_file)"
   ]
  },
  {
   "cell_type": "code",
   "execution_count": 12,
   "metadata": {},
   "outputs": [],
   "source": [
    "label_list = os.listdir('/home/ubuntu/gfav/data/phase3/labels/DJI_3011_0/')"
   ]
  },
  {
   "cell_type": "code",
   "execution_count": 13,
   "metadata": {},
   "outputs": [],
   "source": [
    "for xml_file in label_list:\n",
    "    image = cv2.imread('/home/ubuntu/gfav/data/phase3/rgb_frames/DJI_3011_0/' + xml_file[:-4] + '.jpg')\n",
    "    et = ET.parse('/home/ubuntu/gfav/data/phase3/labels/DJI_3011_0/' + xml_file)\n",
    "    root = et.getroot()\n",
    "    some_objects = root.findall('object')\n",
    "    file_name = root.findall('filename')\n",
    "    pathh = root.findall('path')\n",
    "    folder = root.findall('folder')\n",
    "    folder[0].text = 'VOC2007'\n",
    "    file_name[0].text = file_name[0].text[4:8] + file_name[0].text[9:10] + file_name[0].text[11:]\n",
    "    pathh[0].text = 'VOC2007/JPEGImages/' + file_name[0].text\n",
    "    et.write('/home/ubuntu/gfav/data/phase3/labels_int/DJI_3011_0/' + file_name[0].text[:-4] + '.xml')\n",
    "    cv2.imwrite(\"/home/ubuntu/gfav/data/phase3/rgb_frames_int/DJI_3011_0/\" + file_name[0].text, image)"
   ]
  },
  {
   "cell_type": "code",
   "execution_count": null,
   "metadata": {},
   "outputs": [],
   "source": []
  }
 ],
 "metadata": {
  "kernelspec": {
   "display_name": "Environment (conda_conda_env_py3_detectron2)",
   "language": "python",
   "name": "conda_conda_env_py3_detectron2"
  },
  "language_info": {
   "codemirror_mode": {
    "name": "ipython",
    "version": 3
   },
   "file_extension": ".py",
   "mimetype": "text/x-python",
   "name": "python",
   "nbconvert_exporter": "python",
   "pygments_lexer": "ipython3",
   "version": "3.6.9"
  }
 },
 "nbformat": 4,
 "nbformat_minor": 2
}
