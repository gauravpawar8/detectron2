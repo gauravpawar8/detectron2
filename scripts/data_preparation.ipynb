{
 "cells": [
  {
   "cell_type": "markdown",
   "metadata": {},
   "source": [
    "### create the trainval and test list for idler dataset"
   ]
  },
  {
   "cell_type": "code",
   "execution_count": 1,
   "metadata": {},
   "outputs": [],
   "source": [
    "import os\n",
    "from random import shuffle"
   ]
  },
  {
   "cell_type": "code",
   "execution_count": 2,
   "metadata": {},
   "outputs": [
    {
     "name": "stdout",
     "output_type": "stream",
     "text": [
      "138 100 38\n"
     ]
    }
   ],
   "source": [
    "list_files = os.listdir('/home/ubuntu/gfav/repos/detectron2/datasets/VOC2007/JPEGImages/')\n",
    "shuffle(list_files)\n",
    "trainval_list = list_files[:100]\n",
    "test_list = list_files[100:]\n",
    "print(len(list_files), len(trainval_list), len(test_list))\n",
    "# print('trainval_list:', trainval_list)\n",
    "# print('test list:', test_list)"
   ]
  },
  {
   "cell_type": "code",
   "execution_count": 2,
   "metadata": {},
   "outputs": [],
   "source": [
    "trainval_list = os.listdir('/home/ubuntu/gfav/data/phase2/rgb_frames_int/DJI_0002_0/')\n",
    "# train_list = [element[:-4] for element in train_list_with_suffix]\n",
    "test_list = os.listdir('/home/ubuntu/gfav/data/phase2/rgb_frames_int/DJI_0001_0/')\n",
    "# test_list = [element[:-4] for element in test_list_with_suffix]\n",
    "# print(train_list, test_list)"
   ]
  },
  {
   "cell_type": "code",
   "execution_count": 3,
   "metadata": {},
   "outputs": [],
   "source": [
    "with open('/home/ubuntu/gfav/repos/detectron2/datasets/VOC2007/ImageSets/Main/trainval.txt', 'w') as f:\n",
    "    for item in trainval_list:\n",
    "        try:\n",
    "            int(item[:-4])\n",
    "        except:\n",
    "            continue\n",
    "        f.write(\"%s\\n\" % item[:-4])\n",
    "with open('/home/ubuntu/gfav/repos/detectron2/datasets/VOC2007/ImageSets/Main/test.txt', 'w') as f:\n",
    "    for item in test_list:\n",
    "        try:\n",
    "            int(item[:-4])\n",
    "        except:\n",
    "            continue\n",
    "        f.write(\"%s\\n\" % item[:-4])"
   ]
  },
  {
   "cell_type": "markdown",
   "metadata": {},
   "source": [
    "### visualize labels"
   ]
  },
  {
   "cell_type": "code",
   "execution_count": 1,
   "metadata": {},
   "outputs": [],
   "source": [
    "import os\n",
    "import xml.etree.ElementTree as ET\n",
    "import cv2\n",
    "import numpy as np\n",
    "from matplotlib import pyplot as plt\n",
    "from matplotlib.pyplot import figure"
   ]
  },
  {
   "cell_type": "code",
   "execution_count": 2,
   "metadata": {},
   "outputs": [],
   "source": [
    "list_files = os.listdir('/home/ubuntu/gfav/repos/detectron2/datasets/VOC2007/Annotations/')"
   ]
  },
  {
   "cell_type": "code",
   "execution_count": 3,
   "metadata": {
    "scrolled": true
   },
   "outputs": [
    {
     "name": "stdout",
     "output_type": "stream",
     "text": [
      "0002000048.xml\n",
      "idler\n",
      "idler\n",
      "idler\n",
      "idler\n",
      "idler\n",
      "idler\n",
      "idler\n",
      "idler\n",
      "idler\n",
      "idler\n",
      "idler\n",
      "idler\n",
      "0002000049.xml\n",
      "idler\n",
      "idler\n",
      "idler\n",
      "idler\n",
      "idler\n",
      "idler\n",
      "idler\n",
      "idler\n",
      "idler\n",
      "idler\n",
      "idler\n",
      "idler\n",
      "0001000027.xml\n",
      "idler\n",
      "idler\n",
      "idler\n",
      "idler\n",
      "idler\n",
      "0002000032.xml\n",
      "idler\n",
      "idler\n",
      "idler\n",
      "idler\n",
      "idler\n",
      "idler\n",
      "idler\n",
      "idler\n",
      "idler\n",
      "idler\n",
      "idler\n",
      "idler\n",
      "idler\n",
      "0002000047.xml\n",
      "idler\n",
      "idler\n",
      "idler\n",
      "idler\n",
      "idler\n",
      "idler\n",
      "idler\n",
      "idler\n",
      "idler\n",
      "idler\n",
      "idler\n",
      "idler\n",
      "idler\n",
      "0001000030.xml\n",
      "idler\n",
      "idler\n",
      "idler\n",
      "idler\n",
      "idler\n",
      "idler\n",
      "idler\n",
      "0002000052.xml\n",
      "idler\n",
      "idler\n",
      "idler\n",
      "idler\n",
      "idler\n",
      "idler\n",
      "idler\n",
      "idler\n",
      "idler\n",
      "idler\n",
      "idler\n",
      "idler\n",
      "0001000021.xml\n",
      "idler\n",
      "idler\n",
      "idler\n",
      "idler\n",
      "idler\n",
      "idler\n",
      "idler\n",
      "0001000054.xml\n",
      "idler\n",
      "idler\n",
      "idler\n",
      "idler\n",
      "idler\n",
      "idler\n",
      "idler\n",
      "idler\n",
      "idler\n",
      "idler\n",
      "0001000025.xml\n",
      "idler\n",
      "idler\n",
      "idler\n",
      "idler\n",
      "idler\n",
      "idler\n",
      "idler\n",
      "0002000007.xml\n",
      "idler\n",
      "idler\n",
      "idler\n",
      "idler\n",
      "idler\n",
      "0002000021.xml\n",
      "idler\n",
      "idler\n",
      "idler\n",
      "idler\n",
      "idler\n",
      "idler\n",
      "idler\n",
      "idler\n",
      "idler\n",
      "idler\n",
      "idler\n",
      "idler\n",
      "idler\n",
      "0001000057.xml\n",
      "idler\n",
      "idler\n",
      "idler\n",
      "idler\n",
      "idler\n",
      "idler\n",
      "idler\n",
      "idler\n",
      "idler\n",
      "idler\n",
      "0002000045.xml\n",
      "idler\n",
      "idler\n",
      "idler\n",
      "idler\n",
      "idler\n",
      "idler\n",
      "idler\n",
      "idler\n",
      "idler\n",
      "idler\n",
      "idler\n",
      "idler\n",
      "idler\n",
      "0002000026.xml\n",
      "idler\n",
      "idler\n",
      "idler\n",
      "idler\n",
      "idler\n",
      "idler\n",
      "idler\n",
      "idler\n",
      "idler\n",
      "idler\n",
      "idler\n",
      "idler\n",
      "0001000053.xml\n",
      "idler\n",
      "idler\n",
      "idler\n",
      "idler\n",
      "idler\n",
      "idler\n",
      "idler\n",
      "idler\n",
      "idler\n",
      "idler\n",
      "idler\n",
      "0002000004.xml\n",
      "idler\n",
      "idler\n",
      "idler\n",
      "0002000036.xml\n",
      "idler\n",
      "idler\n",
      "idler\n",
      "idler\n",
      "idler\n",
      "idler\n",
      "idler\n",
      "idler\n",
      "idler\n",
      "idler\n",
      "idler\n",
      "idler\n",
      "0001000011.xml\n",
      "idler\n",
      "idler\n",
      "idler\n",
      "idler\n",
      "idler\n",
      "idler\n",
      "idler\n",
      "0002000070.xml\n",
      "idler\n",
      "idler\n",
      "idler\n",
      "idler\n",
      "0002000062.xml\n",
      "idler\n",
      "idler\n",
      "idler\n",
      "idler\n",
      "idler\n",
      "idler\n",
      "idler\n",
      "idler\n",
      "idler\n",
      "idler\n",
      "0001000060.xml\n",
      "idler\n",
      "idler\n",
      "idler\n",
      "idler\n",
      "idler\n",
      "0002000005.xml\n",
      "idler\n",
      "idler\n"
     ]
    },
    {
     "name": "stderr",
     "output_type": "stream",
     "text": [
      "/home/ubuntu/anaconda3/envs/conda_env_py3_detectron2/lib/python3.6/site-packages/ipykernel/__main__.py:15: RuntimeWarning: More than 20 figures have been opened. Figures created through the pyplot interface (`matplotlib.pyplot.figure`) are retained until explicitly closed and may consume too much memory. (To control this warning, see the rcParam `figure.max_open_warning`).\n"
     ]
    },
    {
     "name": "stdout",
     "output_type": "stream",
     "text": [
      "0002000069.xml\n",
      "idler\n",
      "idler\n",
      "idler\n",
      "0002000046.xml\n",
      "idler\n",
      "idler\n",
      "idler\n",
      "idler\n",
      "idler\n",
      "idler\n",
      "idler\n",
      "idler\n",
      "idler\n",
      "idler\n",
      "idler\n",
      "idler\n",
      "idler\n",
      "0002000042.xml\n",
      "idler\n",
      "idler\n",
      "idler\n",
      "idler\n",
      "idler\n",
      "idler\n",
      "idler\n",
      "idler\n",
      "idler\n",
      "idler\n",
      "idler\n",
      "idler\n",
      "idler\n",
      "0001000012.xml\n",
      "idler\n",
      "idler\n",
      "idler\n",
      "idler\n",
      "idler\n",
      "idler\n",
      "0002000012.xml\n",
      "idler\n",
      "idler\n",
      "idler\n",
      "idler\n",
      "idler\n",
      "idler\n",
      "idler\n",
      "0001000026.xml\n",
      "idler\n",
      "idler\n",
      "idler\n",
      "idler\n",
      "idler\n",
      "idler\n",
      "0002000039.xml\n",
      "idler\n",
      "idler\n",
      "idler\n",
      "idler\n",
      "idler\n",
      "idler\n",
      "idler\n",
      "idler\n",
      "idler\n",
      "idler\n",
      "idler\n",
      "idler\n",
      "idler\n",
      "0001000064.xml\n",
      "idler\n",
      "idler\n",
      "idler\n",
      "0001000051.xml\n",
      "idler\n",
      "idler\n",
      "idler\n",
      "idler\n",
      "idler\n",
      "idler\n",
      "idler\n",
      "idler\n",
      "idler\n",
      "idler\n",
      "idler\n",
      "idler\n",
      "0001000004.xml\n",
      "idler\n",
      "idler\n",
      "idler\n",
      "idler\n",
      "idler\n",
      "0001000066.xml\n",
      "idler\n",
      "idler\n",
      "0002000053.xml\n",
      "idler\n",
      "idler\n",
      "idler\n",
      "idler\n",
      "idler\n",
      "idler\n",
      "idler\n",
      "idler\n",
      "idler\n",
      "idler\n",
      "idler\n",
      "idler\n",
      "idler\n",
      "0001000022.xml\n",
      "idler\n",
      "idler\n",
      "idler\n",
      "idler\n",
      "idler\n",
      "idler\n",
      "idler\n",
      "0001000028.xml\n",
      "idler\n",
      "idler\n",
      "idler\n",
      "idler\n",
      "idler\n",
      "idler\n",
      "0002000020.xml\n",
      "idler\n",
      "idler\n",
      "idler\n",
      "idler\n",
      "idler\n",
      "idler\n",
      "idler\n",
      "idler\n",
      "idler\n",
      "idler\n",
      "0001000010.xml\n",
      "idler\n",
      "idler\n",
      "idler\n",
      "idler\n",
      "idler\n",
      "idler\n",
      "idler\n",
      "idler\n",
      "0002000013.xml\n",
      "idler\n",
      "idler\n",
      "idler\n",
      "idler\n",
      "idler\n",
      "idler\n",
      "idler\n",
      "0002000028.xml\n",
      "idler\n",
      "idler\n",
      "idler\n",
      "idler\n",
      "idler\n",
      "idler\n",
      "idler\n",
      "idler\n",
      "idler\n",
      "idler\n",
      "idler\n",
      "idler\n",
      "idler\n",
      "0002000019.xml\n",
      "idler\n",
      "idler\n",
      "idler\n",
      "idler\n",
      "idler\n",
      "idler\n",
      "idler\n",
      "idler\n",
      "idler\n",
      "idler\n",
      "idler\n",
      "0001000059.xml\n",
      "idler\n",
      "idler\n",
      "idler\n",
      "idler\n",
      "idler\n",
      "idler\n",
      "idler\n",
      "idler\n",
      "0001000052.xml\n",
      "idler\n",
      "idler\n",
      "idler\n",
      "idler\n",
      "idler\n",
      "idler\n",
      "idler\n",
      "idler\n",
      "0002000043.xml\n",
      "idler\n",
      "idler\n",
      "idler\n",
      "idler\n",
      "idler\n",
      "idler\n",
      "idler\n",
      "idler\n",
      "idler\n",
      "idler\n",
      "idler\n",
      "idler\n",
      "idler\n",
      "idler\n",
      "0002000038.xml\n",
      "idler\n",
      "idler\n",
      "idler\n",
      "idler\n",
      "idler\n",
      "idler\n",
      "idler\n",
      "idler\n",
      "idler\n",
      "idler\n",
      "idler\n",
      "0001000041.xml\n",
      "idler\n",
      "idler\n",
      "idler\n",
      "idler\n",
      "idler\n",
      "idler\n",
      "idler\n",
      "idler\n",
      "0002000029.xml\n",
      "idler\n",
      "idler\n",
      "idler\n",
      "idler\n",
      "idler\n",
      "idler\n",
      "idler\n",
      "idler\n",
      "idler\n",
      "idler\n",
      "idler\n",
      "idler\n",
      "idler\n",
      "0001000043.xml\n",
      "idler\n",
      "idler\n",
      "idler\n",
      "idler\n",
      "idler\n",
      "idler\n",
      "0002000010.xml\n",
      "idler\n",
      "idler\n",
      "idler\n",
      "idler\n",
      "idler\n",
      "idler\n",
      "0001000013.xml\n",
      "idler\n",
      "idler\n",
      "idler\n",
      "idler\n",
      "idler\n",
      "idler\n",
      "0001000063.xml\n",
      "idler\n",
      "idler\n",
      "idler\n",
      "idler\n",
      "0001000005.xml\n",
      "idler\n",
      "idler\n",
      "idler\n",
      "idler\n",
      "idler\n",
      "idler\n",
      "0001000006.xml\n",
      "idler\n",
      "idler\n",
      "idler\n",
      "idler\n",
      "idler\n",
      "idler\n",
      "0002000015.xml\n",
      "idler\n",
      "idler\n",
      "idler\n",
      "idler\n",
      "idler\n",
      "idler\n",
      "idler\n",
      "idler\n",
      "idler\n",
      "idler\n",
      "0001000001.xml\n",
      "idler\n",
      "idler\n",
      "idler\n",
      "idler\n",
      "0001000056.xml\n",
      "idler\n",
      "idler\n",
      "idler\n",
      "idler\n",
      "idler\n",
      "idler\n",
      "idler\n",
      "idler\n",
      "0002000033.xml\n",
      "idler\n",
      "idler\n",
      "idler\n",
      "idler\n",
      "idler\n",
      "idler\n",
      "idler\n",
      "idler\n",
      "idler\n",
      "idler\n",
      "idler\n",
      "idler\n",
      "idler\n",
      "0002000025.xml\n",
      "idler\n",
      "idler\n",
      "idler\n",
      "idler\n",
      "idler\n",
      "idler\n",
      "idler\n",
      "idler\n",
      "idler\n",
      "idler\n",
      "idler\n",
      "idler\n",
      "idler\n",
      "idler\n",
      "0001000045.xml\n",
      "idler\n",
      "idler\n",
      "idler\n",
      "idler\n",
      "idler\n",
      "idler\n",
      "0001000031.xml\n",
      "idler\n",
      "idler\n",
      "idler\n",
      "idler\n",
      "idler\n",
      "idler\n",
      "0001000046.xml\n",
      "idler\n",
      "idler\n",
      "idler\n",
      "idler\n",
      "idler\n",
      "idler\n",
      "0001000020.xml\n",
      "idler\n",
      "idler\n",
      "idler\n",
      "idler\n",
      "idler\n",
      "idler\n",
      "idler\n",
      "idler\n",
      "0002000014.xml\n",
      "idler\n",
      "idler\n",
      "idler\n",
      "idler\n",
      "idler\n",
      "idler\n",
      "idler\n",
      "idler\n",
      "0002000040.xml\n",
      "idler\n",
      "idler\n",
      "idler\n",
      "idler\n",
      "idler\n",
      "idler\n",
      "idler\n",
      "idler\n",
      "idler\n",
      "idler\n",
      "idler\n",
      "idler\n",
      "idler\n",
      "0002000037.xml\n",
      "idler\n",
      "idler\n",
      "idler\n",
      "idler\n",
      "idler\n",
      "idler\n",
      "idler\n",
      "idler\n",
      "idler\n",
      "idler\n",
      "idler\n",
      "idler\n",
      "idler\n",
      "idler\n",
      "0001000034.xml\n",
      "idler\n",
      "idler\n",
      "idler\n",
      "idler\n",
      "idler\n",
      "idler\n",
      "idler\n",
      "idler\n",
      "idler\n",
      "idler\n",
      "0001000044.xml\n",
      "idler\n",
      "idler\n",
      "idler\n",
      "idler\n",
      "idler\n",
      "idler\n",
      "idler\n",
      "0001000018.xml\n",
      "idler\n",
      "idler\n",
      "idler\n",
      "idler\n",
      "idler\n",
      "idler\n",
      "idler\n",
      "0002000016.xml\n",
      "idler\n",
      "idler\n",
      "idler\n",
      "idler\n",
      "idler\n",
      "idler\n",
      "idler\n",
      "idler\n",
      "idler\n",
      "idler\n",
      "0001000008.xml\n",
      "idler\n",
      "idler\n",
      "idler\n",
      "idler\n",
      "idler\n",
      "idler\n",
      "idler\n",
      "0001000000.xml\n",
      "idler\n",
      "idler\n",
      "idler\n",
      "idler\n",
      "0001000035.xml\n",
      "idler\n",
      "idler\n",
      "idler\n",
      "idler\n",
      "idler\n",
      "idler\n",
      "idler\n",
      "0001000040.xml\n",
      "idler\n",
      "idler\n",
      "idler\n",
      "idler\n",
      "idler\n",
      "idler\n",
      "idler\n",
      "idler\n",
      "idler\n",
      "0001000017.xml\n",
      "idler\n",
      "idler\n",
      "idler\n",
      "idler\n",
      "idler\n",
      "idler\n",
      "idler\n",
      "0002000067.xml\n",
      "idler\n",
      "idler\n",
      "idler\n",
      "idler\n",
      "idler\n",
      "idler\n",
      "0002000061.xml\n",
      "idler\n",
      "idler\n",
      "idler\n",
      "idler\n",
      "idler\n",
      "idler\n",
      "idler\n",
      "idler\n",
      "idler\n",
      "idler\n",
      "idler\n",
      "0002000030.xml\n",
      "idler\n",
      "idler\n",
      "idler\n",
      "idler\n",
      "idler\n",
      "idler\n",
      "idler\n",
      "idler\n",
      "idler\n",
      "idler\n",
      "idler\n",
      "idler\n",
      "idler\n",
      "idler\n",
      "0001000023.xml\n",
      "idler\n",
      "idler\n",
      "idler\n",
      "idler\n",
      "idler\n",
      "idler\n",
      "idler\n",
      "idler\n",
      "0002000011.xml\n",
      "idler\n",
      "idler\n",
      "idler\n",
      "idler\n",
      "idler\n",
      "idler\n",
      "0001000014.xml\n",
      "idler\n",
      "idler\n",
      "idler\n",
      "idler\n",
      "idler\n",
      "idler\n",
      "idler\n",
      "0001000019.xml\n",
      "idler\n",
      "idler\n",
      "idler\n",
      "idler\n",
      "idler\n",
      "idler\n",
      "0001000038.xml\n",
      "idler\n",
      "idler\n",
      "idler\n",
      "idler\n",
      "idler\n",
      "idler\n",
      "idler\n",
      "idler\n",
      "0002000044.xml\n",
      "idler\n",
      "idler\n",
      "idler\n",
      "idler\n",
      "idler\n",
      "idler\n",
      "idler\n",
      "idler\n",
      "idler\n",
      "idler\n",
      "idler\n",
      "idler\n",
      "idler\n",
      "idler\n",
      "0001000055.xml\n",
      "idler\n",
      "idler\n",
      "idler\n",
      "idler\n",
      "idler\n",
      "idler\n",
      "idler\n",
      "idler\n",
      "0001000062.xml\n",
      "idler\n",
      "idler\n",
      "idler\n",
      "idler\n",
      "0001000009.xml\n",
      "idler\n",
      "idler\n",
      "idler\n",
      "idler\n",
      "idler\n",
      "idler\n",
      "0002000057.xml\n",
      "idler\n",
      "idler\n",
      "idler\n",
      "idler\n",
      "idler\n",
      "idler\n",
      "idler\n",
      "idler\n",
      "idler\n",
      "idler\n",
      "idler\n",
      "idler\n",
      "idler\n",
      "0001000002.xml\n",
      "idler\n",
      "idler\n",
      "idler\n",
      "idler\n",
      "idler\n",
      "0002000024.xml\n",
      "idler\n",
      "idler\n",
      "idler\n",
      "idler\n",
      "idler\n",
      "idler\n",
      "idler\n",
      "idler\n",
      "idler\n",
      "idler\n",
      "idler\n",
      "idler\n",
      "idler\n",
      "idler\n",
      "idler\n",
      "0001000033.xml\n",
      "idler\n",
      "idler\n",
      "idler\n",
      "idler\n",
      "idler\n",
      "idler\n",
      "idler\n",
      "idler\n",
      "0001000039.xml\n",
      "idler\n",
      "idler\n",
      "idler\n",
      "idler\n",
      "idler\n",
      "idler\n",
      "idler\n",
      "idler\n",
      "idler\n",
      "0002000056.xml\n",
      "idler\n",
      "idler\n",
      "idler\n",
      "idler\n",
      "idler\n",
      "idler\n",
      "idler\n",
      "idler\n",
      "idler\n",
      "idler\n",
      "idler\n",
      "idler\n",
      "0002000068.xml\n",
      "idler\n",
      "idler\n",
      "idler\n",
      "idler\n",
      "idler\n",
      "0002000035.xml\n",
      "idler\n",
      "idler\n",
      "idler\n",
      "idler\n",
      "idler\n",
      "idler\n",
      "idler\n",
      "idler\n",
      "idler\n",
      "idler\n",
      "idler\n",
      "idler\n",
      "idler\n",
      "idler\n",
      "0002000050.xml\n",
      "idler\n",
      "idler\n",
      "idler\n",
      "idler\n",
      "idler\n",
      "idler\n",
      "idler\n",
      "idler\n",
      "idler\n",
      "idler\n",
      "idler\n",
      "idler\n",
      "0001000003.xml\n",
      "idler\n",
      "idler\n",
      "idler\n",
      "idler\n",
      "0002000000.xml\n",
      "idler\n",
      "0001000016.xml\n",
      "idler\n",
      "idler\n",
      "idler\n",
      "idler\n",
      "idler\n",
      "idler\n",
      "idler\n",
      "0002000059.xml\n",
      "idler\n",
      "idler\n",
      "idler\n",
      "idler\n",
      "idler\n",
      "idler\n",
      "idler\n",
      "idler\n",
      "idler\n",
      "idler\n",
      "idler\n",
      "idler\n",
      "idler\n",
      "0001000024.xml\n",
      "idler\n",
      "idler\n",
      "idler\n",
      "idler\n",
      "idler\n",
      "idler\n",
      "0001000042.xml\n",
      "idler\n",
      "idler\n",
      "idler\n",
      "idler\n",
      "idler\n",
      "idler\n",
      "idler\n",
      "idler\n",
      "0001000061.xml\n",
      "idler\n",
      "idler\n",
      "idler\n",
      "idler\n",
      "idler\n",
      "0002000008.xml\n",
      "idler\n",
      "idler\n",
      "idler\n",
      "idler\n",
      "idler\n",
      "idler\n",
      "0002000041.xml\n",
      "idler\n",
      "idler\n",
      "idler\n",
      "idler\n",
      "idler\n",
      "idler\n",
      "idler\n",
      "idler\n",
      "idler\n",
      "idler\n",
      "idler\n",
      "idler\n",
      "0002000055.xml\n",
      "idler\n",
      "idler\n",
      "idler\n",
      "idler\n",
      "idler\n",
      "idler\n",
      "idler\n",
      "idler\n",
      "idler\n",
      "idler\n",
      "idler\n",
      "idler\n",
      "idler\n",
      "0002000060.xml\n",
      "idler\n",
      "idler\n",
      "idler\n",
      "idler\n",
      "idler\n",
      "idler\n",
      "idler\n",
      "idler\n",
      "idler\n",
      "idler\n",
      "idler\n",
      "0001000050.xml\n",
      "idler\n",
      "idler\n",
      "idler\n",
      "idler\n",
      "idler\n",
      "idler\n",
      "idler\n",
      "idler\n",
      "idler\n",
      "0001000049.xml\n",
      "idler\n",
      "idler\n",
      "idler\n",
      "idler\n",
      "idler\n",
      "idler\n",
      "idler\n",
      "idler\n",
      "idler\n",
      "0002000018.xml\n",
      "idler\n",
      "idler\n",
      "idler\n",
      "idler\n",
      "idler\n",
      "idler\n",
      "idler\n",
      "idler\n",
      "idler\n",
      "idler\n",
      "idler\n",
      "0002000009.xml\n",
      "idler\n",
      "idler\n",
      "idler\n",
      "idler\n",
      "idler\n",
      "idler\n",
      "0002000006.xml\n",
      "idler\n",
      "idler\n",
      "idler\n",
      "idler\n",
      "0002000002.xml\n",
      "idler\n",
      "idler\n",
      "0001000058.xml\n",
      "idler\n",
      "idler\n",
      "idler\n",
      "idler\n",
      "idler\n",
      "idler\n",
      "idler\n",
      "idler\n",
      "0002000064.xml\n",
      "idler\n",
      "idler\n",
      "idler\n",
      "idler\n",
      "idler\n",
      "idler\n",
      "idler\n",
      "0001000015.xml\n",
      "idler\n",
      "idler\n",
      "idler\n",
      "idler\n",
      "idler\n",
      "idler\n",
      "idler\n",
      "0002000066.xml\n",
      "idler\n",
      "idler\n",
      "idler\n",
      "idler\n",
      "idler\n",
      "idler\n",
      "0002000001.xml\n",
      "idler\n",
      "0002000027.xml\n",
      "idler\n",
      "idler\n",
      "idler\n",
      "idler\n",
      "idler\n",
      "idler\n",
      "idler\n",
      "idler\n",
      "idler\n",
      "idler\n",
      "idler\n",
      "idler\n",
      "0002000003.xml\n",
      "idler\n",
      "idler\n",
      "0002000063.xml\n",
      "idler\n",
      "idler\n",
      "idler\n",
      "idler\n",
      "idler\n",
      "idler\n",
      "idler\n",
      "idler\n",
      "idler\n",
      "0001000065.xml\n",
      "idler\n",
      "idler\n",
      "idler\n",
      "0002000022.xml\n",
      "idler\n",
      "idler\n",
      "idler\n",
      "idler\n",
      "idler\n",
      "idler\n",
      "idler\n",
      "idler\n",
      "idler\n",
      "idler\n",
      "idler\n",
      "idler\n",
      "idler\n",
      "0002000034.xml\n",
      "idler\n",
      "idler\n",
      "idler\n",
      "idler\n",
      "idler\n",
      "idler\n",
      "idler\n",
      "idler\n",
      "idler\n",
      "idler\n",
      "idler\n",
      "idler\n",
      "0001000037.xml\n",
      "idler\n",
      "idler\n",
      "idler\n",
      "idler\n",
      "idler\n",
      "idler\n",
      "idler\n",
      "0002000058.xml\n",
      "idler\n",
      "idler\n",
      "idler\n",
      "idler\n",
      "idler\n",
      "idler\n",
      "idler\n",
      "idler\n",
      "idler\n",
      "idler\n",
      "idler\n",
      "idler\n",
      "0002000017.xml\n",
      "idler\n",
      "idler\n",
      "idler\n",
      "idler\n",
      "idler\n",
      "idler\n",
      "idler\n",
      "idler\n",
      "idler\n",
      "idler\n",
      "idler\n",
      "0001000036.xml\n",
      "idler\n",
      "idler\n",
      "idler\n",
      "idler\n",
      "idler\n",
      "idler\n",
      "idler\n",
      "idler\n",
      "idler\n",
      "0002000031.xml\n",
      "idler\n",
      "idler\n",
      "idler\n",
      "idler\n",
      "idler\n",
      "idler\n",
      "idler\n",
      "idler\n",
      "idler\n",
      "idler\n",
      "idler\n",
      "idler\n",
      "0002000051.xml\n",
      "idler\n",
      "idler\n",
      "idler\n",
      "idler\n",
      "idler\n",
      "idler\n",
      "idler\n",
      "idler\n",
      "idler\n",
      "idler\n",
      "idler\n",
      "idler\n",
      "0001000048.xml\n",
      "idler\n",
      "idler\n",
      "idler\n",
      "idler\n",
      "idler\n",
      "idler\n",
      "idler\n",
      "0002000054.xml\n",
      "idler\n",
      "idler\n",
      "idler\n",
      "idler\n",
      "idler\n",
      "idler\n",
      "idler\n",
      "idler\n",
      "idler\n",
      "idler\n",
      "idler\n",
      "idler\n",
      "idler\n",
      "0002000023.xml\n",
      "idler\n",
      "idler\n",
      "idler\n",
      "idler\n",
      "idler\n",
      "idler\n",
      "idler\n",
      "idler\n",
      "idler\n",
      "idler\n",
      "idler\n",
      "idler\n",
      "idler\n",
      "0001000029.xml\n",
      "idler\n",
      "idler\n",
      "idler\n",
      "idler\n",
      "idler\n",
      "idler\n",
      "idler\n",
      "0002000065.xml\n",
      "idler\n",
      "idler\n",
      "idler\n",
      "idler\n",
      "idler\n",
      "idler\n",
      "idler\n",
      "0001000032.xml\n",
      "idler\n",
      "idler\n",
      "idler\n",
      "idler\n",
      "idler\n",
      "0001000047.xml\n",
      "idler\n",
      "idler\n",
      "idler\n",
      "idler\n",
      "idler\n",
      "idler\n",
      "idler\n",
      "0001000007.xml\n",
      "idler\n",
      "idler\n",
      "idler\n",
      "idler\n",
      "idler\n",
      "idler\n",
      "idler\n"
     ]
    },
    {
     "data": {
      "text/plain": [
       "<Figure size 1600x1200 with 0 Axes>"
      ]
     },
     "metadata": {},
     "output_type": "display_data"
    },
    {
     "data": {
      "text/plain": [
       "<Figure size 1600x1200 with 0 Axes>"
      ]
     },
     "metadata": {},
     "output_type": "display_data"
    },
    {
     "data": {
      "text/plain": [
       "<Figure size 1600x1200 with 0 Axes>"
      ]
     },
     "metadata": {},
     "output_type": "display_data"
    },
    {
     "data": {
      "text/plain": [
       "<Figure size 1600x1200 with 0 Axes>"
      ]
     },
     "metadata": {},
     "output_type": "display_data"
    },
    {
     "data": {
      "text/plain": [
       "<Figure size 1600x1200 with 0 Axes>"
      ]
     },
     "metadata": {},
     "output_type": "display_data"
    },
    {
     "data": {
      "text/plain": [
       "<Figure size 1600x1200 with 0 Axes>"
      ]
     },
     "metadata": {},
     "output_type": "display_data"
    },
    {
     "data": {
      "text/plain": [
       "<Figure size 1600x1200 with 0 Axes>"
      ]
     },
     "metadata": {},
     "output_type": "display_data"
    },
    {
     "data": {
      "text/plain": [
       "<Figure size 1600x1200 with 0 Axes>"
      ]
     },
     "metadata": {},
     "output_type": "display_data"
    },
    {
     "data": {
      "text/plain": [
       "<Figure size 1600x1200 with 0 Axes>"
      ]
     },
     "metadata": {},
     "output_type": "display_data"
    },
    {
     "data": {
      "text/plain": [
       "<Figure size 1600x1200 with 0 Axes>"
      ]
     },
     "metadata": {},
     "output_type": "display_data"
    },
    {
     "data": {
      "text/plain": [
       "<Figure size 1600x1200 with 0 Axes>"
      ]
     },
     "metadata": {},
     "output_type": "display_data"
    },
    {
     "data": {
      "text/plain": [
       "<Figure size 1600x1200 with 0 Axes>"
      ]
     },
     "metadata": {},
     "output_type": "display_data"
    },
    {
     "data": {
      "text/plain": [
       "<Figure size 1600x1200 with 0 Axes>"
      ]
     },
     "metadata": {},
     "output_type": "display_data"
    },
    {
     "data": {
      "text/plain": [
       "<Figure size 1600x1200 with 0 Axes>"
      ]
     },
     "metadata": {},
     "output_type": "display_data"
    },
    {
     "data": {
      "text/plain": [
       "<Figure size 1600x1200 with 0 Axes>"
      ]
     },
     "metadata": {},
     "output_type": "display_data"
    },
    {
     "data": {
      "text/plain": [
       "<Figure size 1600x1200 with 0 Axes>"
      ]
     },
     "metadata": {},
     "output_type": "display_data"
    },
    {
     "data": {
      "text/plain": [
       "<Figure size 1600x1200 with 0 Axes>"
      ]
     },
     "metadata": {},
     "output_type": "display_data"
    },
    {
     "data": {
      "text/plain": [
       "<Figure size 1600x1200 with 0 Axes>"
      ]
     },
     "metadata": {},
     "output_type": "display_data"
    },
    {
     "data": {
      "text/plain": [
       "<Figure size 1600x1200 with 0 Axes>"
      ]
     },
     "metadata": {},
     "output_type": "display_data"
    },
    {
     "data": {
      "text/plain": [
       "<Figure size 1600x1200 with 0 Axes>"
      ]
     },
     "metadata": {},
     "output_type": "display_data"
    },
    {
     "data": {
      "text/plain": [
       "<Figure size 1600x1200 with 0 Axes>"
      ]
     },
     "metadata": {},
     "output_type": "display_data"
    },
    {
     "data": {
      "text/plain": [
       "<Figure size 1600x1200 with 0 Axes>"
      ]
     },
     "metadata": {},
     "output_type": "display_data"
    },
    {
     "data": {
      "text/plain": [
       "<Figure size 1600x1200 with 0 Axes>"
      ]
     },
     "metadata": {},
     "output_type": "display_data"
    },
    {
     "data": {
      "text/plain": [
       "<Figure size 1600x1200 with 0 Axes>"
      ]
     },
     "metadata": {},
     "output_type": "display_data"
    },
    {
     "data": {
      "text/plain": [
       "<Figure size 1600x1200 with 0 Axes>"
      ]
     },
     "metadata": {},
     "output_type": "display_data"
    },
    {
     "data": {
      "text/plain": [
       "<Figure size 1600x1200 with 0 Axes>"
      ]
     },
     "metadata": {},
     "output_type": "display_data"
    },
    {
     "data": {
      "text/plain": [
       "<Figure size 1600x1200 with 0 Axes>"
      ]
     },
     "metadata": {},
     "output_type": "display_data"
    },
    {
     "data": {
      "text/plain": [
       "<Figure size 1600x1200 with 0 Axes>"
      ]
     },
     "metadata": {},
     "output_type": "display_data"
    },
    {
     "data": {
      "text/plain": [
       "<Figure size 1600x1200 with 0 Axes>"
      ]
     },
     "metadata": {},
     "output_type": "display_data"
    },
    {
     "data": {
      "text/plain": [
       "<Figure size 1600x1200 with 0 Axes>"
      ]
     },
     "metadata": {},
     "output_type": "display_data"
    },
    {
     "data": {
      "text/plain": [
       "<Figure size 1600x1200 with 0 Axes>"
      ]
     },
     "metadata": {},
     "output_type": "display_data"
    },
    {
     "data": {
      "text/plain": [
       "<Figure size 1600x1200 with 0 Axes>"
      ]
     },
     "metadata": {},
     "output_type": "display_data"
    },
    {
     "data": {
      "text/plain": [
       "<Figure size 1600x1200 with 0 Axes>"
      ]
     },
     "metadata": {},
     "output_type": "display_data"
    },
    {
     "data": {
      "text/plain": [
       "<Figure size 1600x1200 with 0 Axes>"
      ]
     },
     "metadata": {},
     "output_type": "display_data"
    },
    {
     "data": {
      "text/plain": [
       "<Figure size 1600x1200 with 0 Axes>"
      ]
     },
     "metadata": {},
     "output_type": "display_data"
    },
    {
     "data": {
      "text/plain": [
       "<Figure size 1600x1200 with 0 Axes>"
      ]
     },
     "metadata": {},
     "output_type": "display_data"
    },
    {
     "data": {
      "text/plain": [
       "<Figure size 1600x1200 with 0 Axes>"
      ]
     },
     "metadata": {},
     "output_type": "display_data"
    },
    {
     "data": {
      "text/plain": [
       "<Figure size 1600x1200 with 0 Axes>"
      ]
     },
     "metadata": {},
     "output_type": "display_data"
    },
    {
     "data": {
      "text/plain": [
       "<Figure size 1600x1200 with 0 Axes>"
      ]
     },
     "metadata": {},
     "output_type": "display_data"
    },
    {
     "data": {
      "text/plain": [
       "<Figure size 1600x1200 with 0 Axes>"
      ]
     },
     "metadata": {},
     "output_type": "display_data"
    },
    {
     "data": {
      "text/plain": [
       "<Figure size 1600x1200 with 0 Axes>"
      ]
     },
     "metadata": {},
     "output_type": "display_data"
    },
    {
     "data": {
      "text/plain": [
       "<Figure size 1600x1200 with 0 Axes>"
      ]
     },
     "metadata": {},
     "output_type": "display_data"
    },
    {
     "data": {
      "text/plain": [
       "<Figure size 1600x1200 with 0 Axes>"
      ]
     },
     "metadata": {},
     "output_type": "display_data"
    },
    {
     "data": {
      "text/plain": [
       "<Figure size 1600x1200 with 0 Axes>"
      ]
     },
     "metadata": {},
     "output_type": "display_data"
    },
    {
     "data": {
      "text/plain": [
       "<Figure size 1600x1200 with 0 Axes>"
      ]
     },
     "metadata": {},
     "output_type": "display_data"
    },
    {
     "data": {
      "text/plain": [
       "<Figure size 1600x1200 with 0 Axes>"
      ]
     },
     "metadata": {},
     "output_type": "display_data"
    },
    {
     "data": {
      "text/plain": [
       "<Figure size 1600x1200 with 0 Axes>"
      ]
     },
     "metadata": {},
     "output_type": "display_data"
    },
    {
     "data": {
      "text/plain": [
       "<Figure size 1600x1200 with 0 Axes>"
      ]
     },
     "metadata": {},
     "output_type": "display_data"
    },
    {
     "data": {
      "text/plain": [
       "<Figure size 1600x1200 with 0 Axes>"
      ]
     },
     "metadata": {},
     "output_type": "display_data"
    },
    {
     "data": {
      "text/plain": [
       "<Figure size 1600x1200 with 0 Axes>"
      ]
     },
     "metadata": {},
     "output_type": "display_data"
    },
    {
     "data": {
      "text/plain": [
       "<Figure size 1600x1200 with 0 Axes>"
      ]
     },
     "metadata": {},
     "output_type": "display_data"
    },
    {
     "data": {
      "text/plain": [
       "<Figure size 1600x1200 with 0 Axes>"
      ]
     },
     "metadata": {},
     "output_type": "display_data"
    },
    {
     "data": {
      "text/plain": [
       "<Figure size 1600x1200 with 0 Axes>"
      ]
     },
     "metadata": {},
     "output_type": "display_data"
    },
    {
     "data": {
      "text/plain": [
       "<Figure size 1600x1200 with 0 Axes>"
      ]
     },
     "metadata": {},
     "output_type": "display_data"
    },
    {
     "data": {
      "text/plain": [
       "<Figure size 1600x1200 with 0 Axes>"
      ]
     },
     "metadata": {},
     "output_type": "display_data"
    },
    {
     "data": {
      "text/plain": [
       "<Figure size 1600x1200 with 0 Axes>"
      ]
     },
     "metadata": {},
     "output_type": "display_data"
    },
    {
     "data": {
      "text/plain": [
       "<Figure size 1600x1200 with 0 Axes>"
      ]
     },
     "metadata": {},
     "output_type": "display_data"
    },
    {
     "data": {
      "text/plain": [
       "<Figure size 1600x1200 with 0 Axes>"
      ]
     },
     "metadata": {},
     "output_type": "display_data"
    },
    {
     "data": {
      "text/plain": [
       "<Figure size 1600x1200 with 0 Axes>"
      ]
     },
     "metadata": {},
     "output_type": "display_data"
    },
    {
     "data": {
      "text/plain": [
       "<Figure size 1600x1200 with 0 Axes>"
      ]
     },
     "metadata": {},
     "output_type": "display_data"
    },
    {
     "data": {
      "text/plain": [
       "<Figure size 1600x1200 with 0 Axes>"
      ]
     },
     "metadata": {},
     "output_type": "display_data"
    },
    {
     "data": {
      "text/plain": [
       "<Figure size 1600x1200 with 0 Axes>"
      ]
     },
     "metadata": {},
     "output_type": "display_data"
    },
    {
     "data": {
      "text/plain": [
       "<Figure size 1600x1200 with 0 Axes>"
      ]
     },
     "metadata": {},
     "output_type": "display_data"
    },
    {
     "data": {
      "text/plain": [
       "<Figure size 1600x1200 with 0 Axes>"
      ]
     },
     "metadata": {},
     "output_type": "display_data"
    },
    {
     "data": {
      "text/plain": [
       "<Figure size 1600x1200 with 0 Axes>"
      ]
     },
     "metadata": {},
     "output_type": "display_data"
    },
    {
     "data": {
      "text/plain": [
       "<Figure size 1600x1200 with 0 Axes>"
      ]
     },
     "metadata": {},
     "output_type": "display_data"
    },
    {
     "data": {
      "text/plain": [
       "<Figure size 1600x1200 with 0 Axes>"
      ]
     },
     "metadata": {},
     "output_type": "display_data"
    },
    {
     "data": {
      "text/plain": [
       "<Figure size 1600x1200 with 0 Axes>"
      ]
     },
     "metadata": {},
     "output_type": "display_data"
    },
    {
     "data": {
      "text/plain": [
       "<Figure size 1600x1200 with 0 Axes>"
      ]
     },
     "metadata": {},
     "output_type": "display_data"
    },
    {
     "data": {
      "text/plain": [
       "<Figure size 1600x1200 with 0 Axes>"
      ]
     },
     "metadata": {},
     "output_type": "display_data"
    },
    {
     "data": {
      "text/plain": [
       "<Figure size 1600x1200 with 0 Axes>"
      ]
     },
     "metadata": {},
     "output_type": "display_data"
    },
    {
     "data": {
      "text/plain": [
       "<Figure size 1600x1200 with 0 Axes>"
      ]
     },
     "metadata": {},
     "output_type": "display_data"
    },
    {
     "data": {
      "text/plain": [
       "<Figure size 1600x1200 with 0 Axes>"
      ]
     },
     "metadata": {},
     "output_type": "display_data"
    },
    {
     "data": {
      "text/plain": [
       "<Figure size 1600x1200 with 0 Axes>"
      ]
     },
     "metadata": {},
     "output_type": "display_data"
    },
    {
     "data": {
      "text/plain": [
       "<Figure size 1600x1200 with 0 Axes>"
      ]
     },
     "metadata": {},
     "output_type": "display_data"
    },
    {
     "data": {
      "text/plain": [
       "<Figure size 1600x1200 with 0 Axes>"
      ]
     },
     "metadata": {},
     "output_type": "display_data"
    },
    {
     "data": {
      "text/plain": [
       "<Figure size 1600x1200 with 0 Axes>"
      ]
     },
     "metadata": {},
     "output_type": "display_data"
    },
    {
     "data": {
      "text/plain": [
       "<Figure size 1600x1200 with 0 Axes>"
      ]
     },
     "metadata": {},
     "output_type": "display_data"
    },
    {
     "data": {
      "text/plain": [
       "<Figure size 1600x1200 with 0 Axes>"
      ]
     },
     "metadata": {},
     "output_type": "display_data"
    },
    {
     "data": {
      "text/plain": [
       "<Figure size 1600x1200 with 0 Axes>"
      ]
     },
     "metadata": {},
     "output_type": "display_data"
    },
    {
     "data": {
      "text/plain": [
       "<Figure size 1600x1200 with 0 Axes>"
      ]
     },
     "metadata": {},
     "output_type": "display_data"
    },
    {
     "data": {
      "text/plain": [
       "<Figure size 1600x1200 with 0 Axes>"
      ]
     },
     "metadata": {},
     "output_type": "display_data"
    },
    {
     "data": {
      "text/plain": [
       "<Figure size 1600x1200 with 0 Axes>"
      ]
     },
     "metadata": {},
     "output_type": "display_data"
    },
    {
     "data": {
      "text/plain": [
       "<Figure size 1600x1200 with 0 Axes>"
      ]
     },
     "metadata": {},
     "output_type": "display_data"
    },
    {
     "data": {
      "text/plain": [
       "<Figure size 1600x1200 with 0 Axes>"
      ]
     },
     "metadata": {},
     "output_type": "display_data"
    },
    {
     "data": {
      "text/plain": [
       "<Figure size 1600x1200 with 0 Axes>"
      ]
     },
     "metadata": {},
     "output_type": "display_data"
    },
    {
     "data": {
      "text/plain": [
       "<Figure size 1600x1200 with 0 Axes>"
      ]
     },
     "metadata": {},
     "output_type": "display_data"
    },
    {
     "data": {
      "text/plain": [
       "<Figure size 1600x1200 with 0 Axes>"
      ]
     },
     "metadata": {},
     "output_type": "display_data"
    },
    {
     "data": {
      "text/plain": [
       "<Figure size 1600x1200 with 0 Axes>"
      ]
     },
     "metadata": {},
     "output_type": "display_data"
    },
    {
     "data": {
      "text/plain": [
       "<Figure size 1600x1200 with 0 Axes>"
      ]
     },
     "metadata": {},
     "output_type": "display_data"
    },
    {
     "data": {
      "text/plain": [
       "<Figure size 1600x1200 with 0 Axes>"
      ]
     },
     "metadata": {},
     "output_type": "display_data"
    },
    {
     "data": {
      "text/plain": [
       "<Figure size 1600x1200 with 0 Axes>"
      ]
     },
     "metadata": {},
     "output_type": "display_data"
    },
    {
     "data": {
      "text/plain": [
       "<Figure size 1600x1200 with 0 Axes>"
      ]
     },
     "metadata": {},
     "output_type": "display_data"
    },
    {
     "data": {
      "text/plain": [
       "<Figure size 1600x1200 with 0 Axes>"
      ]
     },
     "metadata": {},
     "output_type": "display_data"
    },
    {
     "data": {
      "text/plain": [
       "<Figure size 1600x1200 with 0 Axes>"
      ]
     },
     "metadata": {},
     "output_type": "display_data"
    },
    {
     "data": {
      "text/plain": [
       "<Figure size 1600x1200 with 0 Axes>"
      ]
     },
     "metadata": {},
     "output_type": "display_data"
    },
    {
     "data": {
      "text/plain": [
       "<Figure size 1600x1200 with 0 Axes>"
      ]
     },
     "metadata": {},
     "output_type": "display_data"
    },
    {
     "data": {
      "text/plain": [
       "<Figure size 1600x1200 with 0 Axes>"
      ]
     },
     "metadata": {},
     "output_type": "display_data"
    },
    {
     "data": {
      "text/plain": [
       "<Figure size 1600x1200 with 0 Axes>"
      ]
     },
     "metadata": {},
     "output_type": "display_data"
    },
    {
     "data": {
      "text/plain": [
       "<Figure size 1600x1200 with 0 Axes>"
      ]
     },
     "metadata": {},
     "output_type": "display_data"
    },
    {
     "data": {
      "text/plain": [
       "<Figure size 1600x1200 with 0 Axes>"
      ]
     },
     "metadata": {},
     "output_type": "display_data"
    },
    {
     "data": {
      "text/plain": [
       "<Figure size 1600x1200 with 0 Axes>"
      ]
     },
     "metadata": {},
     "output_type": "display_data"
    },
    {
     "data": {
      "text/plain": [
       "<Figure size 1600x1200 with 0 Axes>"
      ]
     },
     "metadata": {},
     "output_type": "display_data"
    },
    {
     "data": {
      "text/plain": [
       "<Figure size 1600x1200 with 0 Axes>"
      ]
     },
     "metadata": {},
     "output_type": "display_data"
    },
    {
     "data": {
      "text/plain": [
       "<Figure size 1600x1200 with 0 Axes>"
      ]
     },
     "metadata": {},
     "output_type": "display_data"
    },
    {
     "data": {
      "text/plain": [
       "<Figure size 1600x1200 with 0 Axes>"
      ]
     },
     "metadata": {},
     "output_type": "display_data"
    },
    {
     "data": {
      "text/plain": [
       "<Figure size 1600x1200 with 0 Axes>"
      ]
     },
     "metadata": {},
     "output_type": "display_data"
    },
    {
     "data": {
      "text/plain": [
       "<Figure size 1600x1200 with 0 Axes>"
      ]
     },
     "metadata": {},
     "output_type": "display_data"
    },
    {
     "data": {
      "text/plain": [
       "<Figure size 1600x1200 with 0 Axes>"
      ]
     },
     "metadata": {},
     "output_type": "display_data"
    },
    {
     "data": {
      "text/plain": [
       "<Figure size 1600x1200 with 0 Axes>"
      ]
     },
     "metadata": {},
     "output_type": "display_data"
    },
    {
     "data": {
      "text/plain": [
       "<Figure size 1600x1200 with 0 Axes>"
      ]
     },
     "metadata": {},
     "output_type": "display_data"
    },
    {
     "data": {
      "text/plain": [
       "<Figure size 1600x1200 with 0 Axes>"
      ]
     },
     "metadata": {},
     "output_type": "display_data"
    },
    {
     "data": {
      "text/plain": [
       "<Figure size 1600x1200 with 0 Axes>"
      ]
     },
     "metadata": {},
     "output_type": "display_data"
    },
    {
     "data": {
      "text/plain": [
       "<Figure size 1600x1200 with 0 Axes>"
      ]
     },
     "metadata": {},
     "output_type": "display_data"
    },
    {
     "data": {
      "text/plain": [
       "<Figure size 1600x1200 with 0 Axes>"
      ]
     },
     "metadata": {},
     "output_type": "display_data"
    },
    {
     "data": {
      "text/plain": [
       "<Figure size 1600x1200 with 0 Axes>"
      ]
     },
     "metadata": {},
     "output_type": "display_data"
    },
    {
     "data": {
      "text/plain": [
       "<Figure size 1600x1200 with 0 Axes>"
      ]
     },
     "metadata": {},
     "output_type": "display_data"
    },
    {
     "data": {
      "text/plain": [
       "<Figure size 1600x1200 with 0 Axes>"
      ]
     },
     "metadata": {},
     "output_type": "display_data"
    },
    {
     "data": {
      "text/plain": [
       "<Figure size 1600x1200 with 0 Axes>"
      ]
     },
     "metadata": {},
     "output_type": "display_data"
    },
    {
     "data": {
      "text/plain": [
       "<Figure size 1600x1200 with 0 Axes>"
      ]
     },
     "metadata": {},
     "output_type": "display_data"
    },
    {
     "data": {
      "text/plain": [
       "<Figure size 1600x1200 with 0 Axes>"
      ]
     },
     "metadata": {},
     "output_type": "display_data"
    },
    {
     "data": {
      "text/plain": [
       "<Figure size 1600x1200 with 0 Axes>"
      ]
     },
     "metadata": {},
     "output_type": "display_data"
    },
    {
     "data": {
      "text/plain": [
       "<Figure size 1600x1200 with 0 Axes>"
      ]
     },
     "metadata": {},
     "output_type": "display_data"
    },
    {
     "data": {
      "text/plain": [
       "<Figure size 1600x1200 with 0 Axes>"
      ]
     },
     "metadata": {},
     "output_type": "display_data"
    },
    {
     "data": {
      "text/plain": [
       "<Figure size 1600x1200 with 0 Axes>"
      ]
     },
     "metadata": {},
     "output_type": "display_data"
    },
    {
     "data": {
      "text/plain": [
       "<Figure size 1600x1200 with 0 Axes>"
      ]
     },
     "metadata": {},
     "output_type": "display_data"
    },
    {
     "data": {
      "text/plain": [
       "<Figure size 1600x1200 with 0 Axes>"
      ]
     },
     "metadata": {},
     "output_type": "display_data"
    },
    {
     "data": {
      "text/plain": [
       "<Figure size 1600x1200 with 0 Axes>"
      ]
     },
     "metadata": {},
     "output_type": "display_data"
    },
    {
     "data": {
      "text/plain": [
       "<Figure size 1600x1200 with 0 Axes>"
      ]
     },
     "metadata": {},
     "output_type": "display_data"
    },
    {
     "data": {
      "text/plain": [
       "<Figure size 1600x1200 with 0 Axes>"
      ]
     },
     "metadata": {},
     "output_type": "display_data"
    },
    {
     "data": {
      "text/plain": [
       "<Figure size 1600x1200 with 0 Axes>"
      ]
     },
     "metadata": {},
     "output_type": "display_data"
    },
    {
     "data": {
      "text/plain": [
       "<Figure size 1600x1200 with 0 Axes>"
      ]
     },
     "metadata": {},
     "output_type": "display_data"
    },
    {
     "data": {
      "text/plain": [
       "<Figure size 1600x1200 with 0 Axes>"
      ]
     },
     "metadata": {},
     "output_type": "display_data"
    },
    {
     "data": {
      "text/plain": [
       "<Figure size 1600x1200 with 0 Axes>"
      ]
     },
     "metadata": {},
     "output_type": "display_data"
    },
    {
     "data": {
      "text/plain": [
       "<Figure size 1600x1200 with 0 Axes>"
      ]
     },
     "metadata": {},
     "output_type": "display_data"
    },
    {
     "data": {
      "text/plain": [
       "<Figure size 1600x1200 with 0 Axes>"
      ]
     },
     "metadata": {},
     "output_type": "display_data"
    },
    {
     "data": {
      "text/plain": [
       "<Figure size 1600x1200 with 0 Axes>"
      ]
     },
     "metadata": {},
     "output_type": "display_data"
    },
    {
     "data": {
      "text/plain": [
       "<Figure size 1600x1200 with 0 Axes>"
      ]
     },
     "metadata": {},
     "output_type": "display_data"
    }
   ],
   "source": [
    "%matplotlib inline\n",
    "for xml_file in list_files:\n",
    "    print(xml_file)\n",
    "    image = cv2.imread('/home/ubuntu/gfav/repos/detectron2/datasets/VOC2007/JPEGImages/' + xml_file[:-4] + '.jpg')\n",
    "    root = ET.parse('/home/ubuntu/gfav/repos/detectron2/datasets/VOC2007/Annotations/' + xml_file).getroot()\n",
    "    some_objects = root.findall('object')\n",
    "    for bbox in some_objects:\n",
    "        label = bbox[0].text\n",
    "        xmin = int(bbox[4][0].text)\n",
    "        ymin = int(bbox[4][1].text)\n",
    "        xmax = int(bbox[4][2].text)\n",
    "        ymax = int(bbox[4][3].text)\n",
    "        cv2.rectangle(image, (xmin, ymin), (xmax, ymax),(255,0,0),5)\n",
    "        print(label)\n",
    "    figure(num=None, figsize=(8, 6), dpi=200, facecolor='w', edgecolor='k')\n",
    "    cv2.imwrite('/home/ubuntu/gfav/data/phase2/frames_with_bbox/' + xml_file[:-4] + '.jpg', image)\n",
    "#     plt.imshow(cv2.cvtColor(image, cv2.COLOR_BGR2RGB))\n",
    "#     plt.show()\n",
    "#     break"
   ]
  },
  {
   "cell_type": "markdown",
   "metadata": {},
   "source": [
    "### Renaming the idlers images and editing the xml's"
   ]
  },
  {
   "cell_type": "code",
   "execution_count": 1,
   "metadata": {},
   "outputs": [],
   "source": [
    "import os\n",
    "import xml.etree.ElementTree as ET\n",
    "import cv2\n",
    "import numpy as np"
   ]
  },
  {
   "cell_type": "code",
   "execution_count": 2,
   "metadata": {},
   "outputs": [],
   "source": [
    "label_list = os.listdir('/home/ubuntu/gfav/data/phase2/labels/DJI_0002_0/')"
   ]
  },
  {
   "cell_type": "code",
   "execution_count": 3,
   "metadata": {},
   "outputs": [],
   "source": [
    "for xml_file in label_list:\n",
    "    image = cv2.imread('/home/ubuntu/gfav/repos/detectron2/datasets/VOC2007/JPEGImages/' + xml_file[:-4] + '.jpg')\n",
    "    et = ET.parse('/home/ubuntu/gfav/repos/detectron2/datasets/VOC2007/Annotations/' + xml_file)\n",
    "    root = et.getroot()\n",
    "    file_name = root.findall('filename')\n",
    "    pathh = root.findall('path')\n",
    "#     print(pathh[0].text, type(pathh[0].text))\n",
    "    file_name[0].text = file_name[0].text[4:8] + file_name[0].text[9:10] + \\\n",
    "        format(int(file_name[0].text[11:-4]), '05d') + file_name[0].text[-4:]\n",
    "    pathh[0].text = pathh[0].text[:12] + file_name[0].text\n",
    "    et.write('/home/ubuntu/gfav/data/phase2/labels_int_format/DJI_0002_0/' + file_name[0].text[:-4] + '.xml')\n",
    "#     print(pathh[0].text, type(pathh[0].text))\n",
    "    cv2.imwrite(\"/home/ubuntu/gfav/data/phase2/rgb_frames_int/DJI_0002_0/\" + file_name[0].text, image)"
   ]
  },
  {
   "cell_type": "code",
   "execution_count": 2,
   "metadata": {},
   "outputs": [],
   "source": [
    "label_list = os.listdir('/home/ubuntu/gfav/repos/detectron2/datasets/VOC2007/Annotations/')"
   ]
  },
  {
   "cell_type": "code",
   "execution_count": 3,
   "metadata": {},
   "outputs": [],
   "source": [
    "for xml_file in label_list:\n",
    "    et = ET.parse('/home/ubuntu/gfav/repos/detectron2/datasets/VOC2007/Annotations/' + xml_file)\n",
    "    root = et.getroot()\n",
    "    some_objects = root.findall('object')\n",
    "    for bbox in some_objects:\n",
    "        bbox[2].text = '0'\n",
    "        bbox[3].text = '0'\n",
    "    et.write('/home/ubuntu/gfav/repos/detectron2/datasets/VOC2007/Annotations/' + xml_file)"
   ]
  },
  {
   "cell_type": "code",
   "execution_count": null,
   "metadata": {},
   "outputs": [],
   "source": []
  }
 ],
 "metadata": {
  "kernelspec": {
   "display_name": "Environment (conda_conda_env_py3_detectron2)",
   "language": "python",
   "name": "conda_conda_env_py3_detectron2"
  },
  "language_info": {
   "codemirror_mode": {
    "name": "ipython",
    "version": 3
   },
   "file_extension": ".py",
   "mimetype": "text/x-python",
   "name": "python",
   "nbconvert_exporter": "python",
   "pygments_lexer": "ipython3",
   "version": "3.6.9"
  }
 },
 "nbformat": 4,
 "nbformat_minor": 2
}
