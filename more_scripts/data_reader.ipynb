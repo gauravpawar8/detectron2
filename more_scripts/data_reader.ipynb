{
 "cells": [
  {
   "cell_type": "code",
   "execution_count": 2,
   "metadata": {},
   "outputs": [],
   "source": [
    "import cv2\n",
    "import numpy as np\n",
    "from matplotlib import pyplot as plt"
   ]
  },
  {
   "cell_type": "markdown",
   "metadata": {},
   "source": [
    "### extract frames at particular frequency"
   ]
  },
  {
   "cell_type": "code",
   "execution_count": 6,
   "metadata": {
    "scrolled": true
   },
   "outputs": [],
   "source": [
    "%matplotlib notebook\n",
    "cap = cv2.VideoCapture('./phase3/CV4_OpenPit/DJI_0011.mov')\n",
    "index = 0\n",
    "while(cap.isOpened()):\n",
    "    ret, frame = cap.read()\n",
    "    if frame is None:\n",
    "        break\n",
    "#     frame = cv2.resize(frame, (0, 0), fx=0.5, fy=0.5)\n",
    "    if index%90==0:\n",
    "        cv2.imwrite('./phase3/rgb_frames/DJI_3011_0/DJI_3011_0_' + format(index//90, '05d') + '.jpg', frame)\n",
    "#     plt.imshow(frame)\n",
    "    index += 1\n",
    "cap.release()"
   ]
  },
  {
   "cell_type": "markdown",
   "metadata": {},
   "source": [
    "### calculate frame rate ratio for IR and RGB video"
   ]
  },
  {
   "cell_type": "code",
   "execution_count": 10,
   "metadata": {},
   "outputs": [
    {
     "name": "stdout",
     "output_type": "stream",
     "text": [
      "9386\n"
     ]
    }
   ],
   "source": [
    "cap = cv2.VideoCapture('./phase3/CV3_OpenPit/DJI_0005.mov')\n",
    "index = 0\n",
    "while(cap.isOpened()):\n",
    "    ret, frame = cap.read()\n",
    "    if frame is None:\n",
    "        break\n",
    "    index += 1\n",
    "cap.release()\n",
    "print(index)"
   ]
  },
  {
   "cell_type": "code",
   "execution_count": 8,
   "metadata": {},
   "outputs": [
    {
     "name": "stdout",
     "output_type": "stream",
     "text": [
      "0.9908372827804107\n"
     ]
    }
   ],
   "source": [
    "DJI_3002_0_IR_frame_count = 3165\n",
    "DJI_3002_0_RGB_frame_count = 3136\n",
    "RGB_to_IR_ratio = DJI_3002_0_RGB_frame_count / DJI_3002_0_IR_frame_count\n",
    "print(RGB_to_IR_ratio)"
   ]
  },
  {
   "cell_type": "code",
   "execution_count": 11,
   "metadata": {},
   "outputs": [
    {
     "name": "stdout",
     "output_type": "stream",
     "text": [
      "0.9910252349276739\n"
     ]
    }
   ],
   "source": [
    "DJI_3005_0_IR_frame_count = 9471\n",
    "DJI_3005_0_RGB_frame_count = 9386\n",
    "RGB_to_IR_ratio = DJI_3005_0_RGB_frame_count / DJI_3005_0_IR_frame_count\n",
    "print(RGB_to_IR_ratio)"
   ]
  },
  {
   "cell_type": "markdown",
   "metadata": {},
   "source": [
    "### calculate time to write the frame to harddisk"
   ]
  },
  {
   "cell_type": "code",
   "execution_count": 2,
   "metadata": {},
   "outputs": [
    {
     "name": "stdout",
     "output_type": "stream",
     "text": [
      "1573822043.7080898\n",
      "1573823481.0536103\n",
      "1437.3455204963684\n"
     ]
    }
   ],
   "source": [
    "import time\n",
    "t1 = time.time()\n",
    "print(t1)\n",
    "cap = cv2.VideoCapture('./phase2/rgb_videos/DJI_0001_2.mov')\n",
    "index = 0\n",
    "while(cap.isOpened()):\n",
    "    ret, frame = cap.read()\n",
    "    if frame is None:\n",
    "        break\n",
    "    cv2.imwrite('./temp/' + str(index) + '.jpg', frame)\n",
    "    index += 1\n",
    "cap.release()\n",
    "t2 = time.time()\n",
    "print(t2)\n",
    "print(t2 - t1)"
   ]
  },
  {
   "cell_type": "markdown",
   "metadata": {},
   "source": [
    "image size: 1920 X 1080\n",
    "Number of Frames: 29.72*(16*60 + 37) = 29, 630 frames\n",
    "Intel(R) Xeon(R) CPU E5-2686 v4 @ 2.30GHz,  ran on one core, under 1 GB ram usage\n",
    "Total time: 1437.3455204963684\n",
    "    "
   ]
  }
 ],
 "metadata": {
  "kernelspec": {
   "display_name": "Environment (conda_conda_env_py3_detectron2)",
   "language": "python",
   "name": "conda_conda_env_py3_detectron2"
  },
  "language_info": {
   "codemirror_mode": {
    "name": "ipython",
    "version": 3
   },
   "file_extension": ".py",
   "mimetype": "text/x-python",
   "name": "python",
   "nbconvert_exporter": "python",
   "pygments_lexer": "ipython3",
   "version": "3.6.9"
  }
 },
 "nbformat": 4,
 "nbformat_minor": 2
}
